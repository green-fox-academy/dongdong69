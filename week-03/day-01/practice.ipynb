{
 "cells": [
  {
   "cell_type": "markdown",
   "metadata": {},
   "source": [
    "## Library"
   ]
  },
  {
   "cell_type": "code",
   "execution_count": 14,
   "metadata": {},
   "outputs": [],
   "source": [
    "class Books:\n",
    "    def __init__(self, author = \"\", title = \"\", year = \"\"):\n",
    "        self.author = author\n",
    "        self.title = title\n",
    "        self.year = year\n",
    "        \n",
    "    def __str__(self):\n",
    "        return f\"{self.author}: {self.title} ({self.year})\""
   ]
  },
  {
   "cell_type": "code",
   "execution_count": 15,
   "metadata": {},
   "outputs": [
    {
     "name": "stdout",
     "output_type": "stream",
     "text": [
      "Douglas Adams: The Hitchhiker's Guide to the Galaxy (1979)\n"
     ]
    }
   ],
   "source": [
    "b = Books(\"Douglas Adams\", \"The Hitchhiker's Guide to the Galaxy\", \"1979\")\n",
    "print(b)"
   ]
  },
  {
   "cell_type": "code",
   "execution_count": 58,
   "metadata": {},
   "outputs": [],
   "source": [
    "class Bookshelf:\n",
    "    def __init__(self, book_list = []):\n",
    "        self.book_list = book_list\n",
    "        \n",
    "    def addBook(self, book = Books()):\n",
    "        self.book_list.append(book)\n",
    "    \n",
    "    def removeBook(self, other_book):\n",
    "        for book in self.book_list:\n",
    "            if book.title == other_book.title:\n",
    "                book_list.remove(book)\n",
    "                break\n",
    "                \n",
    "    def favouriteAuthor(self):\n",
    "        author_number_books = {}\n",
    "        for book in self.book_list:\n",
    "            if book.author not in author_number_books:\n",
    "                author_number_books[book.author] = 1\n",
    "            else:\n",
    "                author_number_books[book.author] += 1\n",
    "        \n",
    "        most_author = \"\"\n",
    "        most_number = 0\n",
    "        for book.author in author_number_books:\n",
    "            if author_number_books[book.author] > most_number:\n",
    "                most_author = book.author\n",
    "                most_number = author_number_books[book.author]\n",
    "                \n",
    "        return most_author\n",
    "    \n",
    "    def earliestPublished(self):\n",
    "        earliest_year = 3000\n",
    "        earliest_book = Books()\n",
    "        for book in self.book_list:\n",
    "            if int(book.year) < earliest_year:\n",
    "                earliest_year = int(book.year)\n",
    "                earliest_book = book\n",
    "                \n",
    "        return earliest_book\n",
    "\n",
    "    def latestPublished(self):\n",
    "        latest_year = 0\n",
    "        latest_book = Books()\n",
    "        for book in self.book_list:\n",
    "            if int(book.year) > latest_year:\n",
    "                latest_year = int(book.year)\n",
    "                latest_book = book\n",
    "                \n",
    "        return latest_book\n",
    "    \n",
    "    def toString(self):\n",
    "        print(f\"number of books: {len(self.book_list)}\")\n",
    "        print(\"The earliest published book is:\")\n",
    "        print(self.earliestPublished())\n",
    "        print(\"The latest published book is:\")\n",
    "        print(self.latestPublished())\n",
    "        print(\"The favourite author is:\")\n",
    "        print(self.favouriteAuthor())\n",
    "        \n",
    "    def lightestBook(self):\n",
    "        lightest = 100000\n",
    "        lightest_book = Books()\n",
    "        for book in self.book_list:\n",
    "            if hasattr(book, 'page_number') and lightest > book.weight:\n",
    "                lightest_book = book\n",
    "                lightest = book.weight\n",
    "                \n",
    "        return lightest_book"
   ]
  },
  {
   "cell_type": "code",
   "execution_count": 59,
   "metadata": {},
   "outputs": [],
   "source": [
    "class HardcoverBook(Books):\n",
    "    def __init__(self, author = \"\", title = \"\", year = \"\", page_number = 0):\n",
    "        Books.__init__(self, author, title, year)\n",
    "        self.page_number = page_number\n",
    "        self.weight = page_number * 10 + 100"
   ]
  },
  {
   "cell_type": "code",
   "execution_count": 60,
   "metadata": {},
   "outputs": [],
   "source": [
    "h = HardcoverBook(\"Changdong\", \"Python\", \"2019\", 1000)"
   ]
  },
  {
   "cell_type": "code",
   "execution_count": 61,
   "metadata": {},
   "outputs": [
    {
     "name": "stdout",
     "output_type": "stream",
     "text": [
      "Changdong: Python (2019)\n"
     ]
    }
   ],
   "source": [
    "print(h)"
   ]
  },
  {
   "cell_type": "code",
   "execution_count": 62,
   "metadata": {},
   "outputs": [],
   "source": [
    "class PaperbackBook(Books):\n",
    "    def __init__(self, author = \"\", title = \"\", year = \"\", page_number = 0):\n",
    "        Books.__init__(self, author, title, year)\n",
    "        self.page_number = page_number\n",
    "        self.weight = page_number * 10 + 20"
   ]
  },
  {
   "cell_type": "code",
   "execution_count": 63,
   "metadata": {},
   "outputs": [
    {
     "name": "stdout",
     "output_type": "stream",
     "text": [
      "Changdong: C++ (2000)\n"
     ]
    }
   ],
   "source": [
    "p = PaperbackBook(\"Changdong\", \"C++\", \"2000\", 200)\n",
    "print(p)"
   ]
  },
  {
   "cell_type": "code",
   "execution_count": 67,
   "metadata": {},
   "outputs": [],
   "source": [
    "BS = Bookshelf([b,h])\n",
    "BS.addBook(p)"
   ]
  },
  {
   "cell_type": "code",
   "execution_count": 68,
   "metadata": {},
   "outputs": [
    {
     "name": "stdout",
     "output_type": "stream",
     "text": [
      "number of books: 3\n",
      "The earliest published book is:\n",
      "Douglas Adams: The Hitchhiker's Guide to the Galaxy (1979)\n",
      "The latest published book is:\n",
      "Changdong: Python (2019)\n",
      "The favourite author is:\n",
      "Changdong\n",
      "The lightest book is:\n",
      "Changdong: C++ (2000)\n"
     ]
    }
   ],
   "source": [
    "BS.toString()\n",
    "print(\"The lightest book is:\")\n",
    "print(BS.lightestBook())"
   ]
  },
  {
   "cell_type": "markdown",
   "metadata": {},
   "source": [
    "## Hero battle"
   ]
  },
  {
   "cell_type": "code",
   "execution_count": 70,
   "metadata": {},
   "outputs": [],
   "source": [
    "class Hero:\n",
    "    def __init__(self, name, motivation):\n",
    "        self.name = name\n",
    "        self.motivation = motivation\n",
    "        \n",
    "    def getMotivationLevel(self):\n",
    "        if self.motivation < 25:\n",
    "            return 0\n",
    "        elif self.motivation < 40:\n",
    "            return 1\n",
    "        else:\n",
    "            return 2\n",
    "        \n",
    "    def punch(self, other_hero):\n",
    "        damage = self.motivation / 1.5\n",
    "        if self.getMotivationLevel() >= 1:\n",
    "            other_hero.bepunched(damage)\n",
    "        \n",
    "    def bepunched(self, damage):\n",
    "        self.motivation = self.motivation - (damage / self.motivation)\n",
    "        \n",
    "    def __str__(self):\n",
    "        level = self.getMotivationLevel()\n",
    "        if level == 0:\n",
    "            return f\"{self.name} is not motivated anymore\"\n",
    "        if level == 1:\n",
    "            return f\"{self.name} is motivated\"\n",
    "        if level == 2:\n",
    "            return f\"{self.name} is well motivated\"\n",
    "    "
   ]
  },
  {
   "cell_type": "code",
   "execution_count": 73,
   "metadata": {},
   "outputs": [],
   "source": [
    "class DCHero(Hero):\n",
    "    def __init__(self, name, motivation = 45):\n",
    "        Hero.__init__(self, name, motivation)\n",
    "        hero_type = \"DC\"\n",
    "        \n",
    "    def punch(self, other_hero):\n",
    "        damage = self.motivation / 1.5\n",
    "        if hasattr(other_hero, 'hero_type') and other_hero.hero_type == \"DC\":\n",
    "            print(\"Not able to punch another DCHero\")\n",
    "        elif self.getMotivationLevel() < 1:\n",
    "            print(\"MotivationLevel is not enough to punch\")\n",
    "        else:\n",
    "            other_hero.bepunched(damage)"
   ]
  },
  {
   "cell_type": "code",
   "execution_count": 74,
   "metadata": {},
   "outputs": [],
   "source": [
    "class MarvelHero(Hero):\n",
    "    def __init__(self, name, motivation = 40):\n",
    "        Hero.__init__(self, name, motivation)\n",
    "        hero_type = \"Marvel\"\n",
    "        \n",
    "    def punch(self, other_hero):\n",
    "        damage = self.motivation / 1.5\n",
    "        if hasattr(other_hero, 'hero_type') and other_hero.hero_type == \"Marvel\":\n",
    "            print(\"Not able to punch another MarvelHero\")\n",
    "        elif self.getMotivationLevel() < 1:\n",
    "            print(\"MotivationLevel is not enough to punch\")\n",
    "        else:\n",
    "            other_hero.bepunched(damage)"
   ]
  },
  {
   "cell_type": "code",
   "execution_count": 85,
   "metadata": {},
   "outputs": [],
   "source": [
    "ironMan = MarvelHero(\"Iron Man\", 200)\n",
    "spyderMan = MarvelHero(\"Spyder Man\", 200)\n",
    "superMan = DCHero(\"super man\")"
   ]
  },
  {
   "cell_type": "code",
   "execution_count": 86,
   "metadata": {},
   "outputs": [
    {
     "name": "stdout",
     "output_type": "stream",
     "text": [
      "Iron Man is well motivated\n",
      "Spyder Man is well motivated\n",
      "super man is well motivated\n",
      "super man is well motivated\n",
      "super man is motivated\n",
      "super man is not motivated anymore\n"
     ]
    }
   ],
   "source": [
    "print(ironMan)\n",
    "print(spyderMan)\n",
    "print(superMan)\n",
    "\n",
    "ironMan.punch(spyderMan)\n",
    "ironMan.punch(superMan)\n",
    "print(superMan)\n",
    "spyderMan.punch(superMan)\n",
    "print(superMan)\n",
    "ironMan.punch(superMan)\n",
    "ironMan.punch(superMan)\n",
    "ironMan.punch(superMan)\n",
    "ironMan.punch(superMan)\n",
    "print(superMan)"
   ]
  },
  {
   "cell_type": "markdown",
   "metadata": {},
   "source": [
    "## Candy shop"
   ]
  },
  {
   "cell_type": "code",
   "execution_count": 87,
   "metadata": {},
   "outputs": [],
   "source": [
    "import abc\n",
    "\n",
    "class Sweet:\n",
    "    __metaclass__ = abc.ABCMeta\n",
    "    \n",
    "    def __init__(self):\n",
    "        self.type = \"\"\n",
    "        self.price = \"\"\n",
    "        self.amount = \"\""
   ]
  },
  {
   "cell_type": "code",
   "execution_count": 88,
   "metadata": {},
   "outputs": [],
   "source": [
    "class Lollipop(Sweet):\n",
    "    def __init__(self):\n",
    "        self.type = \"lollipop\"\n",
    "        self.price = \"10$\"\n",
    "        self.amount = \"5gr\"  "
   ]
  },
  {
   "cell_type": "code",
   "execution_count": 89,
   "metadata": {},
   "outputs": [],
   "source": [
    "class Candie(Sweet):\n",
    "    def __init__(self):\n",
    "        self.type = \"candie\"\n",
    "        self.price = \"20$\"\n",
    "        self.amount = \"10gr\""
   ]
  },
  {
   "cell_type": "code",
   "execution_count": 156,
   "metadata": {},
   "outputs": [],
   "source": [
    "class CandyShop:\n",
    "    def __init__(self, suger = 100, income = 0, inventory = []):\n",
    "        self.suger = suger\n",
    "        self.income = income\n",
    "        self.inventory = inventory\n",
    "        \n",
    "    def createSeet(self, sweet):\n",
    "        self.inventory.append(sweet)\n",
    "        self.suger = self.suger - int(sweet.amount[:-2])\n",
    "        \n",
    "    def raise_price(self, anmout):\n",
    "        add_price = int(anmout[:-1])\n",
    "        for sweet in self.inventory:\n",
    "            price = int(sweet.price[:-1])\n",
    "            price = price + add_price\n",
    "            sweet.price = str(price) + \"$\"\n",
    "            \n",
    "    def sell(self, amount : int, type):\n",
    "        price = 0\n",
    "        number = 0\n",
    "        for sweet in self.inventory:\n",
    "            if sweet.type == type:\n",
    "                number += 1\n",
    "                price = int(sweet.price[:-1])\n",
    "                \n",
    "        if number < amount:\n",
    "            print(f\"We do not have enough {type}\")\n",
    "            \n",
    "        for i in range(amount):\n",
    "            for sweet in self.inventory:\n",
    "                if sweet.type == type:\n",
    "                    self.inventory.remove(sweet)\n",
    "                    break\n",
    "\n",
    "        self.income += amount * price\n",
    "        \n",
    "    def buySuger(self, amount : int):\n",
    "        int_price = amount//10\n",
    "        if self.income >= int_price:\n",
    "            self.suger += amount\n",
    "            self.income -= int_price\n",
    "        else:\n",
    "            print(\"We do not have enough money\")\n",
    "            \n",
    "    def toString(self):\n",
    "        count = {\"lollipop\" : 0, \"candie\" : 0}\n",
    "        for sweet in self.inventory:\n",
    "            count[sweet.type] += 1\n",
    "            \n",
    "        print(f\"Inventory: {count['candie']} candies, {count['lollipop']} lollipop, Income: {self.income}, Suger: {self.suger}\")\n",
    "        \n",
    "    "
   ]
  },
  {
   "cell_type": "code",
   "execution_count": 157,
   "metadata": {},
   "outputs": [],
   "source": [
    "l = Lollipop()\n",
    "c = Candie()"
   ]
  },
  {
   "cell_type": "code",
   "execution_count": 158,
   "metadata": {},
   "outputs": [],
   "source": [
    "CS = CandyShop()"
   ]
  },
  {
   "cell_type": "code",
   "execution_count": 159,
   "metadata": {},
   "outputs": [
    {
     "name": "stdout",
     "output_type": "stream",
     "text": [
      "Inventory: 0 candies, 0 lollipop, Income: 0, Suger: 100\n"
     ]
    }
   ],
   "source": [
    "CS.toString()"
   ]
  },
  {
   "cell_type": "code",
   "execution_count": 160,
   "metadata": {},
   "outputs": [],
   "source": [
    "CS.createSeet(l)"
   ]
  },
  {
   "cell_type": "code",
   "execution_count": 161,
   "metadata": {},
   "outputs": [
    {
     "name": "stdout",
     "output_type": "stream",
     "text": [
      "Inventory: 0 candies, 1 lollipop, Income: 0, Suger: 95\n"
     ]
    }
   ],
   "source": [
    "CS.toString()"
   ]
  },
  {
   "cell_type": "code",
   "execution_count": 162,
   "metadata": {},
   "outputs": [],
   "source": [
    "CS.raise_price(\"10$\")"
   ]
  },
  {
   "cell_type": "code",
   "execution_count": 163,
   "metadata": {},
   "outputs": [
    {
     "data": {
      "text/plain": [
       "'20$'"
      ]
     },
     "execution_count": 163,
     "metadata": {},
     "output_type": "execute_result"
    }
   ],
   "source": [
    "l.price"
   ]
  },
  {
   "cell_type": "code",
   "execution_count": 164,
   "metadata": {},
   "outputs": [],
   "source": [
    "CS.sell(1, \"lollipop\")"
   ]
  },
  {
   "cell_type": "code",
   "execution_count": 165,
   "metadata": {},
   "outputs": [
    {
     "name": "stdout",
     "output_type": "stream",
     "text": [
      "Inventory: 0 candies, 0 lollipop, Income: 20, Suger: 95\n"
     ]
    }
   ],
   "source": [
    "CS.toString()"
   ]
  },
  {
   "cell_type": "code",
   "execution_count": 166,
   "metadata": {},
   "outputs": [],
   "source": [
    "CS.buySuger(20)"
   ]
  },
  {
   "cell_type": "code",
   "execution_count": 167,
   "metadata": {},
   "outputs": [
    {
     "name": "stdout",
     "output_type": "stream",
     "text": [
      "Inventory: 0 candies, 0 lollipop, Income: 18, Suger: 115\n"
     ]
    }
   ],
   "source": [
    "CS.toString()"
   ]
  },
  {
   "cell_type": "markdown",
   "metadata": {},
   "source": [
    "## Fish tank"
   ]
  },
  {
   "cell_type": "code",
   "execution_count": 186,
   "metadata": {},
   "outputs": [],
   "source": [
    "class Fish(metaclass = abc.ABCMeta):\n",
    "    \n",
    "    def __init__(self, name, weight, color):\n",
    "        self.name = name\n",
    "        self.weight = weight\n",
    "        self.color = color\n",
    "        \n",
    "    def status(self):\n",
    "        print(f\"{self.name}, weight : {self.weight}, coloer : {self.color}, short-term memory loss: true\")\n",
    "    \n",
    "    @abc.abstractmethod\n",
    "    def feed(self):\n",
    "        pass"
   ]
  },
  {
   "cell_type": "code",
   "execution_count": 188,
   "metadata": {},
   "outputs": [
    {
     "ename": "TypeError",
     "evalue": "Can't instantiate abstract class Fish with abstract methods feed",
     "output_type": "error",
     "traceback": [
      "\u001b[1;31m---------------------------------------------------------------------------\u001b[0m",
      "\u001b[1;31mTypeError\u001b[0m                                 Traceback (most recent call last)",
      "\u001b[1;32m<ipython-input-188-506598087305>\u001b[0m in \u001b[0;36m<module>\u001b[1;34m()\u001b[0m\n\u001b[1;32m----> 1\u001b[1;33m \u001b[0mf\u001b[0m \u001b[1;33m=\u001b[0m \u001b[0mFish\u001b[0m\u001b[1;33m(\u001b[0m\u001b[1;34m\"qwe\"\u001b[0m\u001b[1;33m,\u001b[0m \u001b[1;36m1\u001b[0m\u001b[1;33m,\u001b[0m \u001b[1;34m\"blue\"\u001b[0m\u001b[1;33m)\u001b[0m\u001b[1;33m\u001b[0m\u001b[0m\n\u001b[0m",
      "\u001b[1;31mTypeError\u001b[0m: Can't instantiate abstract class Fish with abstract methods feed"
     ]
    }
   ],
   "source": [
    "f = Fish(\"qwe\", 1, \"blue\")"
   ]
  },
  {
   "cell_type": "code",
   "execution_count": 197,
   "metadata": {},
   "outputs": [],
   "source": [
    "class Clownfish(Fish):\n",
    "    def __init__(self, name, weight):\n",
    "        Fish.__init__(self, name, weight, \"stripe\")\n",
    "    \n",
    "    def feed(self):\n",
    "        self.weight += 1"
   ]
  },
  {
   "cell_type": "code",
   "execution_count": 198,
   "metadata": {},
   "outputs": [],
   "source": [
    "cfish = Clownfish(\"Changdong\", 0)"
   ]
  },
  {
   "cell_type": "code",
   "execution_count": 199,
   "metadata": {},
   "outputs": [
    {
     "name": "stdout",
     "output_type": "stream",
     "text": [
      "Changdong, weight : 0, coloer : stripe, short-term memory loss: true\n"
     ]
    }
   ],
   "source": [
    "cfish.status()"
   ]
  },
  {
   "cell_type": "code",
   "execution_count": 200,
   "metadata": {},
   "outputs": [
    {
     "name": "stdout",
     "output_type": "stream",
     "text": [
      "Changdong, weight : 1, coloer : stripe, short-term memory loss: true\n"
     ]
    }
   ],
   "source": [
    "cfish.feed()\n",
    "cfish.status()"
   ]
  },
  {
   "cell_type": "code",
   "execution_count": 201,
   "metadata": {},
   "outputs": [],
   "source": [
    "class Kong(Fish):\n",
    "    def __init__(self, name, weight, color):\n",
    "        Fish.__init__(self, name, weight, color)\n",
    "    \n",
    "    def feed(self):\n",
    "        self.weight += 2"
   ]
  },
  {
   "cell_type": "code",
   "execution_count": 215,
   "metadata": {},
   "outputs": [
    {
     "name": "stdout",
     "output_type": "stream",
     "text": [
      "Kong, weight : 1, coloer : red, short-term memory loss: true\n",
      "Kong, weight : 3, coloer : red, short-term memory loss: true\n"
     ]
    }
   ],
   "source": [
    "kfish = Kong(\"Kong\", 1, \"red\")\n",
    "kfish.status()\n",
    "kfish.feed()\n",
    "kfish.status()"
   ]
  },
  {
   "cell_type": "code",
   "execution_count": 219,
   "metadata": {},
   "outputs": [],
   "source": [
    "class Aquarium:\n",
    "    \n",
    "    def __init__(self, fish_list = []):\n",
    "        self.fishlist = fish_list\n",
    "        \n",
    "    def addFish(self, fish):\n",
    "        self.fishlist.append(fish)\n",
    "        \n",
    "    def feedAll(self):\n",
    "        for fish in self.fishlist:\n",
    "            fish.feed()\n",
    "            \n",
    "    def removeBigFish(self):\n",
    "        self.fishlist = [fish for fish in self.fishlist if fish.weight < 11]\n",
    "        \n",
    "    def status(self):\n",
    "        for fish in self.fishlist:\n",
    "            fish.status()\n",
    "        \n",
    "    "
   ]
  },
  {
   "cell_type": "code",
   "execution_count": 220,
   "metadata": {},
   "outputs": [],
   "source": [
    "A = Aquarium()"
   ]
  },
  {
   "cell_type": "code",
   "execution_count": 221,
   "metadata": {},
   "outputs": [],
   "source": [
    "A.addFish(kfish)"
   ]
  },
  {
   "cell_type": "code",
   "execution_count": 222,
   "metadata": {},
   "outputs": [
    {
     "name": "stdout",
     "output_type": "stream",
     "text": [
      "Kong, weight : 3, coloer : red, short-term memory loss: true\n",
      "Changdong, weight : 1, coloer : stripe, short-term memory loss: true\n"
     ]
    }
   ],
   "source": [
    "A.addFish(cfish)\n",
    "A.status()"
   ]
  },
  {
   "cell_type": "code",
   "execution_count": 223,
   "metadata": {},
   "outputs": [],
   "source": [
    "A.feedAll()"
   ]
  },
  {
   "cell_type": "code",
   "execution_count": 225,
   "metadata": {},
   "outputs": [
    {
     "name": "stdout",
     "output_type": "stream",
     "text": [
      "Kong, weight : 5, coloer : red, short-term memory loss: true\n",
      "Changdong, weight : 2, coloer : stripe, short-term memory loss: true\n",
      "Kong, weight : 11, coloer : red, short-term memory loss: true\n",
      "Changdong, weight : 5, coloer : stripe, short-term memory loss: true\n"
     ]
    }
   ],
   "source": [
    "A.status()\n",
    "A.feedAll()\n",
    "A.feedAll()\n",
    "A.feedAll()\n",
    "A.status()"
   ]
  },
  {
   "cell_type": "code",
   "execution_count": 226,
   "metadata": {},
   "outputs": [
    {
     "name": "stdout",
     "output_type": "stream",
     "text": [
      "Changdong, weight : 5, coloer : stripe, short-term memory loss: true\n"
     ]
    }
   ],
   "source": [
    "A.removeBigFish()\n",
    "A.status()"
   ]
  },
  {
   "cell_type": "markdown",
   "metadata": {},
   "source": [
    "## Forest simulator"
   ]
  },
  {
   "cell_type": "code",
   "execution_count": 231,
   "metadata": {},
   "outputs": [],
   "source": [
    "import abc\n",
    "class Tree:\n",
    "    __metaclass__ = abc.ABCMeta\n",
    "    \n",
    "    def __init__(self, height = 0):\n",
    "        self.height = height\n",
    "        \n",
    "    @abc.abstractmethod\n",
    "    def irrigate(self):\n",
    "        pass\n",
    "    \n",
    "    def getHeight(self):\n",
    "        return self.height"
   ]
  },
  {
   "cell_type": "code",
   "execution_count": 232,
   "metadata": {},
   "outputs": [],
   "source": [
    "class WhitebarkPine(Tree):\n",
    "    def irrigate(self):\n",
    "        self.height += 2"
   ]
  },
  {
   "cell_type": "code",
   "execution_count": null,
   "metadata": {},
   "outputs": [],
   "source": [
    "class FoxtailPine(Tree):\n",
    "    def irrigate(self):\n",
    "        self.height += 1"
   ]
  },
  {
   "cell_type": "code",
   "execution_count": 237,
   "metadata": {},
   "outputs": [],
   "source": [
    "class Lumberjack:\n",
    "    def canCut(tree):\n",
    "        return tree.height > 4"
   ]
  },
  {
   "cell_type": "code",
   "execution_count": 238,
   "metadata": {},
   "outputs": [],
   "source": [
    "class Forest:\n",
    "    def __init__(self, trees = []):\n",
    "        self.trees = trees\n",
    "        \n",
    "    def rain(self):\n",
    "        for tree in self.trees:\n",
    "            tree.irrigate()\n",
    "            \n",
    "    def cutTrees(self, lumberjack):\n",
    "        self.trees = [tree for tree in self.trees if not lumberjack.canCut(tree)]\n",
    "        \n",
    "    def isEmpyt(self):\n",
    "        if len(trees) is 0:\n",
    "            return True\n",
    "        else:\n",
    "            return False\n",
    "        \n",
    "    def getStatus(self):\n",
    "        status_list = []\n",
    "        for tree in self.trees:\n",
    "            status_list.append(f\"There is a {tree.height} tall tree in the forest\")\n",
    "            \n",
    "        return status_list"
   ]
  },
  {
   "cell_type": "code",
   "execution_count": 239,
   "metadata": {},
   "outputs": [],
   "source": [
    "WPTree = WhitebarkPine(4)"
   ]
  },
  {
   "cell_type": "code",
   "execution_count": 240,
   "metadata": {},
   "outputs": [
    {
     "data": {
      "text/plain": [
       "4"
      ]
     },
     "execution_count": 240,
     "metadata": {},
     "output_type": "execute_result"
    }
   ],
   "source": [
    "WPTree.height"
   ]
  },
  {
   "cell_type": "code",
   "execution_count": null,
   "metadata": {},
   "outputs": [],
   "source": []
  }
 ],
 "metadata": {
  "kernelspec": {
   "display_name": "Python 3",
   "language": "python",
   "name": "python3"
  },
  "language_info": {
   "codemirror_mode": {
    "name": "ipython",
    "version": 3
   },
   "file_extension": ".py",
   "mimetype": "text/x-python",
   "name": "python",
   "nbconvert_exporter": "python",
   "pygments_lexer": "ipython3",
   "version": "3.7.0"
  }
 },
 "nbformat": 4,
 "nbformat_minor": 2
}
