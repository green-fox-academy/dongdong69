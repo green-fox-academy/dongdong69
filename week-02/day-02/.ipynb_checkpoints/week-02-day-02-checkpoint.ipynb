{
 "cells": [
  {
   "cell_type": "markdown",
   "metadata": {},
   "source": [
    "# <font color=blue> File manipulation exercises <font>"
   ]
  },
  {
   "cell_type": "markdown",
   "metadata": {},
   "source": [
    "## Divide by zero"
   ]
  },
  {
   "cell_type": "code",
   "execution_count": 2,
   "metadata": {},
   "outputs": [
    {
     "name": "stdout",
     "output_type": "stream",
     "text": [
      "Please input a number: 0\n",
      "Please input a number except 0\n",
      "Please input a number: 4\n",
      "\n",
      "2.5\n"
     ]
    }
   ],
   "source": [
    "while True:\n",
    "    try:\n",
    "        number = int(input(\"Please input a number: \"))\n",
    "        result = 10 / number\n",
    "        print()\n",
    "        print(result)\n",
    "        break\n",
    "    except ZeroDivisionError:\n",
    "        print(\"Please input a number except 0\")"
   ]
  },
  {
   "cell_type": "markdown",
   "metadata": {},
   "source": [
    "## print_each_line"
   ]
  },
  {
   "cell_type": "code",
   "execution_count": 3,
   "metadata": {},
   "outputs": [
    {
     "name": "stdout",
     "output_type": "stream",
     "text": [
      "This is the first line\n",
      "This is the second line\n",
      "Hello Changdong!\n",
      "THe end!\n",
      "\n"
     ]
    }
   ],
   "source": [
    "try:\n",
    "    fr = open(\"my-file.txt\", \"r\")\n",
    "    lines = fr.read()\n",
    "    print(lines)\n",
    "except OSError:\n",
    "    print( \"Unable to read file: my-file.txt\")\n",
    "    \n",
    "fr.close()"
   ]
  },
  {
   "cell_type": "markdown",
   "metadata": {},
   "source": [
    "## count_lines.py"
   ]
  },
  {
   "cell_type": "code",
   "execution_count": 4,
   "metadata": {},
   "outputs": [
    {
     "name": "stdout",
     "output_type": "stream",
     "text": [
      "4\n"
     ]
    }
   ],
   "source": [
    "try:\n",
    "    fr = open(\"my-file.txt\", \"r\")\n",
    "    lines = fr.readlines()\n",
    "    print(len(lines))\n",
    "except OSError:\n",
    "    print( \"0\")\n",
    "    \n",
    "fr.close()"
   ]
  },
  {
   "cell_type": "markdown",
   "metadata": {},
   "source": [
    "## write_single_line"
   ]
  },
  {
   "cell_type": "code",
   "execution_count": 5,
   "metadata": {},
   "outputs": [],
   "source": [
    "try:  \n",
    "    fw = open(\"file_write.txt\", \"a\")\n",
    "    fw.write(\"/nChangdong!\")\n",
    "except OSError:\n",
    "    print(\"Unable to write file: my-file.txt\")"
   ]
  },
  {
   "cell_type": "markdown",
   "metadata": {},
   "source": [
    "## write_multiple_lines"
   ]
  },
  {
   "cell_type": "code",
   "execution_count": 6,
   "metadata": {},
   "outputs": [],
   "source": [
    "def write_multiple_lines(path, word, number):\n",
    "    try:\n",
    "        fw = open(path, \"a\")\n",
    "        for i in range(number):\n",
    "            fw.write(f\"/n{word}\")\n",
    "    except OSError:\n",
    "        print(f\"Unable to write file: {path}\")"
   ]
  },
  {
   "cell_type": "markdown",
   "metadata": {},
   "source": [
    "## copy_file"
   ]
  },
  {
   "cell_type": "code",
   "execution_count": 7,
   "metadata": {},
   "outputs": [],
   "source": [
    "def copy_file(path, copy_path):\n",
    "    try:\n",
    "        fr = open(path, \"r\")\n",
    "        lines = fr.read()\n",
    "    except OSError:\n",
    "        print(f\"Unable to write file: {path}\")\n",
    "    fr.close()\n",
    "    \n",
    "    try:\n",
    "        fw = open(copy_path, \"w\")\n",
    "        fw.write(lines)\n",
    "    except OSError:\n",
    "        print(f\"Unable to write file: {copy_path}\")"
   ]
  },
  {
   "cell_type": "markdown",
   "metadata": {},
   "source": [
    "## tic_tac_toe"
   ]
  },
  {
   "cell_type": "code",
   "execution_count": 14,
   "metadata": {},
   "outputs": [
    {
     "name": "stdout",
     "output_type": "stream",
     "text": [
      "O\n",
      "X\n",
      "Draw\n"
     ]
    }
   ],
   "source": [
    "# Write a function that takes a filename as a parameter\n",
    "# The file contains an ended Tic-Tac-Toe match\n",
    "# We have provided you some example files (draw.txt, win-x.txt, win-o.txt)\n",
    "# Return \"X\", \"O\" or \"Draw\" based on the input file\n",
    "\n",
    "def tic_tac_result(filename):\n",
    "    fr = open(filename, \"r\")\n",
    "    lines = fr.readlines()\n",
    "    tic_tac_list = []\n",
    "    for line in lines:\n",
    "        for char in line:\n",
    "            if not char is \"\\n\":\n",
    "                tic_tac_list.append(char)\n",
    "                \n",
    "    for i in range(3):\n",
    "        column = tic_tac_list[i::3]\n",
    "        if column.count('O') is 3:\n",
    "            return 'O'\n",
    "        if column.count('X') is 3:\n",
    "            return 'X'\n",
    "        \n",
    "    for i in range(3):\n",
    "        row = tic_tac_list[i*3 : 3 + i*3]\n",
    "        if column.count('O') is 3:\n",
    "            return 'O'\n",
    "        if column.count('X') is 3:\n",
    "            return 'X'\n",
    "    \n",
    "    if tic_tac_list[: : 4].count('O') is 3:\n",
    "        return 'O'\n",
    "    if tic_tac_list[: : 4].count('X') is 3:\n",
    "        return 'X'\n",
    "    \n",
    "    if tic_tac_list[2: : 2].count('O') is 3:\n",
    "        return 'O'\n",
    "    if tic_tac_list[2: : 2].count('X') is 3:\n",
    "        return 'X'\n",
    "            \n",
    "    return \"Draw\"\n",
    "\n",
    "print(tic_tac_result(\"win-o.txt\"))\n",
    "# Should print \"O\"\n",
    "\n",
    "print(tic_tac_result(\"win-x.txt\"))\n",
    "# Should print \"X\"\n",
    "\n",
    "print(tic_tac_result(\"draw.txt\"))\n",
    "# Should print \"Draw\""
   ]
  },
  {
   "cell_type": "markdown",
   "metadata": {},
   "source": [
    "## logs"
   ]
  },
  {
   "cell_type": "code",
   "execution_count": 19,
   "metadata": {},
   "outputs": [
    {
     "name": "stdout",
     "output_type": "stream",
     "text": [
      "[('32.28.73.45', 'POST'), ('87.46.97.74', 'POST'), ('60.56.36.21', 'POST'), ('60.74.92.50', 'POST'), ('79.37.20.41', 'GET'), ('99.70.32.29', 'POST'), ('88.69.59.80', 'POST'), ('90.17.96.97', 'GET'), ('64.77.86.21', 'GET'), ('91.82.96.76', 'GET'), ('29.72.85.71', 'POST'), ('16.65.54.77', 'POST'), ('28.76.80.93', 'GET'), ('36.71.12.50', 'GET'), ('28.66.73.54', 'GET'), ('17.69.57.95', 'GET'), ('62.30.57.78', 'POST'), ('94.94.61.41', 'GET'), ('90.39.48.51', 'POST'), ('70.28.42.63', 'POST'), ('97.94.22.83', 'POST'), ('38.78.28.13', 'POST'), ('35.83.52.59', 'POST'), ('98.66.66.25', 'GET'), ('52.98.54.45', 'POST'), ('64.87.65.44', 'GET'), ('55.12.23.96', 'POST'), ('32.51.72.29', 'POST'), ('61.72.11.46', 'GET'), ('25.20.83.82', 'POST'), ('27.64.99.89', 'GET'), ('35.62.35.45', 'GET'), ('16.92.14.38', 'GET'), ('60.87.83.37', 'POST'), ('64.39.43.11', 'POST'), ('86.65.58.18', 'POST'), ('28.58.18.66', 'GET'), ('10.44.71.36', 'GET'), ('42.53.40.80', 'GET'), ('98.14.80.68', 'POST'), ('95.48.49.60', 'POST'), ('48.32.56.62', 'GET'), ('59.64.93.90', 'GET'), ('33.34.28.90', 'GET'), ('54.10.57.75', 'POST'), ('12.27.25.57', 'POST'), ('74.37.79.60', 'GET'), ('76.51.10.65', 'GET'), ('94.24.69.63', 'POST'), ('39.79.23.43', 'GET'), ('76.86.41.61', 'GET'), ('29.72.74.39', 'GET'), ('58.55.92.52', 'GET'), ('29.11.80.12', 'POST'), ('23.49.49.81', 'POST'), ('57.68.58.21', 'POST'), ('36.64.88.23', 'GET'), ('76.10.92.67', 'GET'), ('56.56.40.69', 'POST'), ('61.90.48.48', 'GET'), ('74.86.26.57', 'GET'), ('20.71.86.73', 'GET'), ('89.28.64.30', 'POST'), ('87.92.50.37', 'POST'), ('13.83.65.22', 'POST'), ('36.96.36.40', 'POST'), ('91.73.87.52', 'POST'), ('36.69.14.11', 'GET'), ('54.40.50.94', 'GET'), ('34.90.19.99', 'POST'), ('73.94.17.62', 'GET'), ('66.42.49.78', 'GET'), ('46.38.92.44', 'POST'), ('61.85.23.81', 'POST'), ('56.90.32.46', 'GET'), ('83.74.26.82', 'GET'), ('34.77.70.13', 'GET'), ('57.20.27.67', 'GET'), ('53.40.38.29', 'POST'), ('15.43.93.58', 'GET'), ('21.66.21.44', 'GET'), ('26.69.90.34', 'POST'), ('60.94.48.65', 'POST'), ('87.89.70.19', 'GET'), ('64.66.64.24', 'GET'), ('80.65.37.60', 'POST'), ('48.49.90.84', 'GET'), ('21.36.85.53', 'GET'), ('74.37.79.60', 'GET'), ('76.51.10.65', 'GET'), ('94.24.69.63', 'POST'), ('39.79.23.43', 'GET'), ('76.86.41.61', 'GET'), ('29.72.74.39', 'GET'), ('58.55.92.52', 'GET'), ('29.11.80.12', 'POST'), ('23.49.49.81', 'POST'), ('57.68.58.21', 'POST'), ('36.64.88.23', 'GET'), ('76.10.92.67', 'GET'), ('56.56.40.69', 'POST'), ('61.90.48.48', 'GET'), ('74.86.26.57', 'GET'), ('20.71.86.73', 'GET'), ('89.28.64.30', 'POST'), ('87.92.50.37', 'POST'), ('13.83.65.22', 'POST'), ('36.96.36.40', 'POST'), ('91.73.87.52', 'POST'), ('36.69.14.11', 'GET'), ('54.40.50.94', 'GET'), ('34.90.19.99', 'POST'), ('73.94.17.62', 'GET'), ('66.42.49.78', 'GET'), ('46.38.92.44', 'POST'), ('61.85.23.81', 'POST'), ('56.90.32.46', 'GET'), ('83.74.26.82', 'GET'), ('34.77.70.13', 'GET'), ('57.20.27.67', 'GET'), ('53.40.38.29', 'POST'), ('15.43.93.58', 'GET'), ('21.66.21.44', 'GET'), ('26.69.90.34', 'POST'), ('60.94.48.65', 'POST'), ('87.89.70.19', 'GET'), ('64.66.64.24', 'GET'), ('80.65.37.60', 'POST'), ('48.49.90.84', 'GET'), ('21.36.85.53', 'GET'), ('74.37.79.60', 'GET'), ('76.51.10.65', 'GET'), ('94.24.69.63', 'POST'), ('39.79.23.43', 'GET'), ('76.86.41.61', 'GET'), ('29.72.74.39', 'GET'), ('58.55.92.52', 'GET'), ('29.11.80.12', 'POST'), ('23.49.49.81', 'POST'), ('57.68.58.21', 'POST'), ('36.64.88.23', 'GET'), ('76.10.92.67', 'GET'), ('56.56.40.69', 'POST'), ('61.90.48.48', 'GET'), ('74.86.26.57', 'GET'), ('20.71.86.73', 'GET'), ('89.28.64.30', 'POST'), ('87.92.50.37', 'POST'), ('13.83.65.22', 'POST'), ('36.96.36.40', 'POST'), ('91.73.87.52', 'POST'), ('36.69.14.11', 'GET'), ('54.40.50.94', 'GET'), ('34.90.19.99', 'POST'), ('73.94.17.62', 'GET'), ('66.42.49.78', 'GET'), ('46.38.92.44', 'POST'), ('61.85.23.81', 'POST'), ('56.90.32.46', 'GET'), ('83.74.26.82', 'GET'), ('34.77.70.13', 'GET'), ('57.20.27.67', 'GET'), ('53.40.38.29', 'POST'), ('15.43.93.58', 'GET'), ('21.66.21.44', 'GET'), ('26.69.90.34', 'POST'), ('60.94.48.65', 'POST'), ('87.89.70.19', 'GET'), ('64.66.64.24', 'GET'), ('80.65.37.60', 'POST'), ('48.49.90.84', 'GET'), ('21.36.85.53', 'GET'), ('74.37.79.60', 'GET'), ('76.51.10.65', 'GET'), ('94.24.69.63', 'POST'), ('39.79.23.43', 'GET'), ('76.86.41.61', 'GET'), ('29.72.74.39', 'GET'), ('58.55.92.52', 'GET'), ('29.11.80.12', 'POST'), ('23.49.49.81', 'POST'), ('57.68.58.21', 'POST'), ('36.64.88.23', 'GET'), ('76.10.92.67', 'GET'), ('56.56.40.69', 'POST'), ('61.90.48.48', 'GET'), ('74.86.26.57', 'GET'), ('20.71.86.73', 'GET'), ('89.28.64.30', 'POST'), ('87.92.50.37', 'POST'), ('13.83.65.22', 'POST'), ('36.96.36.40', 'POST'), ('91.73.87.52', 'POST'), ('36.69.14.11', 'GET'), ('54.40.50.94', 'GET'), ('34.90.19.99', 'POST'), ('73.94.17.62', 'GET'), ('66.42.49.78', 'GET'), ('46.38.92.44', 'POST'), ('61.85.23.81', 'POST'), ('56.90.32.46', 'GET'), ('83.74.26.82', 'GET'), ('34.77.70.13', 'GET'), ('57.20.27.67', 'GET'), ('53.40.38.29', 'POST'), ('15.43.93.58', 'GET'), ('21.66.21.44', 'GET'), ('26.69.90.34', 'POST'), ('60.94.48.65', 'POST'), ('87.89.70.19', 'GET'), ('64.66.64.24', 'GET'), ('80.65.37.60', 'POST'), ('48.49.90.84', 'GET'), ('21.36.85.53', 'GET'), ('74.37.79.60', 'GET'), ('76.51.10.65', 'GET'), ('94.24.69.63', 'POST'), ('39.79.23.43', 'GET'), ('76.86.41.61', 'GET'), ('29.72.74.39', 'GET'), ('58.55.92.52', 'GET'), ('29.11.80.12', 'POST'), ('23.49.49.81', 'POST'), ('57.68.58.21', 'POST'), ('36.64.88.23', 'GET'), ('76.10.92.67', 'GET'), ('56.56.40.69', 'POST'), ('61.90.48.48', 'GET'), ('74.86.26.57', 'GET'), ('20.71.86.73', 'GET'), ('89.28.64.30', 'POST'), ('87.92.50.37', 'POST'), ('13.83.65.22', 'POST'), ('36.96.36.40', 'POST'), ('91.73.87.52', 'POST'), ('36.69.14.11', 'GET'), ('54.40.50.94', 'GET'), ('34.90.19.99', 'POST'), ('73.94.17.62', 'GET'), ('66.42.49.78', 'GET'), ('46.38.92.44', 'POST'), ('61.85.23.81', 'POST'), ('56.90.32.46', 'GET'), ('83.74.26.82', 'GET'), ('34.77.70.13', 'GET'), ('57.20.27.67', 'GET'), ('53.40.38.29', 'POST'), ('15.43.93.58', 'GET'), ('21.66.21.44', 'GET'), ('26.69.90.34', 'POST'), ('60.94.48.65', 'POST'), ('87.89.70.19', 'GET'), ('64.66.64.24', 'GET'), ('80.65.37.60', 'POST'), ('48.49.90.84', 'GET'), ('21.36.85.53', 'GET'), ('74.37.79.60', 'GET'), ('76.51.10.65', 'GET'), ('94.24.69.63', 'POST'), ('39.79.23.43', 'GET'), ('76.86.41.61', 'GET'), ('29.72.74.39', 'GET'), ('58.55.92.52', 'GET'), ('29.11.80.12', 'POST'), ('23.49.49.81', 'POST'), ('57.68.58.21', 'POST'), ('36.64.88.23', 'GET'), ('76.10.92.67', 'GET'), ('56.56.40.69', 'POST'), ('61.90.48.48', 'GET'), ('74.86.26.57', 'GET'), ('20.71.86.73', 'GET'), ('89.28.64.30', 'POST'), ('87.92.50.37', 'POST'), ('13.83.65.22', 'POST'), ('36.96.36.40', 'POST'), ('91.73.87.52', 'POST'), ('36.69.14.11', 'GET'), ('54.40.50.94', 'GET'), ('34.90.19.99', 'POST'), ('73.94.17.62', 'GET'), ('66.42.49.78', 'GET'), ('46.38.92.44', 'POST'), ('61.85.23.81', 'POST'), ('56.90.32.46', 'GET'), ('83.74.26.82', 'GET'), ('34.77.70.13', 'GET'), ('57.20.27.67', 'GET'), ('53.40.38.29', 'POST'), ('15.43.93.58', 'GET'), ('21.66.21.44', 'GET'), ('26.69.90.34', 'POST'), ('60.94.48.65', 'POST'), ('87.89.70.19', 'GET'), ('64.66.64.24', 'GET'), ('80.65.37.60', 'POST'), ('48.49.90.84', 'GET'), ('21.36.85.53', 'GET'), ('32.77.49.45', 'GET'), ('98.34.41.43', 'GET'), ('61.94.41.71', 'GET'), ('93.78.65.13', 'GET'), ('48.84.11.60', 'POST'), ('68.91.92.89', 'POST'), ('42.66.69.41', 'POST'), ('93.70.76.24', 'GET'), ('43.92.62.48', 'GET'), ('24.86.77.35', 'GET'), ('97.77.55.20', 'POST'), ('64.39.43.11', 'POST'), ('86.65.58.18', 'POST'), ('28.58.18.66', 'GET'), ('10.44.71.36', 'GET'), ('42.53.40.80', 'GET'), ('98.14.80.68', 'POST'), ('95.48.49.60', 'POST'), ('48.32.56.62', 'GET'), ('59.64.93.90', 'GET'), ('33.34.28.90', 'GET'), ('54.10.57.75', 'POST'), ('12.27.25.57', 'POST'), ('74.37.79.60', 'GET'), ('76.51.10.65', 'GET'), ('94.24.69.63', 'POST'), ('39.79.23.43', 'GET'), ('76.86.41.61', 'GET'), ('29.72.74.39', 'GET'), ('58.55.92.52', 'GET'), ('29.11.80.12', 'POST'), ('23.49.49.81', 'POST'), ('57.68.58.21', 'POST'), ('36.64.88.23', 'GET'), ('76.10.92.67', 'GET'), ('56.56.40.69', 'POST'), ('61.90.48.48', 'GET'), ('74.86.26.57', 'GET'), ('20.71.86.73', 'GET'), ('89.28.64.30', 'POST'), ('87.92.50.37', 'POST'), ('13.83.65.22', 'POST'), ('36.96.36.40', 'POST'), ('91.73.87.52', 'POST'), ('36.69.14.11', 'GET'), ('54.40.50.94', 'GET'), ('34.90.19.99', 'POST'), ('73.94.17.62', 'GET'), ('66.42.49.78', 'GET'), ('46.38.92.44', 'POST'), ('61.85.23.81', 'POST'), ('56.90.32.46', 'GET'), ('83.74.26.82', 'GET'), ('34.77.70.13', 'GET'), ('57.20.27.67', 'GET'), ('53.40.38.29', 'POST'), ('15.43.93.58', 'GET'), ('21.66.21.44', 'GET'), ('26.69.90.34', 'POST'), ('60.94.48.65', 'POST'), ('87.89.70.19', 'GET'), ('64.66.64.24', 'GET'), ('80.65.37.60', 'POST'), ('48.49.90.84', 'GET'), ('21.36.85.53', 'GET'), ('32.77.49.45', 'GET'), ('98.34.41.43', 'GET'), ('61.94.41.71', 'GET'), ('93.78.65.13', 'GET'), ('48.84.11.60', 'POST'), ('68.91.92.89', 'POST'), ('42.66.69.41', 'POST'), ('93.70.76.24', 'GET'), ('43.92.62.48', 'GET'), ('24.86.77.35', 'GET'), ('97.77.55.20', 'POST'), ('64.39.43.11', 'POST'), ('86.65.58.18', 'POST'), ('28.58.18.66', 'GET'), ('10.44.71.36', 'GET'), ('42.53.40.80', 'GET'), ('98.14.80.68', 'POST'), ('95.48.49.60', 'POST'), ('12.27.25.57', 'POST'), ('74.37.79.60', 'GET'), ('76.51.10.65', 'GET'), ('94.24.69.63', 'POST'), ('39.79.23.43', 'GET'), ('76.86.41.61', 'GET'), ('29.72.74.39', 'GET'), ('58.55.92.52', 'GET'), ('29.11.80.12', 'POST'), ('23.49.49.81', 'POST'), ('57.68.58.21', 'POST'), ('36.64.88.23', 'GET'), ('76.10.92.67', 'GET'), ('56.56.40.69', 'POST'), ('61.90.48.48', 'GET'), ('74.86.26.57', 'GET'), ('20.71.86.73', 'GET'), ('89.28.64.30', 'POST'), ('87.92.50.37', 'POST'), ('13.83.65.22', 'POST'), ('36.96.36.40', 'POST'), ('91.73.87.52', 'POST'), ('36.69.14.11', 'GET'), ('54.40.50.94', 'GET'), ('34.90.19.99', 'POST'), ('73.94.17.62', 'GET'), ('66.42.49.78', 'GET'), ('46.38.92.44', 'POST'), ('61.85.23.81', 'POST'), ('56.90.32.46', 'GET'), ('83.74.26.82', 'GET'), ('34.77.70.13', 'GET'), ('57.20.27.67', 'GET'), ('53.40.38.29', 'POST'), ('15.43.93.58', 'GET'), ('21.66.21.44', 'GET'), ('26.69.90.34', 'POST'), ('60.94.48.65', 'POST'), ('87.89.70.19', 'GET'), ('64.66.64.24', 'GET'), ('80.65.37.60', 'POST'), ('48.49.90.84', 'GET'), ('21.36.85.53', 'GET'), ('32.77.49.45', 'GET'), ('98.34.41.43', 'GET'), ('61.94.41.71', 'GET'), ('93.78.65.13', 'GET'), ('48.84.11.60', 'POST'), ('68.91.92.89', 'POST'), ('42.66.69.41', 'POST'), ('93.70.76.24', 'GET'), ('43.92.62.48', 'GET'), ('24.86.77.35', 'GET'), ('97.77.55.20', 'POST'), ('64.39.43.11', 'POST'), ('86.65.58.18', 'POST'), ('28.58.18.66', 'GET'), ('10.44.71.36', 'GET'), ('42.53.40.80', 'GET'), ('98.14.80.68', 'POST'), ('95.48.49.60', 'POST'), ('12.27.25.57', 'POST'), ('74.37.79.60', 'GET'), ('76.51.10.65', 'GET'), ('94.24.69.63', 'POST'), ('39.79.23.43', 'GET'), ('76.86.41.61', 'GET'), ('29.72.74.39', 'GET'), ('58.55.92.52', 'GET'), ('29.11.80.12', 'POST'), ('23.49.49.81', 'POST'), ('57.68.58.21', 'POST'), ('36.64.88.23', 'GET'), ('76.10.92.67', 'GET'), ('56.56.40.69', 'POST'), ('61.90.48.48', 'GET'), ('74.86.26.57', 'GET'), ('20.71.86.73', 'GET'), ('89.28.64.30', 'POST'), ('87.92.50.37', 'POST'), ('13.83.65.22', 'POST'), ('36.96.36.40', 'POST'), ('91.73.87.52', 'POST'), ('36.69.14.11', 'GET'), ('54.40.50.94', 'GET'), ('34.90.19.99', 'POST'), ('73.94.17.62', 'GET'), ('66.42.49.78', 'GET'), ('46.38.92.44', 'POST'), ('61.85.23.81', 'POST'), ('56.90.32.46', 'GET'), ('83.74.26.82', 'GET'), ('34.77.70.13', 'GET'), ('57.20.27.67', 'GET'), ('53.40.38.29', 'POST'), ('15.43.93.58', 'GET'), ('21.66.21.44', 'GET'), ('26.69.90.34', 'POST'), ('60.94.48.65', 'POST'), ('87.89.70.19', 'GET'), ('64.66.64.24', 'GET'), ('80.65.37.60', 'POST'), ('48.49.90.84', 'GET'), ('21.36.85.53', 'GET'), ('32.77.49.45', 'GET'), ('98.34.41.43', 'GET'), ('61.94.41.71', 'GET'), ('93.78.65.13', 'GET'), ('48.84.11.60', 'POST'), ('68.91.92.89', 'POST'), ('42.66.69.41', 'POST'), ('93.70.76.24', 'GET'), ('43.92.62.48', 'GET'), ('24.86.77.35', 'GET'), ('97.77.55.20', 'POST'), ('64.39.43.11', 'POST'), ('86.65.58.18', 'POST'), ('28.58.18.66', 'GET'), ('10.44.71.36', 'GET')]\n"
     ]
    }
   ],
   "source": [
    "# Read all data from 'log.txt'.\n",
    "# Each line represents a log message from a web server\n",
    "# Write a function that returns an array with the unique IP adresses.\n",
    "# Write a function that returns the GET / POST request ratio.\n",
    "\n",
    "fr = open('log.txt', 'r')\n",
    "lines = fr.readlines()\n",
    "fr.close()\n",
    "\n",
    "def ip_and_ratio(lines):\n",
    "    ipAndRatio = []\n",
    "    for line in lines:\n",
    "        new_line = line.split()\n",
    "        ipAndRatio.append((new_line[5], new_line[6]))\n",
    "        \n",
    "    return ipAndRatio\n",
    "\n",
    "print(ip_and_ratio(lines))"
   ]
  },
  {
   "cell_type": "markdown",
   "metadata": {},
   "source": [
    "## Doubled"
   ]
  },
  {
   "cell_type": "code",
   "execution_count": 29,
   "metadata": {},
   "outputs": [
    {
     "name": "stdout",
     "output_type": "stream",
     "text": [
      "The Zen of Python \n",
      "by Tim Peters \n",
      "\n",
      "Beautiful is better than ugly. \n",
      "Explicit is better than implicit. \n",
      "Simple is better than complex. \n",
      "Complex is better than complicated. \n",
      "Flat is better than nested. \n",
      "Sparse is better than dense. \n",
      "Readability counts. \n",
      "Special cases aren't special enough to break the rules. \n",
      "Although practicality beats purity. \n",
      "Errors should never pass silently. \n",
      "Unless explicitly silenced. \n",
      "In the face of ambiguity, refuse the temptation to guess. \n",
      "There should be one-- and preferably only one --obvious way to do it. \n",
      "Although that way may not be obvious at first unless you're Dutch. \n",
      "Now is better than never. \n",
      "Although never is often better than *right* now. \n",
      "If the implementation is hard to explain, it's a bad idea. \n",
      "If the implementation is easy to explain, it may be a good idea. \n",
      "Namespaces are one honking great idea -- let's do more of those! \n",
      "\n"
     ]
    }
   ],
   "source": [
    "def decrypt(file_name):\n",
    "\n",
    "    fr = open(file_name, 'r')\n",
    "\n",
    "    lines = fr.readlines()\n",
    "    decrypts_file = \"\"\n",
    "    for line in lines:\n",
    "        word_list = line.split()\n",
    "        for i in range(len(word_list)):\n",
    "            decrypts_file += word_list[i][::2]\n",
    "            decrypts_file += ' '\n",
    "        decrypts_file += \"\\n\"\n",
    "    fr.close()\n",
    "    return decrypts_file\n",
    "    \n",
    "    \n",
    "print(decrypt('duplicated-chars.txt'))"
   ]
  },
  {
   "cell_type": "markdown",
   "metadata": {},
   "source": [
    "## reversed_lines"
   ]
  },
  {
   "cell_type": "code",
   "execution_count": 30,
   "metadata": {},
   "outputs": [
    {
     "name": "stdout",
     "output_type": "stream",
     "text": [
      "\n",
      "The Zen of Python\n",
      "by Tim Peters\n",
      "\n",
      "Beautiful is better than ugly.\n",
      "Explicit is better than implicit.\n",
      "Simple is better than complex.\n",
      "Complex is better than complicated.\n",
      "Flat is better than nested.\n",
      "Sparse is better than dense.\n",
      "Readability counts.\n",
      "Special cases aren't special enough to break the rules.\n",
      "Although practicality beats purity.\n",
      "Errors should never pass silently.\n",
      "Unless explicitly silenced.\n",
      "In the face of ambiguity, refuse the temptation to guess.\n",
      "There should be one-- and preferably only one --obvious way to do it.\n",
      "Although that way may not be obvious at first unless you're Dutch.\n",
      "Now is better than never.\n",
      "Although never is often better than *right* now.\n",
      "If the implementation is hard to explain, it's a bad idea.\n",
      "If the implementation is easy to explain, it may be a good idea.\n",
      "Namespaces are one honking great idea -- let's do more of those!\n"
     ]
    }
   ],
   "source": [
    "# Create a method that decrypts reversed-lines.txt\n",
    "def decrypt(file_name):\n",
    "    fr = open(file_name, 'r')\n",
    "\n",
    "    lines = fr.readlines()\n",
    "    decrypts_file = \"\"\n",
    "    for line in lines:\n",
    "        decrypts_file += line[::-1]\n",
    "    fr.close()\n",
    "    return decrypts_file\n",
    "\n",
    "print(decrypt('reversed-lines.txt'))"
   ]
  },
  {
   "cell_type": "markdown",
   "metadata": {},
   "source": [
    "## reversed_order"
   ]
  },
  {
   "cell_type": "code",
   "execution_count": 32,
   "metadata": {},
   "outputs": [
    {
     "name": "stdout",
     "output_type": "stream",
     "text": [
      "The Zen of Python\n",
      "by Tim Peters\n",
      "\n",
      "Beautiful is better than ugly.\n",
      "Explicit is better than implicit.\n",
      "Simple is better than complex.\n",
      "Complex is better than complicated.\n",
      "Flat is better than nested.\n",
      "Sparse is better than dense.\n",
      "Readability counts.\n",
      "Special cases aren't special enough to break the rules.\n",
      "Although practicality beats purity.\n",
      "Errors should never pass silently.\n",
      "Unless explicitly silenced.\n",
      "In the face of ambiguity, refuse the temptation to guess.\n",
      "There should be one-- and preferably only one --obvious way to do it.\n",
      "Although that way may not be obvious at first unless you're Dutch.\n",
      "Now is better than never.\n",
      "Although never is often better than *right* now.\n",
      "If the implementation is hard to explain, it's a bad idea.\n",
      "If the implementation is easy to explain, it may be a good idea.\n",
      "Namespaces are one honking great idea -- let's do more of those!\n",
      "\n"
     ]
    }
   ],
   "source": [
    "def decrypt(file_name):\n",
    "    fr = open(file_name, 'r')\n",
    "\n",
    "    lines = fr.readlines()\n",
    "    lines = lines[::-1]\n",
    "    decrypts_file = \"\"\n",
    "    for line in lines:\n",
    "        decrypts_file += line\n",
    "    fr.close()\n",
    "    return decrypts_file\n",
    "\n",
    "print(decrypt('reversed-order.txt'))"
   ]
  },
  {
   "cell_type": "markdown",
   "metadata": {},
   "source": [
    "## encoded-lines"
   ]
  },
  {
   "cell_type": "code",
   "execution_count": 3,
   "metadata": {},
   "outputs": [
    {
     "name": "stdout",
     "output_type": "stream",
     "text": [
      "The decode of the file is :\n",
      "***************************\n",
      "The Zen of Python \n",
      "by Tim Peters \n",
      "\n",
      "Beautiful is better than ugly. \n",
      "Explicit is better than implicit. \n",
      "Simple is better than complex. \n",
      "Complex is better than complicated. \n",
      "Flat is better than nested. \n",
      "Sparse is better than dense. \n",
      "Readability counts. \n",
      "Special cases aren't special enough to break the rules. \n",
      "Although practicality beats purity. \n",
      "Errors should never pass silently. \n",
      "Unless explicitly silenced. \n",
      "In the face of ambiguity, refuse the temptation to guess. \n",
      "There should be one-- and preferably only one --obvious way to do it. \n",
      "Although that way may not be obvious at first unless you're Dutch. \n",
      "Now is better than never. \n",
      "Although never is often better than *right* now. \n",
      "If the implementation is hard to explain, it's a bad idea. \n",
      "If the implementation is easy to explain, it may be a good idea. \n",
      "Namespaces are one honking great idea -- let's do more of those! \n",
      "\n"
     ]
    }
   ],
   "source": [
    "# Create a method that decrypts encoded-lines.txt\n",
    "def decrypt(file_name):\n",
    "    fr = open(file_name, 'r')\n",
    "    lines = fr.readlines()\n",
    "    \n",
    "    new_file = \"\"\n",
    "    \n",
    "    for line in lines:\n",
    "        word_list = line.split()\n",
    "        for word in word_list:\n",
    "            for char in word:\n",
    "                int_char = ord(char) - 1\n",
    "                new_file += chr(int_char)\n",
    "            new_file += \" \"\n",
    "        new_file += \"\\n\"\n",
    "    print(\"The decode of the file is :\")\n",
    "    print(\"***************************\")\n",
    "    return new_file\n",
    "\n",
    "print(decrypt('encoded-lines.txt'))"
   ]
  },
  {
   "cell_type": "code",
   "execution_count": null,
   "metadata": {},
   "outputs": [],
   "source": []
  }
 ],
 "metadata": {
  "kernelspec": {
   "display_name": "Python 3",
   "language": "python",
   "name": "python3"
  },
  "language_info": {
   "codemirror_mode": {
    "name": "ipython",
    "version": 3
   },
   "file_extension": ".py",
   "mimetype": "text/x-python",
   "name": "python",
   "nbconvert_exporter": "python",
   "pygments_lexer": "ipython3",
   "version": "3.7.0"
  }
 },
 "nbformat": 4,
 "nbformat_minor": 2
}
