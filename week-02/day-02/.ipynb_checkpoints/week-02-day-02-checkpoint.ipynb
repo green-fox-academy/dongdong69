{
 "cells": [
  {
   "cell_type": "markdown",
   "metadata": {},
   "source": [
    "# <font color=blue> File manipulation exercises <font>"
   ]
  },
  {
   "cell_type": "markdown",
   "metadata": {},
   "source": [
    "## Divide by zero"
   ]
  },
  {
   "cell_type": "code",
   "execution_count": 2,
   "metadata": {},
   "outputs": [
    {
     "name": "stdout",
     "output_type": "stream",
     "text": [
      "Please input a number: 0\n",
      "Please input a number except 0\n",
      "Please input a number: 4\n",
      "\n",
      "2.5\n"
     ]
    }
   ],
   "source": [
    "while True:\n",
    "    try:\n",
    "        number = int(input(\"Please input a number: \"))\n",
    "        result = 10 / number\n",
    "        print()\n",
    "        print(result)\n",
    "        break\n",
    "    except ZeroDivisionError:\n",
    "        print(\"Please input a number except 0\")"
   ]
  },
  {
   "cell_type": "markdown",
   "metadata": {},
   "source": [
    "## print_each_line"
   ]
  },
  {
   "cell_type": "code",
   "execution_count": 3,
   "metadata": {},
   "outputs": [
    {
     "name": "stdout",
     "output_type": "stream",
     "text": [
      "This is the first line\n",
      "This is the second line\n",
      "Hello Changdong!\n",
      "THe end!\n",
      "\n"
     ]
    }
   ],
   "source": [
    "try:\n",
    "    fr = open(\"my-file.txt\", \"r\")\n",
    "    lines = fr.read()\n",
    "    print(lines)\n",
    "except OSError:\n",
    "    print( \"Unable to read file: my-file.txt\")\n",
    "    \n",
    "fr.close()"
   ]
  },
  {
   "cell_type": "markdown",
   "metadata": {},
   "source": [
    "## count_lines.py"
   ]
  },
  {
   "cell_type": "code",
   "execution_count": 4,
   "metadata": {},
   "outputs": [
    {
     "name": "stdout",
     "output_type": "stream",
     "text": [
      "4\n"
     ]
    }
   ],
   "source": [
    "try:\n",
    "    fr = open(\"my-file.txt\", \"r\")\n",
    "    lines = fr.readlines()\n",
    "    print(len(lines))\n",
    "except OSError:\n",
    "    print( \"0\")\n",
    "    \n",
    "fr.close()"
   ]
  },
  {
   "cell_type": "markdown",
   "metadata": {},
   "source": [
    "## write_single_line"
   ]
  },
  {
   "cell_type": "code",
   "execution_count": 5,
   "metadata": {},
   "outputs": [],
   "source": [
    "try:  \n",
    "    fw = open(\"file_write.txt\", \"a\")\n",
    "    fw.write(\"/nChangdong!\")\n",
    "except OSError:\n",
    "    print(\"Unable to write file: my-file.txt\")"
   ]
  },
  {
   "cell_type": "markdown",
   "metadata": {},
   "source": [
    "## write_multiple_lines"
   ]
  },
  {
   "cell_type": "code",
   "execution_count": 6,
   "metadata": {},
   "outputs": [],
   "source": [
    "def write_multiple_lines(path, word, number):\n",
    "    try:\n",
    "        fw = open(path, \"a\")\n",
    "        for i in range(number):\n",
    "            fw.write(f\"/n{word}\")\n",
    "    except OSError:\n",
    "        print(f\"Unable to write file: {path}\")"
   ]
  },
  {
   "cell_type": "markdown",
   "metadata": {},
   "source": [
    "## copy_file"
   ]
  },
  {
   "cell_type": "code",
   "execution_count": 7,
   "metadata": {},
   "outputs": [],
   "source": [
    "def copy_file(path, copy_path):\n",
    "    try:\n",
    "        fr = open(path, \"r\")\n",
    "        lines = fr.read()\n",
    "    except OSError:\n",
    "        print(f\"Unable to write file: {path}\")\n",
    "    fr.close()\n",
    "    \n",
    "    try:\n",
    "        fw = open(copy_path, \"w\")\n",
    "        fw.write(lines)\n",
    "    except OSError:\n",
    "        print(f\"Unable to write file: {copy_path}\")"
   ]
  },
  {
   "cell_type": "markdown",
   "metadata": {},
   "source": [
    "## tic_tac_toe"
   ]
  },
  {
   "cell_type": "code",
   "execution_count": null,
   "metadata": {},
   "outputs": [],
   "source": [
    "# Write a function that takes a filename as a parameter\n",
    "# The file contains an ended Tic-Tac-Toe match\n",
    "# We have provided you some example files (draw.txt, win-x.txt, win-o.txt)\n",
    "# Return \"X\", \"O\" or \"Draw\" based on the input file\n",
    "\n",
    "def tic_tac_result(filename):\n",
    "    fr = open(filename, \"r\")\n",
    "    lines = fr.readlines()\n",
    "    tic_tac_list = []\n",
    "    for line in lines:\n",
    "        for char in line:\n",
    "            tic_tac_list.append(char)\n",
    "            \n",
    "    return tic_tac_list\n",
    "\n",
    "print(tic_tac_result(\"win-o.txt\"))\n",
    "# Should print \"O\"\n",
    "\n",
    "print(tic_tac_result(\"win-x.txt\"))\n",
    "# Should print \"X\"\n",
    "\n",
    "print(tic_tac_result(\"draw.txt\"))\n",
    "# Should print \"Draw\""
   ]
  },
  {
   "cell_type": "markdown",
   "metadata": {},
   "source": [
    "## logs"
   ]
  },
  {
   "cell_type": "code",
   "execution_count": null,
   "metadata": {},
   "outputs": [],
   "source": [
    "# Read all data from 'log.txt'.\n",
    "# Each line represents a log message from a web server\n",
    "# Write a function that returns an array with the unique IP adresses.\n",
    "# Write a function that returns the GET / POST request ratio."
   ]
  }
 ],
 "metadata": {
  "kernelspec": {
   "display_name": "Python 3",
   "language": "python",
   "name": "python3"
  },
  "language_info": {
   "codemirror_mode": {
    "name": "ipython",
    "version": 3
   },
   "file_extension": ".py",
   "mimetype": "text/x-python",
   "name": "python",
   "nbconvert_exporter": "python",
   "pygments_lexer": "ipython3",
   "version": "3.7.0"
  }
 },
 "nbformat": 4,
 "nbformat_minor": 2
}
