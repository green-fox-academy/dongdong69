{
 "cells": [
  {
   "cell_type": "markdown",
   "metadata": {},
   "source": [
    "# <font color=blue> 1.Object Oriented Programming<font>"
   ]
  },
  {
   "cell_type": "markdown",
   "metadata": {},
   "source": [
    "## Post-it"
   ]
  },
  {
   "cell_type": "code",
   "execution_count": 1,
   "metadata": {},
   "outputs": [],
   "source": [
    "class PostIt:\n",
    "    background_color = \"\"\n",
    "    text = \"\"\n",
    "    text_color = \"\"\n",
    "    \n",
    "PostIt1 = PostIt()\n",
    "\n",
    "PostIt1.background_color = \"orange\"\n",
    "PostIt1.text = \"Idea 1\"\n",
    "PostIt1.text_color = \"blue\""
   ]
  },
  {
   "cell_type": "code",
   "execution_count": 10,
   "metadata": {},
   "outputs": [
    {
     "name": "stdout",
     "output_type": "stream",
     "text": [
      "\u001b[1;34;41man orange with blue text: \"Idea 1\"\u001b[0m\n"
     ]
    }
   ],
   "source": [
    "print(f\"\\033[1;34;41man {PostIt1.background_color} with {PostIt1.text_color} text: \\\"{PostIt1.text}\\\"\\033[0m\")"
   ]
  },
  {
   "cell_type": "markdown",
   "metadata": {},
   "source": [
    "## BlogPost"
   ]
  },
  {
   "cell_type": "code",
   "execution_count": 12,
   "metadata": {},
   "outputs": [],
   "source": [
    "class BlogPost:\n",
    "    author_name = \"\"\n",
    "    title = \"\"\n",
    "    text = \"\"\n",
    "    publication_date = \"\"\n",
    "    \n",
    "John_blog = BlogPost()\n",
    "John_blog.author_name = \"John Doe\"\n",
    "John_blog.title = \"Lorem Ipsum\"\n",
    "John_blog.text = \"Lorem ipsum dolor sit amet.\"\n",
    "John_blog.publication_date = \"2000.05.04.\""
   ]
  },
  {
   "cell_type": "markdown",
   "metadata": {},
   "source": [
    "## Sharpie"
   ]
  },
  {
   "cell_type": "code",
   "execution_count": 71,
   "metadata": {},
   "outputs": [],
   "source": [
    "class Sharpie:\n",
    "    \n",
    "    def __init__(self, color = \"\", width = 0, ink_amount = 100):\n",
    "        self.color = color\n",
    "        self.width = width\n",
    "        self.ink_amount = ink_amount\n",
    "        \n",
    "    def use():\n",
    "        ink_amount -= 1"
   ]
  },
  {
   "cell_type": "markdown",
   "metadata": {},
   "source": [
    "## Counter"
   ]
  },
  {
   "cell_type": "code",
   "execution_count": 69,
   "metadata": {},
   "outputs": [],
   "source": [
    "class Counter:\n",
    "    \n",
    "    def __init__(self, value = 0):\n",
    "        self.value = value\n",
    "        self.initvalue = value\n",
    "        \n",
    "    def add(self, other = 1):\n",
    "        self.value = self.value + other\n",
    "    \n",
    "    def get(self):\n",
    "        return self.value\n",
    "    \n",
    "    def reset(self):\n",
    "        self.value = self.initvalue"
   ]
  },
  {
   "cell_type": "code",
   "execution_count": 70,
   "metadata": {},
   "outputs": [
    {
     "name": "stderr",
     "output_type": "stream",
     "text": [
      "E\n",
      "======================================================================\n",
      "ERROR: C:\\Users\\蔡畅东\\AppData\\Roaming\\jupyter\\runtime\\kernel-d96f76f1-5955-442a-a07b-fee19a194c1f (unittest.loader._FailedTest)\n",
      "----------------------------------------------------------------------\n",
      "AttributeError: module '__main__' has no attribute 'C:\\Users\\蔡畅东\\AppData\\Roaming\\jupyter\\runtime\\kernel-d96f76f1-5955-442a-a07b-fee19a194c1f'\n",
      "\n",
      "----------------------------------------------------------------------\n",
      "Ran 1 test in 0.002s\n",
      "\n",
      "FAILED (errors=1)\n"
     ]
    },
    {
     "ename": "SystemExit",
     "evalue": "True",
     "output_type": "error",
     "traceback": [
      "An exception has occurred, use %tb to see the full traceback.\n",
      "\u001b[1;31mSystemExit\u001b[0m\u001b[1;31m:\u001b[0m True\n"
     ]
    },
    {
     "name": "stderr",
     "output_type": "stream",
     "text": [
      "C:\\software\\Anaconda3\\lib\\site-packages\\IPython\\core\\interactiveshell.py:2969: UserWarning: To exit: use 'exit', 'quit', or Ctrl-D.\n",
      "  warn(\"To exit: use 'exit', 'quit', or Ctrl-D.\", stacklevel=1)\n"
     ]
    }
   ],
   "source": [
    "import unittest\n",
    "\n",
    "class TestCounter(unittest.TestCase):\n",
    "\n",
    "    def setUp(self):\n",
    "        self.c = Counter()\n",
    "\n",
    "    def test_addMore(self):\n",
    "        self.c.add(5)\n",
    "        self.assertEqual(self.c.get(), 5)\n",
    "\n",
    "    def test_addOne(self):\n",
    "        self.c.add()\n",
    "        self.assertEqual(self.c.get(), 1)\n",
    "\n",
    "    def test_getZero(self):\n",
    "        self.assertEqual(self.c.get(), 0)\n",
    "\n",
    "    def test_getInit(self):\n",
    "        c = Counter(7)\n",
    "        self.assertEqual(c.get(), 7)\n",
    "\n",
    "    def test_resetToZero(self):\n",
    "        self.c.add()\n",
    "        self.c.reset()\n",
    "        self.assertEqual(self.c.get(), 0)\n",
    "\n",
    "    def test_resetToInit(self):\n",
    "        c = Counter(7)\n",
    "        self.c.add(5)\n",
    "        self.c.reset()\n",
    "        self.assertEqual(c.get(), 7)\n",
    "\n",
    "if __name__ == '__main__':\n",
    "    unittest.main()"
   ]
  },
  {
   "cell_type": "markdown",
   "metadata": {},
   "source": [
    "## Pokemon"
   ]
  },
  {
   "cell_type": "code",
   "execution_count": 77,
   "metadata": {},
   "outputs": [
    {
     "name": "stdout",
     "output_type": "stream",
     "text": [
      "I choose you, Charizard!\n"
     ]
    }
   ],
   "source": [
    "class Pokemon(object):\n",
    "    def __init__(self, name, type, effectiveAgainst):\n",
    "        self.name = name\n",
    "        self.type = type\n",
    "        self.effectiveAgainst = effectiveAgainst\n",
    "\n",
    "    def isEffectiveAgainst(self, anotherPokemon):\n",
    "        return self.effectiveAgainst == anotherPokemon.type\n",
    "\n",
    "def initializePokemons():\n",
    "        pokemon = []\n",
    "\n",
    "        pokemon.append(Pokemon(\"Balbasaur\", \"leaf\", \"water\"))\n",
    "        pokemon.append(Pokemon(\"Pikatchu\", \"electric\", \"water\"))\n",
    "        pokemon.append(Pokemon(\"Charizard\", \"fire\", \"leaf\"))\n",
    "        pokemon.append(Pokemon(\"Balbasaur\", \"water\", \"fire\"))\n",
    "        pokemon.append(Pokemon(\"Kingler\", \"water\", \"fire\"))\n",
    "\n",
    "        return pokemon\n",
    "\n",
    "pokemon = initializePokemons()\n",
    "\n",
    "# Every pokemon has a name and a type.\n",
    "# Certain types are effective against others, e.g. water is effective against fire.\n",
    "\n",
    "# Ash has a few pokemon.\n",
    "# A wild pokemon appeared!\n",
    "\n",
    "wildPokemon = Pokemon(\"Oddish\", \"leaf\", \"water\")\n",
    "\n",
    "# Which pokemon should Ash use?\n",
    "        \n",
    "for poke in pokemon:\n",
    "    if poke.effectiveAgainst == wildPokemon.type:\n",
    "        my_choose = poke.name\n",
    "\n",
    "print(f\"I choose you, {my_choose}!\")"
   ]
  },
  {
   "cell_type": "markdown",
   "metadata": {},
   "source": [
    "## Fleet of Things"
   ]
  },
  {
   "cell_type": "code",
   "execution_count": 79,
   "metadata": {},
   "outputs": [],
   "source": [
    "class Thing:\n",
    "    def __init__(self, name):\n",
    "        self.name = name\n",
    "        self.completed = False\n",
    "\n",
    "    def complete(self):\n",
    "        self.completed = True\n",
    "\n",
    "    def __str__(self):\n",
    "        return (\"[x] \" if self.completed else \"[ ] \") + self.name\n",
    "\n",
    "class Fleet(object):\n",
    "    def __init__(self):\n",
    "        self.things = []\n",
    "\n",
    "    def add(self, thing):\n",
    "        self.things.append(thing)\n",
    "\n",
    "    def __str__(self):\n",
    "        result = \"\"\n",
    "        for i in range(0, len(self.things)):\n",
    "            result += str(i+1) + \". \" + self.things[i].__str__() + \"\\n\"\n",
    "        return result"
   ]
  },
  {
   "cell_type": "code",
   "execution_count": 82,
   "metadata": {},
   "outputs": [
    {
     "name": "stdout",
     "output_type": "stream",
     "text": [
      "1. [ ] Get milk\n",
      "2. [ ] Remove the obstacles\n",
      "3. [x] Stand up\n",
      "4. [x] Eat lunch\n",
      "\n"
     ]
    }
   ],
   "source": [
    "fleet = Fleet()\n",
    "# Create a fleet of things to have this output:\n",
    "# 1. [ ] Get milk\n",
    "# 2. [ ] Remove the obstacles\n",
    "# 3. [x] Stand up\n",
    "# 4. [x] Eat lunch\n",
    "\n",
    "first = Thing(\"Get milk\")\n",
    "second = Thing(\"Remove the obstacles\")\n",
    "third = Thing(\"Stand up\")\n",
    "forth = Thing(\"Eat lunch\")\n",
    "\n",
    "third.complete()\n",
    "forth.complete()\n",
    "\n",
    "fleet.add(first)\n",
    "fleet.add(second)\n",
    "fleet.add(third)\n",
    "fleet.add(forth)\n",
    "\n",
    "print(fleet)"
   ]
  },
  {
   "cell_type": "markdown",
   "metadata": {},
   "source": [
    "## DiceSet"
   ]
  },
  {
   "cell_type": "code",
   "execution_count": 1,
   "metadata": {},
   "outputs": [
    {
     "name": "stdout",
     "output_type": "stream",
     "text": [
      "[6, 3, 5, 1, 1, 4]\n",
      "[6, 6, 6, 6, 6, 6]\n"
     ]
    }
   ],
   "source": [
    "import random\n",
    "\n",
    "class DicSet:\n",
    "    \n",
    "    def __init__(self):\n",
    "        self.dics = [1, 1, 1, 1, 1, 1]\n",
    "    \n",
    "    def roll(self):\n",
    "        for i in range(6):\n",
    "            self.dics[i] = random.randint(1,6)\n",
    "            \n",
    "    def get_current(self):\n",
    "        return self.dics\n",
    "        \n",
    "    def reroll(self):\n",
    "        for i in range(6):\n",
    "            self.dics[i] = random.randint(1,6)\n",
    "            \n",
    "d = DicSet()\n",
    "d.roll()\n",
    "print(d.get_current())\n",
    "\n",
    "while not sum(d.get_current()) is 36:\n",
    "    d.reroll()\n",
    "print(d.get_current())"
   ]
  },
  {
   "cell_type": "markdown",
   "metadata": {},
   "source": [
    "## Dominoes"
   ]
  },
  {
   "cell_type": "code",
   "execution_count": 4,
   "metadata": {},
   "outputs": [],
   "source": [
    "class Domino(object):\n",
    "    def __init__(self, value_a, value_b):\n",
    "        self.values = [value_a, value_b]\n",
    "\n",
    "    def __repr__(self):\n",
    "        return '[{}, {}]'.format(self.values[0], self.values[1])"
   ]
  },
  {
   "cell_type": "code",
   "execution_count": 11,
   "metadata": {},
   "outputs": [
    {
     "name": "stdout",
     "output_type": "stream",
     "text": [
      "[[5, 2], [2, 4], [4, 6], [6, 7], [7, 1], [1, 5]]\n"
     ]
    }
   ],
   "source": [
    "def initialize_dominoes():\n",
    "    dominoes = []\n",
    "    dominoes.append(Domino(5, 2))\n",
    "    dominoes.append(Domino(4, 6))\n",
    "    dominoes.append(Domino(1, 5))\n",
    "    dominoes.append(Domino(6, 7))\n",
    "    dominoes.append(Domino(2 ,4))\n",
    "    dominoes.append(Domino(7, 1))\n",
    "    return dominoes\n",
    "\n",
    "dominoes = initialize_dominoes()\n",
    "# You have the list of Dominoes\n",
    "# Order them into one snake where the adjacent dominoes have the same numbers on their adjacent sides\n",
    "# eg: [2, 4], [4, 3], [3, 5] ...\n",
    "\n",
    "dic_dominoes = {}\n",
    "\n",
    "for dominoe in dominoes:\n",
    "    dic_dominoes[dominoe.values[0]] = dominoe\n",
    "\n",
    "find = dominoes[0].values[1]\n",
    "\n",
    "for i in range(1, len(dominoes)):\n",
    "    for j in range(i, len(dominoes)):\n",
    "        if dominoes[j] is dic_dominoes[find]:\n",
    "            find = dominoes[j].values[1]\n",
    "            dominoes[i], dominoes[j] = dominoes[j], dominoes[i]\n",
    "            break\n",
    "    \n",
    "print(dominoes)"
   ]
  },
  {
   "cell_type": "markdown",
   "metadata": {},
   "source": [
    "## Teacher Student"
   ]
  },
  {
   "cell_type": "code",
   "execution_count": 13,
   "metadata": {},
   "outputs": [],
   "source": [
    "class Student:\n",
    "    def learn(self):\n",
    "        return None\n",
    "        \n",
    "    def question(self, teacher):\n",
    "        return teacher.answer()\n",
    "        \n",
    "class Teacher:\n",
    "    def teach(self, student):\n",
    "        return student.learn()\n",
    "        \n",
    "    def answer(slef):\n",
    "        return None"
   ]
  },
  {
   "cell_type": "markdown",
   "metadata": {},
   "source": [
    "## Petrol Station"
   ]
  },
  {
   "cell_type": "code",
   "execution_count": null,
   "metadata": {},
   "outputs": [],
   "source": [
    "class Station:\n",
    "    def __init__(self, gas_amount):\n",
    "        self.gas_amount = gas_amount\n",
    "    def refill(self, car):\n",
    "        \n",
    "        \n",
    "class Car:\n",
    "    def __init__(self, gas_amount = 0, capacity = 100):\n",
    "        self.gas_amount = gas_amount\n",
    "        self.capacity = capacity"
   ]
  }
 ],
 "metadata": {
  "kernelspec": {
   "display_name": "Python 3",
   "language": "python",
   "name": "python3"
  },
  "language_info": {
   "codemirror_mode": {
    "name": "ipython",
    "version": 3
   },
   "file_extension": ".py",
   "mimetype": "text/x-python",
   "name": "python",
   "nbconvert_exporter": "python",
   "pygments_lexer": "ipython3",
   "version": "3.7.0"
  }
 },
 "nbformat": 4,
 "nbformat_minor": 2
}
