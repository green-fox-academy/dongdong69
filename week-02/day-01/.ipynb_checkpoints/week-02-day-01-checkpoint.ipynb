{
 "cells": [
  {
   "cell_type": "markdown",
   "metadata": {},
   "source": [
    "# <font color=blue> 1.Object Oriented Programming<font>"
   ]
  },
  {
   "cell_type": "markdown",
   "metadata": {},
   "source": [
    "## Post-it"
   ]
  },
  {
   "cell_type": "code",
   "execution_count": 1,
   "metadata": {},
   "outputs": [],
   "source": [
    "class PostIt:\n",
    "    background_color = \"\"\n",
    "    text = \"\"\n",
    "    text_color = \"\"\n",
    "    \n",
    "PostIt1 = PostIt()\n",
    "\n",
    "PostIt1.background_color = \"orange\"\n",
    "PostIt1.text = \"Idea 1\"\n",
    "PostIt1.text_color = \"blue\""
   ]
  },
  {
   "cell_type": "code",
   "execution_count": 10,
   "metadata": {},
   "outputs": [
    {
     "name": "stdout",
     "output_type": "stream",
     "text": [
      "\u001b[1;34;41man orange with blue text: \"Idea 1\"\u001b[0m\n"
     ]
    }
   ],
   "source": [
    "print(f\"\\033[1;34;41man {PostIt1.background_color} with {PostIt1.text_color} text: \\\"{PostIt1.text}\\\"\\033[0m\")"
   ]
  },
  {
   "cell_type": "markdown",
   "metadata": {},
   "source": [
    "## BlogPost"
   ]
  },
  {
   "cell_type": "code",
   "execution_count": 12,
   "metadata": {},
   "outputs": [],
   "source": [
    "class BlogPost:\n",
    "    author_name = \"\"\n",
    "    title = \"\"\n",
    "    text = \"\"\n",
    "    publication_date = \"\"\n",
    "    \n",
    "John_blog = BlogPost()\n",
    "John_blog.author_name = \"John Doe\"\n",
    "John_blog.title = \"Lorem Ipsum\"\n",
    "John_blog.text = \"Lorem ipsum dolor sit amet.\"\n",
    "John_blog.publication_date = \"2000.05.04.\""
   ]
  },
  {
   "cell_type": "markdown",
   "metadata": {},
   "source": [
    "## Sharpie"
   ]
  },
  {
   "cell_type": "code",
   "execution_count": 3,
   "metadata": {},
   "outputs": [],
   "source": [
    "class Sharpie:\n",
    "    \n",
    "    def __init__(self, color = \"\", width = 0, ink_amount = 100):\n",
    "        self.color = color\n",
    "        self.width = width\n",
    "        self.ink_amount = ink_amount\n",
    "        \n",
    "    def use():\n",
    "        ink_amount -= 1"
   ]
  },
  {
   "cell_type": "markdown",
   "metadata": {},
   "source": [
    "## Counter"
   ]
  },
  {
   "cell_type": "code",
   "execution_count": 2,
   "metadata": {},
   "outputs": [],
   "source": [
    "class Counter:\n",
    "    \n",
    "    def __init__(self, value = 0):\n",
    "        self.value = value\n",
    "        self.initvalue = value\n",
    "        \n",
    "    def add(self, other = 1):\n",
    "        self.value = self.value + other\n",
    "    \n",
    "    def get(self):\n",
    "        return self.value\n",
    "    \n",
    "    def reset(self):\n",
    "        self.value = self.initvalue"
   ]
  },
  {
   "cell_type": "code",
   "execution_count": 3,
   "metadata": {},
   "outputs": [
    {
     "name": "stderr",
     "output_type": "stream",
     "text": [
      "......\n",
      "----------------------------------------------------------------------\n",
      "Ran 6 tests in 0.003s\n",
      "\n",
      "OK\n"
     ]
    }
   ],
   "source": [
    "import unittest\n",
    "\n",
    "class TestCounter(unittest.TestCase):\n",
    "\n",
    "    def setUp(self):\n",
    "        self.c = Counter()\n",
    "\n",
    "    def test_addMore(self):\n",
    "        self.c.add(5)\n",
    "        self.assertEqual(self.c.get(), 5)\n",
    "\n",
    "    def test_addOne(self):\n",
    "        self.c.add()\n",
    "        self.assertEqual(self.c.get(), 1)\n",
    "\n",
    "    def test_getZero(self):\n",
    "        self.assertEqual(self.c.get(), 0)\n",
    "\n",
    "    def test_getInit(self):\n",
    "        c = Counter(7)\n",
    "        self.assertEqual(c.get(), 7)\n",
    "\n",
    "    def test_resetToZero(self):\n",
    "        self.c.add()\n",
    "        self.c.reset()\n",
    "        self.assertEqual(self.c.get(), 0)\n",
    "\n",
    "    def test_resetToInit(self):\n",
    "        c = Counter(7)\n",
    "        self.c.add(5)\n",
    "        self.c.reset()\n",
    "        self.assertEqual(c.get(), 7)\n",
    "\n",
    "if __name__ == '__main__':\n",
    "    unittest.main(argv = ['first-arg-is-ignored'], exit = False)"
   ]
  },
  {
   "cell_type": "markdown",
   "metadata": {},
   "source": [
    "## Pokemon"
   ]
  },
  {
   "cell_type": "code",
   "execution_count": 77,
   "metadata": {},
   "outputs": [
    {
     "name": "stdout",
     "output_type": "stream",
     "text": [
      "I choose you, Charizard!\n"
     ]
    }
   ],
   "source": [
    "class Pokemon(object):\n",
    "    def __init__(self, name, type, effectiveAgainst):\n",
    "        self.name = name\n",
    "        self.type = type\n",
    "        self.effectiveAgainst = effectiveAgainst\n",
    "\n",
    "    def isEffectiveAgainst(self, anotherPokemon):\n",
    "        return self.effectiveAgainst == anotherPokemon.type\n",
    "\n",
    "def initializePokemons():\n",
    "        pokemon = []\n",
    "\n",
    "        pokemon.append(Pokemon(\"Balbasaur\", \"leaf\", \"water\"))\n",
    "        pokemon.append(Pokemon(\"Pikatchu\", \"electric\", \"water\"))\n",
    "        pokemon.append(Pokemon(\"Charizard\", \"fire\", \"leaf\"))\n",
    "        pokemon.append(Pokemon(\"Balbasaur\", \"water\", \"fire\"))\n",
    "        pokemon.append(Pokemon(\"Kingler\", \"water\", \"fire\"))\n",
    "\n",
    "        return pokemon\n",
    "\n",
    "pokemon = initializePokemons()\n",
    "\n",
    "# Every pokemon has a name and a type.\n",
    "# Certain types are effective against others, e.g. water is effective against fire.\n",
    "\n",
    "# Ash has a few pokemon.\n",
    "# A wild pokemon appeared!\n",
    "\n",
    "wildPokemon = Pokemon(\"Oddish\", \"leaf\", \"water\")\n",
    "\n",
    "# Which pokemon should Ash use?\n",
    "        \n",
    "for poke in pokemon:\n",
    "    if poke.effectiveAgainst == wildPokemon.type:\n",
    "        my_choose = poke.name\n",
    "\n",
    "print(f\"I choose you, {my_choose}!\")"
   ]
  },
  {
   "cell_type": "markdown",
   "metadata": {},
   "source": [
    "## Fleet of Things"
   ]
  },
  {
   "cell_type": "code",
   "execution_count": 79,
   "metadata": {},
   "outputs": [],
   "source": [
    "class Thing:\n",
    "    def __init__(self, name):\n",
    "        self.name = name\n",
    "        self.completed = False\n",
    "\n",
    "    def complete(self):\n",
    "        self.completed = True\n",
    "\n",
    "    def __str__(self):\n",
    "        return (\"[x] \" if self.completed else \"[ ] \") + self.name\n",
    "\n",
    "class Fleet(object):\n",
    "    def __init__(self):\n",
    "        self.things = []\n",
    "\n",
    "    def add(self, thing):\n",
    "        self.things.append(thing)\n",
    "\n",
    "    def __str__(self):\n",
    "        result = \"\"\n",
    "        for i in range(0, len(self.things)):\n",
    "            result += str(i+1) + \". \" + self.things[i].__str__() + \"\\n\"\n",
    "        return result"
   ]
  },
  {
   "cell_type": "code",
   "execution_count": 82,
   "metadata": {},
   "outputs": [
    {
     "name": "stdout",
     "output_type": "stream",
     "text": [
      "1. [ ] Get milk\n",
      "2. [ ] Remove the obstacles\n",
      "3. [x] Stand up\n",
      "4. [x] Eat lunch\n",
      "\n"
     ]
    }
   ],
   "source": [
    "fleet = Fleet()\n",
    "# Create a fleet of things to have this output:\n",
    "# 1. [ ] Get milk\n",
    "# 2. [ ] Remove the obstacles\n",
    "# 3. [x] Stand up\n",
    "# 4. [x] Eat lunch\n",
    "\n",
    "first = Thing(\"Get milk\")\n",
    "second = Thing(\"Remove the obstacles\")\n",
    "third = Thing(\"Stand up\")\n",
    "forth = Thing(\"Eat lunch\")\n",
    "\n",
    "third.complete()\n",
    "forth.complete()\n",
    "\n",
    "fleet.add(first)\n",
    "fleet.add(second)\n",
    "fleet.add(third)\n",
    "fleet.add(forth)\n",
    "\n",
    "print(fleet)"
   ]
  },
  {
   "cell_type": "markdown",
   "metadata": {},
   "source": [
    "## DiceSet"
   ]
  },
  {
   "cell_type": "code",
   "execution_count": 1,
   "metadata": {},
   "outputs": [
    {
     "name": "stdout",
     "output_type": "stream",
     "text": [
      "[6, 3, 5, 1, 1, 4]\n",
      "[6, 6, 6, 6, 6, 6]\n"
     ]
    }
   ],
   "source": [
    "import random\n",
    "\n",
    "class DicSet:\n",
    "    \n",
    "    def __init__(self):\n",
    "        self.dics = [1, 1, 1, 1, 1, 1]\n",
    "    \n",
    "    def roll(self):\n",
    "        for i in range(6):\n",
    "            self.dics[i] = random.randint(1,6)\n",
    "            \n",
    "    def get_current(self):\n",
    "        return self.dics\n",
    "        \n",
    "    def reroll(self):\n",
    "        for i in range(6):\n",
    "            self.dics[i] = random.randint(1,6)\n",
    "            \n",
    "d = DicSet()\n",
    "d.roll()\n",
    "print(d.get_current())\n",
    "\n",
    "while not sum(d.get_current()) is 36:\n",
    "    d.reroll()\n",
    "print(d.get_current())"
   ]
  },
  {
   "cell_type": "markdown",
   "metadata": {},
   "source": [
    "## Dominoes"
   ]
  },
  {
   "cell_type": "code",
   "execution_count": 4,
   "metadata": {},
   "outputs": [],
   "source": [
    "class Domino(object):\n",
    "    def __init__(self, value_a, value_b):\n",
    "        self.values = [value_a, value_b]\n",
    "\n",
    "    def __repr__(self):\n",
    "        return '[{}, {}]'.format(self.values[0], self.values[1])"
   ]
  },
  {
   "cell_type": "code",
   "execution_count": 11,
   "metadata": {},
   "outputs": [
    {
     "name": "stdout",
     "output_type": "stream",
     "text": [
      "[[5, 2], [2, 4], [4, 6], [6, 7], [7, 1], [1, 5]]\n"
     ]
    }
   ],
   "source": [
    "def initialize_dominoes():\n",
    "    dominoes = []\n",
    "    dominoes.append(Domino(5, 2))\n",
    "    dominoes.append(Domino(4, 6))\n",
    "    dominoes.append(Domino(1, 5))\n",
    "    dominoes.append(Domino(6, 7))\n",
    "    dominoes.append(Domino(2 ,4))\n",
    "    dominoes.append(Domino(7, 1))\n",
    "    return dominoes\n",
    "\n",
    "dominoes = initialize_dominoes()\n",
    "# You have the list of Dominoes\n",
    "# Order them into one snake where the adjacent dominoes have the same numbers on their adjacent sides\n",
    "# eg: [2, 4], [4, 3], [3, 5] ...\n",
    "\n",
    "dic_dominoes = {}\n",
    "\n",
    "for dominoe in dominoes:\n",
    "    dic_dominoes[dominoe.values[0]] = dominoe\n",
    "\n",
    "find = dominoes[0].values[1]\n",
    "\n",
    "for i in range(1, len(dominoes)):\n",
    "    for j in range(i, len(dominoes)):\n",
    "        if dominoes[j] is dic_dominoes[find]:\n",
    "            find = dominoes[j].values[1]\n",
    "            dominoes[i], dominoes[j] = dominoes[j], dominoes[i]\n",
    "            break\n",
    "    \n",
    "print(dominoes)"
   ]
  },
  {
   "cell_type": "markdown",
   "metadata": {},
   "source": [
    "## Teacher Student"
   ]
  },
  {
   "cell_type": "code",
   "execution_count": 13,
   "metadata": {},
   "outputs": [],
   "source": [
    "class Student:\n",
    "    def learn(self):\n",
    "        return None\n",
    "        \n",
    "    def question(self, teacher):\n",
    "        return teacher.answer()\n",
    "        \n",
    "class Teacher:\n",
    "    def teach(self, student):\n",
    "        return student.learn()\n",
    "        \n",
    "    def answer(slef):\n",
    "        return None"
   ]
  },
  {
   "cell_type": "markdown",
   "metadata": {},
   "source": [
    "## Petrol Station"
   ]
  },
  {
   "cell_type": "code",
   "execution_count": 1,
   "metadata": {},
   "outputs": [],
   "source": [
    "class Station:\n",
    "    def __init__(self, gas_amount):\n",
    "        self.gas_amount = gas_amount\n",
    "    def refill(self, car):\n",
    "        \n",
    "        self.gas_amount =  self.gas_amount - car.capacity + car.gas_amount\n",
    "        car.gas_amount = car.capacity\n",
    "\n",
    "        \n",
    "class Car:\n",
    "    def __init__(self, gas_amount = 0, capacity = 100):\n",
    "        self.gas_amount = gas_amount\n",
    "        self.capacity = capacity"
   ]
  },
  {
   "cell_type": "code",
   "execution_count": 2,
   "metadata": {},
   "outputs": [
    {
     "name": "stdout",
     "output_type": "stream",
     "text": [
      "100\n",
      "900\n"
     ]
    }
   ],
   "source": [
    "c = Car()\n",
    "s = Station(1000)\n",
    "\n",
    "s.refill(c)\n",
    "print(c.gas_amount)\n",
    "print(s.gas_amount)"
   ]
  },
  {
   "cell_type": "markdown",
   "metadata": {},
   "source": [
    "## Sharpie Set"
   ]
  },
  {
   "cell_type": "code",
   "execution_count": 10,
   "metadata": {},
   "outputs": [],
   "source": [
    "class SharpieSet:\n",
    "    def __init__(self, *Sharpies):\n",
    "        self.sharpie_list = []\n",
    "        for sharpie in Sharpies:\n",
    "            self.sharpie_list.append(sharpie)\n",
    "            \n",
    "    def count_usable(self):\n",
    "        number_usable = 0\n",
    "        for sharpie in sharpie_list:\n",
    "            if sharpie.ink_amount:\n",
    "                number_usable += 1\n",
    "                \n",
    "        return number_usable\n",
    "    \n",
    "    def remove_trash(self):\n",
    "        usable_list = []\n",
    "        for s in self.sharpie_list:\n",
    "            if s.ink_amount:\n",
    "                usable_list.append(s)\n",
    "        self.sharpie_list = usable_list"
   ]
  },
  {
   "cell_type": "markdown",
   "metadata": {},
   "source": [
    "## Pirates"
   ]
  },
  {
   "cell_type": "code",
   "execution_count": 2,
   "metadata": {},
   "outputs": [],
   "source": [
    "import random\n",
    "\n",
    "class Pirate:\n",
    "    def __init__(self, time = 0, dead = False):\n",
    "        self.time = time\n",
    "        self.dead = dead\n",
    "        \n",
    "    def drink_some_rum(self):\n",
    "        if self.dead:\n",
    "            print(\"he's dead\")\n",
    "        else:\n",
    "            self.time += 1\n",
    "        \n",
    "    def hows_it_going_mate(self):\n",
    "        print([\"Pour me anudder!\", \"Arghh, I'ma Pirate. How d'ya d'ink its goin?\"][self.time > 4])\n",
    "        \n",
    "    def die(self):\n",
    "        self.dead = True\n",
    "        \n",
    "    def brawl(self, other):\n",
    "        random_number = random.randint(1,9)\n",
    "        \n",
    "        if random_number <= 3:\n",
    "            self.dead = True\n",
    "        elif random_number <= 6:\n",
    "            other.dead = True\n",
    "        else:\n",
    "            self.dead = True\n",
    "            other.dead = True"
   ]
  },
  {
   "cell_type": "code",
   "execution_count": 15,
   "metadata": {},
   "outputs": [],
   "source": [
    "class Ship:\n",
    "    def __init__(self):\n",
    "        self.rum = 0\n",
    "        self.pirates = []\n",
    "        self.captain = None\n",
    "        self.rum_consumed = 0\n",
    "        self.alives = 0\n",
    "        \n",
    "    def fill_ship(self):\n",
    "        # the first pirate in the list is the captain\n",
    "        random_number = random.randint(1,9)\n",
    "        for i in range(random_number):\n",
    "            p = Pirate()\n",
    "            self.pirates.append(p)\n",
    "            \n",
    "        self.alives = random_number\n",
    "        self.rum_consumed = self.pirates[0].time\n",
    "        \n",
    "    def count_alives(self):\n",
    "        self.alives = 0\n",
    "        for pirate in self.pirates:\n",
    "            if not pirate.dead:\n",
    "                self.alives += 1\n",
    "        return self.alives\n",
    "            \n",
    "    def score(self):\n",
    "        return self.alives - self.pirates[0].time\n",
    "    \n",
    "    def battle(self, otherShip):\n",
    "        random_rum = random.randint(1, 9)\n",
    "        if self.score() > otherShip.score():\n",
    "            self.rum += random_rum\n",
    "            random_dead = random.randint(1, otherShip.count_alives())\n",
    "            i = 1\n",
    "            j = 0\n",
    "            while i < random_dead + 1:\n",
    "                \n",
    "                if not otherShip.pirates[j].dead:\n",
    "                    otherShip.pirates[j].die()\n",
    "                    i += 1\n",
    "                j += 1\n",
    "            return True\n",
    "                        \n",
    "        else:\n",
    "            otherShip.rum += random_rum\n",
    "            random_dead = random.randint(1, self.count_alives())\n",
    "            i = 1\n",
    "            j = 0\n",
    "            while i < random_dead + 1:\n",
    "                \n",
    "                if not self.pirates[j].dead:\n",
    "                    self.pirates[j].die()\n",
    "                    i += 1\n",
    "                j += 1\n",
    "            return False"
   ]
  },
  {
   "cell_type": "code",
   "execution_count": 16,
   "metadata": {},
   "outputs": [
    {
     "name": "stdout",
     "output_type": "stream",
     "text": [
      "0\n",
      "Pour me anudder!\n",
      "Arghh, I'ma Pirate. How d'ya d'ink its goin?\n",
      "he's dead\n"
     ]
    }
   ],
   "source": [
    "p = Pirate()\n",
    "print(p.time)\n",
    "p.drink_some_rum()\n",
    "p.hows_it_going_mate()\n",
    "p.drink_some_rum()\n",
    "p.drink_some_rum()\n",
    "p.drink_some_rum()\n",
    "p.drink_some_rum()\n",
    "p.hows_it_going_mate()\n",
    "p.die()\n",
    "p.drink_some_rum()"
   ]
  },
  {
   "cell_type": "markdown",
   "metadata": {},
   "source": [
    "## BattleApp"
   ]
  },
  {
   "cell_type": "code",
   "execution_count": 17,
   "metadata": {},
   "outputs": [
    {
     "name": "stdout",
     "output_type": "stream",
     "text": [
      "9\n",
      "8\n",
      "True\n"
     ]
    }
   ],
   "source": [
    "s1 = Ship()\n",
    "s2 = Ship()\n",
    "\n",
    "s1.fill_ship()\n",
    "s2.fill_ship()\n",
    "print(s1.score())\n",
    "\n",
    "print(s2.score())\n",
    "\n",
    "print(s1.battle(s2))"
   ]
  },
  {
   "cell_type": "code",
   "execution_count": 18,
   "metadata": {},
   "outputs": [
    {
     "name": "stdout",
     "output_type": "stream",
     "text": [
      "9\n"
     ]
    }
   ],
   "source": [
    "print(s1.count_alives())"
   ]
  },
  {
   "cell_type": "code",
   "execution_count": 19,
   "metadata": {},
   "outputs": [
    {
     "name": "stdout",
     "output_type": "stream",
     "text": [
      "9\n"
     ]
    }
   ],
   "source": [
    "print(s1.alives)"
   ]
  },
  {
   "cell_type": "code",
   "execution_count": 20,
   "metadata": {},
   "outputs": [
    {
     "name": "stdout",
     "output_type": "stream",
     "text": [
      "0\n"
     ]
    }
   ],
   "source": [
    "print(s2.rum)"
   ]
  },
  {
   "cell_type": "markdown",
   "metadata": {},
   "source": [
    "## Armada"
   ]
  },
  {
   "cell_type": "code",
   "execution_count": 21,
   "metadata": {},
   "outputs": [],
   "source": [
    "class Armada:\n",
    "    def __init__(self, *ships):\n",
    "        \n",
    "        self.ship_list = []\n",
    "        for ship in ships:\n",
    "            self.ship_list.append(ship)\n",
    "            \n",
    "    def war(self, otherArmada):\n",
    "        i, j = 0, 0\n",
    "        while i < len(self.ship_list) and j < len(otherArmada.ship_list):\n",
    "            if self.ship_list[i].battle(otherArmada.ship_list[j]):\n",
    "                j += 1\n",
    "            else:\n",
    "                i += 1\n",
    "                \n",
    "        if i is len(self.ship_list):\n",
    "            return False\n",
    "        else:\n",
    "            return True"
   ]
  },
  {
   "cell_type": "markdown",
   "metadata": {},
   "source": [
    "## warApp"
   ]
  },
  {
   "cell_type": "code",
   "execution_count": 24,
   "metadata": {},
   "outputs": [
    {
     "name": "stdout",
     "output_type": "stream",
     "text": [
      "True\n"
     ]
    }
   ],
   "source": [
    "A1_Ship1 = Ship()\n",
    "A1_Ship1.fill_ship()\n",
    "A1_Ship2 = Ship()\n",
    "A1_Ship2.fill_ship()\n",
    "A1_Ship3 = Ship()\n",
    "A1_Ship3.fill_ship()\n",
    "A1_Ship4 = Ship()\n",
    "A1_Ship4.fill_ship()\n",
    "\n",
    "A2_Ship1 = Ship()\n",
    "A2_Ship1.fill_ship()\n",
    "A2_Ship2 = Ship()\n",
    "A2_Ship2.fill_ship()\n",
    "A2_Ship3 = Ship()\n",
    "A2_Ship3.fill_ship()\n",
    "\n",
    "A1 = Armada(A1_Ship1, A1_Ship2, A1_Ship3, A1_Ship4)\n",
    "A2 = Armada(A2_Ship1, A2_Ship2, A2_Ship3)\n",
    "\n",
    "print(A1.war(A2))"
   ]
  },
  {
   "cell_type": "markdown",
   "metadata": {},
   "source": [
    "# <font color=blue> 2.Inheritance <font>"
   ]
  },
  {
   "cell_type": "markdown",
   "metadata": {},
   "source": [
    "## Green Fox inheritance exercise"
   ]
  },
  {
   "cell_type": "code",
   "execution_count": 79,
   "metadata": {},
   "outputs": [],
   "source": [
    "class Person:\n",
    "    def __init__(self, name = \"\", age = 0, gender = \"\"):\n",
    "        self.name = name\n",
    "        self.age = age\n",
    "        self.gender = gender\n",
    "        \n",
    "    def introduce(self):\n",
    "        print(f\"Hi, I'm {self.name}, a {self.age} year old {self.gender}\")\n",
    "        \n",
    "    def get_goal(self):\n",
    "        print(\"My goal is: Live for the moment!\")\n",
    "        \n",
    "p = Person(\"Jane Doe\", 30, \"female\")"
   ]
  },
  {
   "cell_type": "code",
   "execution_count": 95,
   "metadata": {},
   "outputs": [],
   "source": [
    "class Student(Person):\n",
    "    \n",
    "    def __init__(self, name = \"\", age = 0, gender = \"\", previous_organization = \"\", skipped_days = 0):\n",
    "        super(Student, self).__init__(name, age, gender)\n",
    "        self.previous_organization = previous_organization\n",
    "        self.skipped_days = skipped_days\n",
    "        \n",
    "    def introduce(self):\n",
    "        print(f\"Hi, I'm {self.name}, a {self.age} year old {self.gender} from {self.previous_organization} who skipped {self.skipped_days} days from the course already\")\n",
    "        \n",
    "    def skip_days(self, number_of_days):\n",
    "        self.skipped_days += number_of_days\n",
    "        \n",
    "    def get_goal(self):\n",
    "        print(\"Be a junior software developer.\")"
   ]
  },
  {
   "cell_type": "code",
   "execution_count": 125,
   "metadata": {},
   "outputs": [],
   "source": [
    "class Mentor(Person):\n",
    "    \n",
    "    def __init__(self, name = \"\", age = 0, gender = \"\", level = \"\"):\n",
    "        super(Mentor, self).__init__(name, age, gender)\n",
    "        self.level = level\n",
    "        \n",
    "    def get_goal(self):\n",
    "        print(\"Educate brilliant junior software developers.\")\n",
    "        \n",
    "    def introduce(self):\n",
    "        print(f\"Hi, I'm {self.name}, a {self.age} year old {self.gender} {self.level} mentor\")"
   ]
  },
  {
   "cell_type": "code",
   "execution_count": 126,
   "metadata": {},
   "outputs": [],
   "source": [
    "class Sponsor(Person):\n",
    "    \n",
    "    def __init__(self, name = \"\", age = 0, gender = \"\", company = \"\", hired_students = 0):\n",
    "        super(Sponsor, self).__init__(name, age, gender)\n",
    "        self.company = company\n",
    "        self.hired_students = hired_students\n",
    "        \n",
    "    def introduce(self):\n",
    "         print(f\"Hi, I'm {self.name}, a {self.age} year old {self.gender} who represents {self.company} and hired {self.hired_students} students so far.\")\n",
    "            \n",
    "    def hire(self):\n",
    "        self.hired_students += 1\n",
    "        \n",
    "    def get_goal(self):\n",
    "        print(\"Hire brilliant junior software developers.\")"
   ]
  },
  {
   "cell_type": "code",
   "execution_count": 130,
   "metadata": {},
   "outputs": [],
   "source": [
    "class Cohort:\n",
    "    \n",
    "    def __init__(self, name, students = [], mentors = []):\n",
    "        self.name = name\n",
    "        self.students = students\n",
    "        self.mentors = mentors\n",
    "        \n",
    "    def add_student(self, student):\n",
    "        self.students.append(student)\n",
    "        \n",
    "    def add_mentor(self, mentor):\n",
    "        self.mentors.append(mentor)\n",
    "        \n",
    "    def info(self):\n",
    "        print(f\"The {self.name} cohort has {len(self.students)} students and {len(self.mentors)} mentors.\")"
   ]
  },
  {
   "cell_type": "code",
   "execution_count": 131,
   "metadata": {},
   "outputs": [
    {
     "name": "stdout",
     "output_type": "stream",
     "text": [
      "Hi, I'm Mark, a 46 year old male\n",
      "My goal is: Live for the moment!\n",
      "Hi, I'm , a 0 year old \n",
      "My goal is: Live for the moment!\n",
      "Hi, I'm John Doe, a 20 year old male from BME who skipped 0 days from the course already\n",
      "Be a junior software developer.\n",
      "Hi, I'm , a 0 year old  from  who skipped 3 days from the course already\n",
      "Be a junior software developer.\n",
      "Hi, I'm Gandhi, a 148 year old male senior mentor\n",
      "Educate brilliant junior software developers.\n",
      "Hi, I'm , a 0 year old   mentor\n",
      "Educate brilliant junior software developers.\n",
      "Hi, I'm Elon Musk, a 46 year old male who represents SpaceX and hired 5 students so far.\n",
      "Hire brilliant junior software developers.\n",
      "The AWESOME cohort has 2 students and 2 mentors.\n"
     ]
    }
   ],
   "source": [
    "people = []\n",
    "\n",
    "mark = Person('Mark', 46, 'male')\n",
    "people.append(mark)\n",
    "jane = Person()\n",
    "people.append(jane)\n",
    "john = Student('John Doe', 20, 'male', 'BME')\n",
    "people.append(john)\n",
    "student = Student()\n",
    "people.append(student)\n",
    "gandhi = Mentor('Gandhi', 148, 'male', 'senior')\n",
    "people.append(gandhi)\n",
    "mentor = Mentor()\n",
    "people.append(mentor)\n",
    "sponsor = Sponsor()\n",
    "elon = Sponsor('Elon Musk', 46, 'male', 'SpaceX')\n",
    "people.append(elon)\n",
    "student.skip_days(3)\n",
    "\n",
    "for i in range(5):\n",
    "    elon.hire()\n",
    "\n",
    "for i in range(3):\n",
    "    sponsor.hire()\n",
    "\n",
    "for person in people:\n",
    "    person.introduce()\n",
    "    person.get_goal()\n",
    "\n",
    "awesome = Cohort('AWESOME')\n",
    "awesome.add_student(student);\n",
    "awesome.add_student(john);\n",
    "awesome.add_mentor(mentor);\n",
    "awesome.add_mentor(gandhi);\n",
    "awesome.info();"
   ]
  },
  {
   "cell_type": "markdown",
   "metadata": {},
   "source": [
    "## The Garden Application"
   ]
  },
  {
   "cell_type": "code",
   "execution_count": 185,
   "metadata": {},
   "outputs": [],
   "source": [
    "class Garden:\n",
    "    \n",
    "    def __init__(self, flowers = [], trees = []):\n",
    "        self.flowers = flowers\n",
    "        self.trees = trees\n",
    "        \n",
    "    def add_flowers(self, flower):\n",
    "        self.flowers.append(flower)\n",
    "        \n",
    "    def add_trees(self, tree):\n",
    "        self.trees.append(tree)\n",
    "        \n",
    "    def watering(self, amount):\n",
    "        \n",
    "        print(f\"Watering with {amount}\")\n",
    "        number = 0\n",
    "        for flower in self.flowers:\n",
    "            if flower.need_water:\n",
    "                number += 1\n",
    "                \n",
    "        for tree in self.trees:\n",
    "            if tree.need_water:\n",
    "                number += 1\n",
    "        \n",
    "        average_water = amount / number\n",
    "        for flower in self.flowers:\n",
    "            if flower.need_water:\n",
    "                flower.add_water(average_water)\n",
    "                \n",
    "        for tree in self.trees:\n",
    "            if tree.need_water:\n",
    "                tree.add_water(average_water)\n",
    "                \n",
    "        self.info()\n",
    "        \n",
    "    def info(self):\n",
    "        for flower in self.flowers:\n",
    "            if flower.need_water():\n",
    "                print(f\"The {flower.color} Flower needs water\")\n",
    "            else:\n",
    "                print(f\"The {flower.color} Flower doesnt needs water\")\n",
    "                \n",
    "        for tree in self.trees:\n",
    "            if tree.need_water():\n",
    "                print(f\"The {tree.color} Flower needs water\")\n",
    "            else:\n",
    "                print(f\"The {tree.color} Flower doesnt needs water\")\n",
    "        \n",
    "class Flower:\n",
    "    \n",
    "    def __init__(self, color = \"\", water = 0):\n",
    "        self.color = color\n",
    "        self.water = water\n",
    "        \n",
    "    def need_water(self):\n",
    "        if self.water < 5:\n",
    "            return True\n",
    "        else:\n",
    "            return False\n",
    "            \n",
    "    def add_water(self, amount):\n",
    "        self.water += amount * 0.75\n",
    "        \n",
    "class Tree:\n",
    "    \n",
    "    def __init__(self, color = \"\", water = 0):\n",
    "        self.color = color\n",
    "        self.water = water\n",
    "        \n",
    "    def need_water(self):\n",
    "        if self.water < 10:\n",
    "            return True\n",
    "        else:\n",
    "            return False\n",
    "            \n",
    "    def add_water(self, amount):\n",
    "        self.water += amount * 0.4"
   ]
  },
  {
   "cell_type": "code",
   "execution_count": 186,
   "metadata": {},
   "outputs": [
    {
     "name": "stdout",
     "output_type": "stream",
     "text": [
      "The yellow Flower needs water\n",
      "The blue Flower needs water\n",
      "The purple Flower needs water\n",
      "The orange Flower needs water\n",
      "\n",
      "\n",
      "Watering with 40\n",
      "The yellow Flower doesnt needs water\n",
      "The blue Flower doesnt needs water\n",
      "The purple Flower needs water\n",
      "The orange Flower needs water\n",
      "\n",
      "\n",
      "Watering with 70\n",
      "The yellow Flower doesnt needs water\n",
      "The blue Flower doesnt needs water\n",
      "The purple Flower doesnt needs water\n",
      "The orange Flower doesnt needs water\n"
     ]
    }
   ],
   "source": [
    "G = Garden()\n",
    "yellow_flower = Flower(\"yellow\")\n",
    "blue_flower = Flower(\"blue\")\n",
    "\n",
    "purple_tree = Tree(\"purple\")\n",
    "orange_tree = Tree(\"orange\")\n",
    "\n",
    "G.add_flowers(yellow_flower)\n",
    "G.add_flowers(blue_flower)\n",
    "\n",
    "G.add_trees(purple_tree)\n",
    "G.add_trees(orange_tree)\n",
    "\n",
    "G.info()\n",
    "print(\"\\n\")\n",
    "G.watering(40)\n",
    "print(\"\\n\")\n",
    "G.watering(70)"
   ]
  },
  {
   "cell_type": "code",
   "execution_count": 173,
   "metadata": {},
   "outputs": [
    {
     "data": {
      "text/plain": [
       "11.0"
      ]
     },
     "execution_count": 173,
     "metadata": {},
     "output_type": "execute_result"
    }
   ],
   "source": [
    "orange_tree.water"
   ]
  },
  {
   "cell_type": "code",
   "execution_count": 174,
   "metadata": {},
   "outputs": [
    {
     "name": "stdout",
     "output_type": "stream",
     "text": [
      "False\n"
     ]
    }
   ],
   "source": [
    "print(orange_tree.need_water())"
   ]
  },
  {
   "cell_type": "code",
   "execution_count": 175,
   "metadata": {},
   "outputs": [
    {
     "name": "stdout",
     "output_type": "stream",
     "text": [
      "False\n"
     ]
    }
   ],
   "source": [
    "print(purple_tree.need_water())"
   ]
  },
  {
   "cell_type": "code",
   "execution_count": 176,
   "metadata": {},
   "outputs": [
    {
     "name": "stdout",
     "output_type": "stream",
     "text": [
      "The yellow Flower needs water\n",
      "The blue Flower needs water\n",
      "The purple Flower needs water\n",
      "The orange Flower needs water\n"
     ]
    }
   ],
   "source": [
    "G.info()"
   ]
  }
 ],
 "metadata": {
  "kernelspec": {
   "display_name": "Python 3",
   "language": "python",
   "name": "python3"
  },
  "language_info": {
   "codemirror_mode": {
    "name": "ipython",
    "version": 3
   },
   "file_extension": ".py",
   "mimetype": "text/x-python",
   "name": "python",
   "nbconvert_exporter": "python",
   "pygments_lexer": "ipython3",
   "version": "3.7.0"
  }
 },
 "nbformat": 4,
 "nbformat_minor": 2
}
