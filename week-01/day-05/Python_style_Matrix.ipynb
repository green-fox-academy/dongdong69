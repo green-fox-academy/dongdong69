{
 "cells": [
  {
   "cell_type": "markdown",
   "metadata": {},
   "source": [
    "# <font color = red> Class_Matrix <font>"
   ]
  },
  {
   "cell_type": "markdown",
   "metadata": {},
   "source": [
    "<font color = blue> Using \"magic function\" to build a python style matrix! <font>"
   ]
  },
  {
   "cell_type": "code",
   "execution_count": 8,
   "metadata": {},
   "outputs": [],
   "source": [
    "import re\n",
    "\n",
    "class Matrix:\n",
    "    \n",
    "    def __init__(self, list_list = [[]]):\n",
    "        self.value = list_list\n",
    "        self.row = len(list_list)\n",
    "        self.column = len(list_list[0])\n",
    "        \n",
    "    def __add__(self, other):\n",
    "        new_matrix = []\n",
    "        for i in range(self.row):\n",
    "            new_row = []\n",
    "            for j in range(self.column):\n",
    "                new_row.append(self.value[i][j] + other.value[i][j])\n",
    "            new_matrix.append(new_row)\n",
    "        return Matrix(new_matrix)\n",
    "    \n",
    "    def __neg__(self):\n",
    "        new_matrix = []\n",
    "        for i in range(self.row):\n",
    "            new_row = []\n",
    "            for j in range(self.column):\n",
    "                new_row.append(-self.value[i][j])\n",
    "            new_matrix.append(new_row)\n",
    "        return Matrix(new_matrix)\n",
    "    \n",
    "    def __sub__(self, other):\n",
    "        \n",
    "        \n",
    "        \"\"\"new_matrix = []\n",
    "        for i in range(self.row):\n",
    "            new_row = []\n",
    "            for j in range(self.column):\n",
    "                new_row.append(self.value[i][j] - other.value[i][j])\n",
    "            new_matrix.append(new_row)\"\"\"\n",
    "\n",
    "        return self + (-other)\n",
    "    \n",
    "    def __mul__(self, other):\n",
    "        if re.match(\"\\d+\", str(other)):\n",
    "            new_matrix = []\n",
    "            for i in range(self.row):\n",
    "                new_row = []\n",
    "                for j in range(self.column):\n",
    "                    new_row.append(self.value[i][j] * other)\n",
    "                new_matrix.append(new_row)\n",
    "        \n",
    "            return Matrix(new_matrix)\n",
    "        \n",
    "        else:    \n",
    "                new_matrix = []\n",
    "                for i in range(self.row):\n",
    "                    new_row = []\n",
    "                    for j in range(other.column):\n",
    "                        new_row.append(0)\n",
    "                    new_matrix.append(new_row)\n",
    "            \n",
    "                for i in range(self.row):\n",
    "                    for j in range(other.column):\n",
    "                        rowXcolumn = 0\n",
    "                        for k in range(self.column):\n",
    "                            rowXcolumn += self.value[i][k] * other.value[k][j]\n",
    "                \n",
    "                        new_matrix[i][j] = rowXcolumn\n",
    "    \n",
    "                return Matrix(new_matrix)\n",
    "    \n",
    "    def T(self):\n",
    "        new_matrix = []\n",
    "        for i in range(self.column):\n",
    "            new_row = []\n",
    "            for j in range(self.row):\n",
    "                new_row.append(0)\n",
    "            \n",
    "            new_matrix.append(new_row)\n",
    "        \n",
    "        for i in range(self.row):\n",
    "            for j in range(self.column):\n",
    "                new_matrix[j][i] = self.value[i][j]\n",
    "        \n",
    "        return Matrix(new_matrix)\n",
    "        \n",
    "    def display(self):\n",
    "        for row in self.value:\n",
    "            for item in row:\n",
    "                print(\"%5d\"%item, end = \"\")\n",
    "            print()"
   ]
  },
  {
   "cell_type": "code",
   "execution_count": 9,
   "metadata": {},
   "outputs": [],
   "source": [
    "m = Matrix([[1,2,3],[4,5,6],[7,8,9]])\n",
    "n = Matrix([[1,2,3],[4,5,6],[7,8,9]])\n",
    "nn = Matrix([[1,2,3],[4,5,6]])\n",
    "\n",
    "add_m = m + n\n",
    "sub_m = m - n\n",
    "neg_m = -m\n",
    "mXn = m * n\n"
   ]
  },
  {
   "cell_type": "code",
   "execution_count": 10,
   "metadata": {},
   "outputs": [
    {
     "name": "stdout",
     "output_type": "stream",
     "text": [
      "   30   36   42\n",
      "   66   81   96\n",
      "  102  126  150\n"
     ]
    }
   ],
   "source": [
    "mXn.display()"
   ]
  },
  {
   "cell_type": "code",
   "execution_count": 11,
   "metadata": {},
   "outputs": [
    {
     "name": "stdout",
     "output_type": "stream",
     "text": [
      "    2    4    6\n",
      "    8   10   12\n",
      "   14   16   18\n"
     ]
    }
   ],
   "source": [
    "add_m.display()"
   ]
  },
  {
   "cell_type": "code",
   "execution_count": 12,
   "metadata": {},
   "outputs": [
    {
     "name": "stdout",
     "output_type": "stream",
     "text": [
      "   -1   -2   -3\n",
      "   -4   -5   -6\n",
      "   -7   -8   -9\n"
     ]
    }
   ],
   "source": [
    "neg_m.display()"
   ]
  },
  {
   "cell_type": "code",
   "execution_count": 13,
   "metadata": {},
   "outputs": [
    {
     "name": "stdout",
     "output_type": "stream",
     "text": [
      "    0    0    0\n",
      "    0    0    0\n",
      "    0    0    0\n"
     ]
    }
   ],
   "source": [
    "sub_m.display()"
   ]
  },
  {
   "cell_type": "code",
   "execution_count": 14,
   "metadata": {},
   "outputs": [
    {
     "data": {
      "text/plain": [
       "<__main__.Matrix at 0x252229c7198>"
      ]
     },
     "execution_count": 14,
     "metadata": {},
     "output_type": "execute_result"
    }
   ],
   "source": [
    "m + n"
   ]
  },
  {
   "cell_type": "code",
   "execution_count": 15,
   "metadata": {},
   "outputs": [
    {
     "name": "stdout",
     "output_type": "stream",
     "text": [
      "    1    4\n",
      "    2    5\n",
      "    3    6\n"
     ]
    }
   ],
   "source": [
    "nn.T().display()"
   ]
  },
  {
   "cell_type": "code",
   "execution_count": 16,
   "metadata": {},
   "outputs": [],
   "source": [
    "c = m * 3"
   ]
  },
  {
   "cell_type": "code",
   "execution_count": 17,
   "metadata": {},
   "outputs": [
    {
     "name": "stdout",
     "output_type": "stream",
     "text": [
      "    3    6    9\n",
      "   12   15   18\n",
      "   21   24   27\n"
     ]
    }
   ],
   "source": [
    "c.display()"
   ]
  }
 ],
 "metadata": {
  "kernelspec": {
   "display_name": "Python 3",
   "language": "python",
   "name": "python3"
  },
  "language_info": {
   "codemirror_mode": {
    "name": "ipython",
    "version": 3
   },
   "file_extension": ".py",
   "mimetype": "text/x-python",
   "name": "python",
   "nbconvert_exporter": "python",
   "pygments_lexer": "ipython3",
   "version": "3.7.0"
  }
 },
 "nbformat": 4,
 "nbformat_minor": 2
}
