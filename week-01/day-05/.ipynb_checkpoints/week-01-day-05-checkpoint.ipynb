{
 "cells": [
  {
   "cell_type": "markdown",
   "metadata": {},
   "source": [
    "# <font color=blue> 1.Sorting Alg<font>"
   ]
  },
  {
   "cell_type": "markdown",
   "metadata": {},
   "source": [
    "## Bubble sort"
   ]
  },
  {
   "cell_type": "code",
   "execution_count": 1,
   "metadata": {},
   "outputs": [
    {
     "data": {
      "text/plain": [
       "[0, 2, 2, 2, 3, 6, 7, 8, 33, 56]"
      ]
     },
     "execution_count": 1,
     "metadata": {},
     "output_type": "execute_result"
    }
   ],
   "source": [
    "def bubble_sort(number_list):\n",
    "    for i in range(len(number_list)):\n",
    "        largest = 0\n",
    "        for j in range(len(number_list) - i):\n",
    "            if number_list[j] > number_list[largest]:\n",
    "                largest = j\n",
    "        number_list[largest], number_list[len(number_list) - i - 1] =  number_list[len(number_list) - i - 1], number_list[largest]\n",
    "        \n",
    "    return number_list\n",
    "\n",
    "bubble_sort([2,6,2,7,3,8,0,2,56,33])"
   ]
  },
  {
   "cell_type": "markdown",
   "metadata": {},
   "source": [
    "## Insertion sort"
   ]
  },
  {
   "cell_type": "code",
   "execution_count": 1,
   "metadata": {},
   "outputs": [
    {
     "name": "stderr",
     "output_type": "stream",
     "text": [
      "C:\\software\\Anaconda3\\lib\\site-packages\\ipykernel\\parentpoller.py:116: UserWarning: Parent poll failed.  If the frontend dies,\n",
      "                the kernel may be left running.  Please let us know\n",
      "                about your system (bitness, Python, etc.) at\n",
      "                ipython-dev@scipy.org\n",
      "  ipython-dev@scipy.org\"\"\")\n"
     ]
    },
    {
     "data": {
      "text/plain": [
       "[0, 2, 2, 2, 3, 6, 7, 8, 33, 56]"
      ]
     },
     "execution_count": 1,
     "metadata": {},
     "output_type": "execute_result"
    }
   ],
   "source": [
    "def insertion_sort(number_list):\n",
    "    for i in range(len(number_list)):\n",
    "        j = i\n",
    "        while not j == 0 and number_list[j] < number_list[j - 1]:\n",
    "            number_list[j], number_list[j - 1] = number_list[j - 1], number_list[j]\n",
    "            j -= 1\n",
    "    return number_list\n",
    "\n",
    "insertion_sort([2,6,2,7,3,8,0,2,56,33])"
   ]
  },
  {
   "cell_type": "markdown",
   "metadata": {},
   "source": [
    "## Quick sort"
   ]
  },
  {
   "cell_type": "code",
   "execution_count": 3,
   "metadata": {},
   "outputs": [
    {
     "name": "stdout",
     "output_type": "stream",
     "text": [
      "[0, 2, 2, 2, 3, 6, 7, 8, 33, 56]\n"
     ]
    }
   ],
   "source": [
    "def quick_sort(number_list, left, right):\n",
    "    if  left < right:\n",
    "\n",
    "        key = number_list[right]\n",
    "        i = left\n",
    "        \n",
    "        for j in range(left, right + 1):\n",
    "            if number_list[j] < key:\n",
    "                number_list[i], number_list[j] = number_list[j], number_list[i]\n",
    "                i += 1\n",
    "        number_list[i], number_list[right] = number_list[right], number_list[i]\n",
    "        \n",
    "        left = i\n",
    "        quick_sort(number_list, 0, left - 1)\n",
    "        quick_sort(number_list, left + 1, right)\n",
    "\n",
    "        \n",
    "number_list = [2,6,2,7,3,8,0,2,56,33]\n",
    "quick_sort(number_list, 0, 9)\n",
    "print(number_list)"
   ]
  },
  {
   "cell_type": "markdown",
   "metadata": {},
   "source": [
    "## Merge sort"
   ]
  },
  {
   "cell_type": "code",
   "execution_count": 1,
   "metadata": {},
   "outputs": [
    {
     "name": "stdout",
     "output_type": "stream",
     "text": [
      "[[2, 6], [2, 7], [3, 8], [0, 2], [33, 56]]\n",
      "[[2, 2, 6, 7], [0, 2, 3, 8], [33, 56]]\n",
      "[[0, 2, 2, 2, 3, 6, 7, 8], [33, 56]]\n",
      "[[0, 2, 2, 2, 3, 6, 7, 8, 33, 56]]\n"
     ]
    },
    {
     "data": {
      "text/plain": [
       "[[0, 2, 2, 2, 3, 6, 7, 8, 33, 56]]"
      ]
     },
     "execution_count": 1,
     "metadata": {},
     "output_type": "execute_result"
    }
   ],
   "source": [
    "def up_to_down(number_list):\n",
    "    list_list = []\n",
    "    for number in number_list:\n",
    "        list_list.append([number])\n",
    "        \n",
    "    return list_list\n",
    "\n",
    "def down_to_up(number_list):\n",
    "    new_number_list = []\n",
    "    i = 0\n",
    "    if not len(number_list) == 1:\n",
    "        while i < len(number_list):\n",
    "            if i + 1 < len(number_list):\n",
    "                new_number_list.append(combain_2_list(number_list[i], number_list[i + 1]))\n",
    "                i += 2\n",
    "            else:\n",
    "                new_number_list.append(number_list[i])\n",
    "                i += 1\n",
    "                \n",
    "        print(new_number_list)\n",
    "        return down_to_up(new_number_list)\n",
    "    else:\n",
    "        return number_list\n",
    "        \n",
    "def combain_2_list(list1, list2):\n",
    "    new_list = []\n",
    "    i, j = 0, 0\n",
    "    while 1:\n",
    "        if list1[i] < list2[j]:\n",
    "            new_list.append(list1[i])\n",
    "            i += 1\n",
    "        else:\n",
    "            new_list.append(list2[j])\n",
    "            j += 1\n",
    "        if i == len(list1):\n",
    "            for k in range(j, len(list2)):\n",
    "                new_list.append(list2[k])\n",
    "            break\n",
    "        if j == len(list2):\n",
    "            for k in range(i, len(list1)):\n",
    "                new_list.append(list1[k])\n",
    "            break\n",
    "    return new_list\n",
    "\n",
    "number_list_list = up_to_down([2,6,2,7,3,8,0,2,56,33])\n",
    "down_to_up(number_list_list)"
   ]
  },
  {
   "cell_type": "code",
   "execution_count": 7,
   "metadata": {},
   "outputs": [
    {
     "data": {
      "text/plain": [
       "[[2], [6], [2], [7], [3], [8], [0], [2], [56], [33]]"
      ]
     },
     "execution_count": 7,
     "metadata": {},
     "output_type": "execute_result"
    }
   ],
   "source": [
    "up_to_down([2,6,2,7,3,8,0,2,56,33])"
   ]
  },
  {
   "cell_type": "code",
   "execution_count": 8,
   "metadata": {},
   "outputs": [
    {
     "data": {
      "text/plain": [
       "[2, 3, 5, 8, 9, 10]"
      ]
     },
     "execution_count": 8,
     "metadata": {},
     "output_type": "execute_result"
    }
   ],
   "source": [
    "combain_2_list([3,9], [2,5,8,10])"
   ]
  },
  {
   "cell_type": "markdown",
   "metadata": {},
   "source": [
    "## Heapsort"
   ]
  },
  {
   "cell_type": "code",
   "execution_count": 22,
   "metadata": {},
   "outputs": [],
   "source": [
    "def Max_Heapify(number_list, heap_size, i):\n",
    "    left = i * 2\n",
    "    right = i * 2 + 1\n",
    "    if left <= heap_size and number_list[left] > number_list[i]:\n",
    "        largest = left\n",
    "    else:\n",
    "        largest = i\n",
    "        \n",
    "    if right <= heap_size and number_list[right] > number_list[largest]:\n",
    "        largest = right\n",
    "    if not largest == i:\n",
    "        number_list[i], number_list[largest] = number_list[largest], number_list[i]\n",
    "        Max_Heapify(number_list, heap_size, largest)\n",
    "        \n",
    "def Build_Max_Heap(number_list, heap_size):\n",
    "    for i in range((len(number_list)-1) // 2, 0, -1):\n",
    "        Max_Heapify(number_list, heap_size, i)\n",
    "        \n",
    "def Heapsort(number_list):\n",
    "    number_list = [''] + number_list\n",
    "    heap_size = len(number_list) - 1\n",
    "    Build_Max_Heap(number_list, heap_size)\n",
    "    for i in range(len(number_list) - 1, 1, -1):\n",
    "        number_list[1], number_list[i] = number_list[i], number_list[1]\n",
    "        heap_size = heap_size - 1\n",
    "        Max_Heapify(number_list, heap_size, 1)\n",
    "        \n",
    "    return number_list"
   ]
  },
  {
   "cell_type": "code",
   "execution_count": 23,
   "metadata": {},
   "outputs": [
    {
     "data": {
      "text/plain": [
       "['', 0, 2, 2, 2, 3, 6, 7, 8, 33, 56]"
      ]
     },
     "execution_count": 23,
     "metadata": {},
     "output_type": "execute_result"
    }
   ],
   "source": [
    "Heapsort([2,6,2,7,3,8,0,2,56,33])"
   ]
  },
  {
   "cell_type": "markdown",
   "metadata": {},
   "source": [
    "# <font color = blue> 2.Basic matrix operations <font>"
   ]
  },
  {
   "cell_type": "markdown",
   "metadata": {},
   "source": [
    "# matrix_display"
   ]
  },
  {
   "cell_type": "code",
   "execution_count": 54,
   "metadata": {},
   "outputs": [],
   "source": [
    "# This function is used for display a matrix\n",
    "# input: List[List] : int\n",
    "# return: None\n",
    "\n",
    "#matrix A (3 x 3):\n",
    "#          1 2 3\n",
    "#          4 5 6\n",
    "#          7 8 9\n",
    "matrix_A = [[1,2,3],[4,5,6],[7,8,9]]\n",
    "\n",
    "\n",
    "#matrix B (2 x 3):\n",
    "#          1 2 3\n",
    "#          4 5 6\n",
    "matrix_B = [[1,2,3],[4,5,6]]\n",
    "\n",
    "#matrix C (2 x 3):\n",
    "#          4 5 6\n",
    "#          1 2 3\n",
    "matrix_C = [[4,5,6],[1,2,3]]\n",
    "\n",
    "#matrix D (3 x 2):\n",
    "#          1 2\n",
    "#          3 4\n",
    "#          5 6\n",
    "matrix_D = [[1,2],[3,4],[5,6]]\n",
    "\n",
    "def Matrix_display(matrix):\n",
    "    for row in matrix:\n",
    "        for item in row:\n",
    "            print(\"%5d\"%item, end = \"\")\n",
    "        print()"
   ]
  },
  {
   "cell_type": "code",
   "execution_count": 55,
   "metadata": {},
   "outputs": [
    {
     "name": "stdout",
     "output_type": "stream",
     "text": [
      "    1    2    3\n",
      "    4    5    6\n",
      "    7    8    9\n"
     ]
    }
   ],
   "source": [
    "Matrix_display(matrix_A)"
   ]
  },
  {
   "cell_type": "markdown",
   "metadata": {},
   "source": [
    "## Matrix_addition"
   ]
  },
  {
   "cell_type": "code",
   "execution_count": 56,
   "metadata": {},
   "outputs": [],
   "source": [
    "def Matrix_addition(A, B):\n",
    "    row = len(A)\n",
    "    column = len(A[0])\n",
    "    new_matrix = []\n",
    "    for i in range(row):\n",
    "        new_row = []\n",
    "        for j in range(column):\n",
    "            new_row.append(A[i][j] + B[i][j])\n",
    "        new_matrix.append(new_row)\n",
    "        \n",
    "    return new_matrix"
   ]
  },
  {
   "cell_type": "code",
   "execution_count": 57,
   "metadata": {},
   "outputs": [
    {
     "name": "stdout",
     "output_type": "stream",
     "text": [
      "    5    7    9\n",
      "    5    7    9\n"
     ]
    }
   ],
   "source": [
    "Matrix_display(Matrix_addition(matrix_B, matrix_C))"
   ]
  },
  {
   "cell_type": "markdown",
   "metadata": {},
   "source": [
    "## Matrix_subtraction"
   ]
  },
  {
   "cell_type": "code",
   "execution_count": 58,
   "metadata": {},
   "outputs": [],
   "source": [
    "def Matrix_subtraction(A, B):\n",
    "    row = len(A)\n",
    "    column = len(A[0])\n",
    "    new_matrix = []\n",
    "    for i in range(row):\n",
    "        new_row = []\n",
    "        for j in range(column):\n",
    "            new_row.append(A[i][j] - B[i][j])\n",
    "        new_matrix.append(new_row)\n",
    "        \n",
    "    return new_matrix"
   ]
  },
  {
   "cell_type": "code",
   "execution_count": 59,
   "metadata": {},
   "outputs": [
    {
     "name": "stdout",
     "output_type": "stream",
     "text": [
      "   -3   -3   -3\n",
      "    3    3    3\n"
     ]
    }
   ],
   "source": [
    "Matrix_display(Matrix_subtraction(matrix_B, matrix_C))"
   ]
  },
  {
   "cell_type": "markdown",
   "metadata": {},
   "source": [
    "## Scalar_multiplication"
   ]
  },
  {
   "cell_type": "code",
   "execution_count": 60,
   "metadata": {},
   "outputs": [],
   "source": [
    "def Scalar_multiplication(A, number):\n",
    "    row = len(A)\n",
    "    column = len(A[0])\n",
    "    new_matrix = []\n",
    "    for i in range(row):\n",
    "        new_row = []\n",
    "        for j in range(column):\n",
    "            new_row.append(A[i][j] * number)\n",
    "        new_matrix.append(new_row)\n",
    "        \n",
    "    return new_matrix"
   ]
  },
  {
   "cell_type": "code",
   "execution_count": 61,
   "metadata": {},
   "outputs": [
    {
     "name": "stdout",
     "output_type": "stream",
     "text": [
      "    2    4    6\n",
      "    8   10   12\n",
      "   14   16   18\n"
     ]
    }
   ],
   "source": [
    "Matrix_display(Scalar_multiplication(matrix_A, 2))"
   ]
  },
  {
   "cell_type": "markdown",
   "metadata": {},
   "source": [
    "## Transposition"
   ]
  },
  {
   "cell_type": "code",
   "execution_count": 62,
   "metadata": {},
   "outputs": [],
   "source": [
    "def Transposition(A):\n",
    "    row = len(A)\n",
    "    column = len(A[0])\n",
    "    \n",
    "    new_matrix = []\n",
    "    for i in range(column):\n",
    "        new_row = []\n",
    "        for j in range(row):\n",
    "            new_row.append(0)\n",
    "            \n",
    "        new_matrix.append(new_row)\n",
    "        \n",
    "    for i in range(row):\n",
    "        for j in range(column):\n",
    "            new_matrix[j][i] = A[i][j]\n",
    "            \n",
    "    return new_matrix"
   ]
  },
  {
   "cell_type": "code",
   "execution_count": 63,
   "metadata": {},
   "outputs": [
    {
     "name": "stdout",
     "output_type": "stream",
     "text": [
      "    1    4\n",
      "    2    5\n",
      "    3    6\n"
     ]
    }
   ],
   "source": [
    "Matrix_display(Transposition(matrix_B))"
   ]
  },
  {
   "cell_type": "markdown",
   "metadata": {},
   "source": [
    "## Matrix_multiplication"
   ]
  },
  {
   "cell_type": "code",
   "execution_count": 64,
   "metadata": {},
   "outputs": [],
   "source": [
    "def Matrix_multiplication(A, B):\n",
    "    row = len(A)\n",
    "    column = len(B[0])\n",
    "    \n",
    "    new_matrix = []\n",
    "    for i in range(row):\n",
    "        new_row = []\n",
    "        for j in range(column):\n",
    "            new_row.append(0)\n",
    "        new_matrix.append(new_row)\n",
    "            \n",
    "    for i in range(row):\n",
    "        for j in range(column):\n",
    "            rowXcolumn = 0\n",
    "            for k in range(len(A[0])):\n",
    "                rowXcolumn += A[i][k] * B[k][j]\n",
    "                \n",
    "            new_matrix[i][j] = rowXcolumn\n",
    "    \n",
    "    return new_matrix\n",
    "    "
   ]
  },
  {
   "cell_type": "code",
   "execution_count": 65,
   "metadata": {},
   "outputs": [
    {
     "name": "stdout",
     "output_type": "stream",
     "text": [
      "   22   28\n",
      "   49   64\n",
      "   76  100\n"
     ]
    }
   ],
   "source": [
    "Matrix_display(Matrix_multiplication(matrix_A, matrix_D))"
   ]
  },
  {
   "cell_type": "markdown",
   "metadata": {},
   "source": [
    "## Vertical_flipping"
   ]
  },
  {
   "cell_type": "code",
   "execution_count": 66,
   "metadata": {},
   "outputs": [],
   "source": [
    "def Vertical_flipping(A):\n",
    "    row = len(A)\n",
    "    column = len(A[0])\n",
    "\n",
    "    new_matrix = []\n",
    "    for i in range(row):\n",
    "        new_row = []\n",
    "        for j in range(column):\n",
    "            new_row.append(0)\n",
    "        new_matrix.append(new_row)\n",
    "        \n",
    "    for i in range(row):\n",
    "        for j in range(column):\n",
    "            new_matrix[row - i - 1][j] = A[i][j]\n",
    "            \n",
    "    return new_matrix"
   ]
  },
  {
   "cell_type": "code",
   "execution_count": 67,
   "metadata": {},
   "outputs": [
    {
     "name": "stdout",
     "output_type": "stream",
     "text": [
      "    7    8    9\n",
      "    4    5    6\n",
      "    1    2    3\n"
     ]
    }
   ],
   "source": [
    "Matrix_display(Vertical_flipping(matrix_A))"
   ]
  },
  {
   "cell_type": "markdown",
   "metadata": {},
   "source": [
    "## Main_anti_diagonal_mirroring"
   ]
  },
  {
   "cell_type": "code",
   "execution_count": 70,
   "metadata": {},
   "outputs": [],
   "source": [
    "def Main_anti_diagonal_mirroring(A):\n",
    "    row = len(A)\n",
    "    \n",
    "    new_matrix = []\n",
    "    for i in range(row):\n",
    "        new_row = []\n",
    "        for j in range(row):\n",
    "            new_row.append(0)\n",
    "        new_matrix.append(new_row)\n",
    "        \n",
    "    for i in range(row):\n",
    "        for j in range(row):\n",
    "            new_matrix[j][i] = A[i][j]\n",
    "            \n",
    "    return new_matrix"
   ]
  },
  {
   "cell_type": "code",
   "execution_count": 71,
   "metadata": {},
   "outputs": [
    {
     "name": "stdout",
     "output_type": "stream",
     "text": [
      "    1    4    7\n",
      "    2    5    8\n",
      "    3    6    9\n"
     ]
    }
   ],
   "source": [
    "Matrix_display(Main_anti_diagonal_mirroring(matrix_A))"
   ]
  },
  {
   "cell_type": "markdown",
   "metadata": {},
   "source": [
    "## Horizontal_flipping"
   ]
  },
  {
   "cell_type": "code",
   "execution_count": 72,
   "metadata": {},
   "outputs": [],
   "source": [
    "def Horizontal_flipping(A):\n",
    "    row = len(A)\n",
    "    column = len(A[0])\n",
    "\n",
    "    new_matrix = []\n",
    "    for i in range(row):\n",
    "        new_row = []\n",
    "        for j in range(column):\n",
    "            new_row.append(0)\n",
    "        new_matrix.append(new_row)\n",
    "        \n",
    "    for i in range(row):\n",
    "        for j in range(column):\n",
    "            new_matrix[i][column - j - 1] = A[i][j]\n",
    "            \n",
    "    return new_matrix"
   ]
  },
  {
   "cell_type": "code",
   "execution_count": 73,
   "metadata": {},
   "outputs": [
    {
     "name": "stdout",
     "output_type": "stream",
     "text": [
      "    3    2    1\n",
      "    6    5    4\n",
      "    9    8    7\n"
     ]
    }
   ],
   "source": [
    "Matrix_display(Horizontal_flipping(matrix_A))"
   ]
  },
  {
   "cell_type": "markdown",
   "metadata": {},
   "source": [
    "## Matrix_rotation"
   ]
  },
  {
   "cell_type": "code",
   "execution_count": 78,
   "metadata": {},
   "outputs": [],
   "source": [
    "def Matrix_rotation(A):\n",
    "    return Main_anti_diagonal_mirroring(Vertical_flipping(matrix_A))"
   ]
  },
  {
   "cell_type": "code",
   "execution_count": 79,
   "metadata": {},
   "outputs": [
    {
     "name": "stdout",
     "output_type": "stream",
     "text": [
      "    7    4    1\n",
      "    8    5    2\n",
      "    9    6    3\n"
     ]
    }
   ],
   "source": [
    "Matrix_display(Matrix_rotation(matrix_A))"
   ]
  }
 ],
 "metadata": {
  "kernelspec": {
   "display_name": "Python 3",
   "language": "python",
   "name": "python3"
  },
  "language_info": {
   "codemirror_mode": {
    "name": "ipython",
    "version": 3
   },
   "file_extension": ".py",
   "mimetype": "text/x-python",
   "name": "python",
   "nbconvert_exporter": "python",
   "pygments_lexer": "ipython3",
   "version": "3.7.0"
  }
 },
 "nbformat": 4,
 "nbformat_minor": 2
}
