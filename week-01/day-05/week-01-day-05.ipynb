{
 "cells": [
  {
   "cell_type": "markdown",
   "metadata": {},
   "source": [
    "# <font color=blue> 1.Sorting Alg<font>"
   ]
  },
  {
   "cell_type": "markdown",
   "metadata": {},
   "source": [
    "## Bubble sort"
   ]
  },
  {
   "cell_type": "code",
   "execution_count": 1,
   "metadata": {},
   "outputs": [
    {
     "data": {
      "text/plain": [
       "[0, 2, 2, 2, 3, 6, 7, 8, 33, 56]"
      ]
     },
     "execution_count": 1,
     "metadata": {},
     "output_type": "execute_result"
    }
   ],
   "source": [
    "def bubble_sort(number_list):\n",
    "    for i in range(len(number_list)):\n",
    "        largest = 0\n",
    "        for j in range(len(number_list) - i):\n",
    "            if number_list[j] > number_list[largest]:\n",
    "                largest = j\n",
    "        number_list[largest], number_list[len(number_list) - i - 1] =  number_list[len(number_list) - i - 1], number_list[largest]\n",
    "        \n",
    "    return number_list\n",
    "\n",
    "bubble_sort([2,6,2,7,3,8,0,2,56,33])"
   ]
  },
  {
   "cell_type": "markdown",
   "metadata": {},
   "source": [
    "## Insertion sort"
   ]
  },
  {
   "cell_type": "code",
   "execution_count": 1,
   "metadata": {},
   "outputs": [
    {
     "name": "stderr",
     "output_type": "stream",
     "text": [
      "C:\\software\\Anaconda3\\lib\\site-packages\\ipykernel\\parentpoller.py:116: UserWarning: Parent poll failed.  If the frontend dies,\n",
      "                the kernel may be left running.  Please let us know\n",
      "                about your system (bitness, Python, etc.) at\n",
      "                ipython-dev@scipy.org\n",
      "  ipython-dev@scipy.org\"\"\")\n"
     ]
    },
    {
     "data": {
      "text/plain": [
       "[0, 2, 2, 2, 3, 6, 7, 8, 33, 56]"
      ]
     },
     "execution_count": 1,
     "metadata": {},
     "output_type": "execute_result"
    }
   ],
   "source": [
    "def insertion_sort(number_list):\n",
    "    for i in range(len(number_list)):\n",
    "        j = i\n",
    "        while not j == 0 and number_list[j] < number_list[j - 1]:\n",
    "            number_list[j], number_list[j - 1] = number_list[j - 1], number_list[j]\n",
    "            j -= 1\n",
    "    return number_list\n",
    "\n",
    "insertion_sort([2,6,2,7,3,8,0,2,56,33])"
   ]
  },
  {
   "cell_type": "markdown",
   "metadata": {},
   "source": [
    "## Quick sort"
   ]
  },
  {
   "cell_type": "code",
   "execution_count": 3,
   "metadata": {},
   "outputs": [
    {
     "name": "stdout",
     "output_type": "stream",
     "text": [
      "[0, 2, 2, 2, 3, 6, 7, 8, 33, 56]\n"
     ]
    }
   ],
   "source": [
    "def quick_sort(number_list, left, right):\n",
    "    if  left < right:\n",
    "\n",
    "        key = number_list[right]\n",
    "        i = left\n",
    "        \n",
    "        for j in range(left, right + 1):\n",
    "            if number_list[j] < key:\n",
    "                number_list[i], number_list[j] = number_list[j], number_list[i]\n",
    "                i += 1\n",
    "        number_list[i], number_list[right] = number_list[right], number_list[i]\n",
    "        \n",
    "        left = i\n",
    "        quick_sort(number_list, 0, left - 1)\n",
    "        quick_sort(number_list, left + 1, right)\n",
    "\n",
    "        \n",
    "number_list = [2,6,2,7,3,8,0,2,56,33]\n",
    "quick_sort(number_list, 0, 9)\n",
    "print(number_list)"
   ]
  },
  {
   "cell_type": "markdown",
   "metadata": {},
   "source": [
    "## Merge sort"
   ]
  },
  {
   "cell_type": "code",
   "execution_count": 1,
   "metadata": {},
   "outputs": [
    {
     "name": "stdout",
     "output_type": "stream",
     "text": [
      "[[2, 6], [2, 7], [3, 8], [0, 2], [33, 56]]\n",
      "[[2, 2, 6, 7], [0, 2, 3, 8], [33, 56]]\n",
      "[[0, 2, 2, 2, 3, 6, 7, 8], [33, 56]]\n",
      "[[0, 2, 2, 2, 3, 6, 7, 8, 33, 56]]\n"
     ]
    },
    {
     "data": {
      "text/plain": [
       "[[0, 2, 2, 2, 3, 6, 7, 8, 33, 56]]"
      ]
     },
     "execution_count": 1,
     "metadata": {},
     "output_type": "execute_result"
    }
   ],
   "source": [
    "def up_to_down(number_list):\n",
    "    list_list = []\n",
    "    for number in number_list:\n",
    "        list_list.append([number])\n",
    "        \n",
    "    return list_list\n",
    "\n",
    "def down_to_up(number_list):\n",
    "    new_number_list = []\n",
    "    i = 0\n",
    "    if not len(number_list) == 1:\n",
    "        while i < len(number_list):\n",
    "            if i + 1 < len(number_list):\n",
    "                new_number_list.append(combain_2_list(number_list[i], number_list[i + 1]))\n",
    "                i += 2\n",
    "            else:\n",
    "                new_number_list.append(number_list[i])\n",
    "                i += 1\n",
    "                \n",
    "        print(new_number_list)\n",
    "        return down_to_up(new_number_list)\n",
    "    else:\n",
    "        return number_list\n",
    "        \n",
    "def combain_2_list(list1, list2):\n",
    "    new_list = []\n",
    "    i, j = 0, 0\n",
    "    while 1:\n",
    "        if list1[i] < list2[j]:\n",
    "            new_list.append(list1[i])\n",
    "            i += 1\n",
    "        else:\n",
    "            new_list.append(list2[j])\n",
    "            j += 1\n",
    "        if i == len(list1):\n",
    "            for k in range(j, len(list2)):\n",
    "                new_list.append(list2[k])\n",
    "            break\n",
    "        if j == len(list2):\n",
    "            for k in range(i, len(list1)):\n",
    "                new_list.append(list1[k])\n",
    "            break\n",
    "    return new_list\n",
    "\n",
    "number_list_list = up_to_down([2,6,2,7,3,8,0,2,56,33])\n",
    "down_to_up(number_list_list)"
   ]
  },
  {
   "cell_type": "code",
   "execution_count": 7,
   "metadata": {},
   "outputs": [
    {
     "data": {
      "text/plain": [
       "[[2], [6], [2], [7], [3], [8], [0], [2], [56], [33]]"
      ]
     },
     "execution_count": 7,
     "metadata": {},
     "output_type": "execute_result"
    }
   ],
   "source": [
    "up_to_down([2,6,2,7,3,8,0,2,56,33])"
   ]
  },
  {
   "cell_type": "code",
   "execution_count": 8,
   "metadata": {},
   "outputs": [
    {
     "data": {
      "text/plain": [
       "[2, 3, 5, 8, 9, 10]"
      ]
     },
     "execution_count": 8,
     "metadata": {},
     "output_type": "execute_result"
    }
   ],
   "source": [
    "combain_2_list([3,9], [2,5,8,10])"
   ]
  },
  {
   "cell_type": "markdown",
   "metadata": {},
   "source": [
    "## Heapsort"
   ]
  },
  {
   "cell_type": "code",
   "execution_count": 20,
   "metadata": {},
   "outputs": [],
   "source": [
    "def Max_Heapify(number_list, heap_size, i):\n",
    "    left = i * 2\n",
    "    right = i * 2 + 1\n",
    "    if left <= heap_size and number_list[left] > number_list[i]:\n",
    "        largest = left\n",
    "    else:\n",
    "        largest = i\n",
    "        \n",
    "    if right <= heap_size and number_list[right] > number_list[largest]:\n",
    "        largest = right\n",
    "    if not largest == i:\n",
    "        number_list[i], number_list[largest] = number_list[largest], number_list[i]\n",
    "        Max_Heapify(number_list, heap_size, i)\n",
    "        \n",
    "def Build_Max_Heap(number_list, heap_size):\n",
    "    for i in range((len(number_list)-1) // 2, 0, -1):\n",
    "        Max_Heapify(number_list, heap_size, largest)\n",
    "        \n",
    "def Heapsort(number_list):\n",
    "    number_list = [''] + number_list\n",
    "    heap_size = len(number_list) - 1\n",
    "    Build_Max_Heap(number_list, heap_size)\n",
    "    for i in range(len(number_list) - 1, 1, -1):\n",
    "        number_list[1], number_list[i] = number_list[i], number_list[1]\n",
    "        heap_size = heap_size - 1\n",
    "        Max_Heapify(number_list, heap_size, 1)\n",
    "        \n",
    "    return number_list"
   ]
  },
  {
   "cell_type": "code",
   "execution_count": 21,
   "metadata": {},
   "outputs": [
    {
     "ename": "NameError",
     "evalue": "name 'largest' is not defined",
     "output_type": "error",
     "traceback": [
      "\u001b[1;31m---------------------------------------------------------------------------\u001b[0m",
      "\u001b[1;31mNameError\u001b[0m                                 Traceback (most recent call last)",
      "\u001b[1;32m<ipython-input-21-971928275fc6>\u001b[0m in \u001b[0;36m<module>\u001b[1;34m()\u001b[0m\n\u001b[1;32m----> 1\u001b[1;33m \u001b[0mHeapsort\u001b[0m\u001b[1;33m(\u001b[0m\u001b[1;33m[\u001b[0m\u001b[1;36m2\u001b[0m\u001b[1;33m,\u001b[0m\u001b[1;36m6\u001b[0m\u001b[1;33m,\u001b[0m\u001b[1;36m2\u001b[0m\u001b[1;33m,\u001b[0m\u001b[1;36m7\u001b[0m\u001b[1;33m,\u001b[0m\u001b[1;36m3\u001b[0m\u001b[1;33m,\u001b[0m\u001b[1;36m8\u001b[0m\u001b[1;33m,\u001b[0m\u001b[1;36m0\u001b[0m\u001b[1;33m,\u001b[0m\u001b[1;36m2\u001b[0m\u001b[1;33m,\u001b[0m\u001b[1;36m56\u001b[0m\u001b[1;33m,\u001b[0m\u001b[1;36m33\u001b[0m\u001b[1;33m]\u001b[0m\u001b[1;33m)\u001b[0m\u001b[1;33m\u001b[0m\u001b[0m\n\u001b[0m",
      "\u001b[1;32m<ipython-input-20-9456e8ccd6df>\u001b[0m in \u001b[0;36mHeapsort\u001b[1;34m(number_list)\u001b[0m\n\u001b[0;32m     20\u001b[0m     \u001b[0mnumber_list\u001b[0m \u001b[1;33m=\u001b[0m \u001b[1;33m[\u001b[0m\u001b[1;34m''\u001b[0m\u001b[1;33m]\u001b[0m \u001b[1;33m+\u001b[0m \u001b[0mnumber_list\u001b[0m\u001b[1;33m\u001b[0m\u001b[0m\n\u001b[0;32m     21\u001b[0m     \u001b[0mheap_size\u001b[0m \u001b[1;33m=\u001b[0m \u001b[0mlen\u001b[0m\u001b[1;33m(\u001b[0m\u001b[0mnumber_list\u001b[0m\u001b[1;33m)\u001b[0m \u001b[1;33m-\u001b[0m \u001b[1;36m1\u001b[0m\u001b[1;33m\u001b[0m\u001b[0m\n\u001b[1;32m---> 22\u001b[1;33m     \u001b[0mBuild_Max_Heap\u001b[0m\u001b[1;33m(\u001b[0m\u001b[0mnumber_list\u001b[0m\u001b[1;33m,\u001b[0m \u001b[0mheap_size\u001b[0m\u001b[1;33m)\u001b[0m\u001b[1;33m\u001b[0m\u001b[0m\n\u001b[0m\u001b[0;32m     23\u001b[0m     \u001b[1;32mfor\u001b[0m \u001b[0mi\u001b[0m \u001b[1;32min\u001b[0m \u001b[0mrange\u001b[0m\u001b[1;33m(\u001b[0m\u001b[0mlen\u001b[0m\u001b[1;33m(\u001b[0m\u001b[0mnumber_list\u001b[0m\u001b[1;33m)\u001b[0m \u001b[1;33m-\u001b[0m \u001b[1;36m1\u001b[0m\u001b[1;33m,\u001b[0m \u001b[1;36m1\u001b[0m\u001b[1;33m,\u001b[0m \u001b[1;33m-\u001b[0m\u001b[1;36m1\u001b[0m\u001b[1;33m)\u001b[0m\u001b[1;33m:\u001b[0m\u001b[1;33m\u001b[0m\u001b[0m\n\u001b[0;32m     24\u001b[0m         \u001b[0mnumber_list\u001b[0m\u001b[1;33m[\u001b[0m\u001b[1;36m1\u001b[0m\u001b[1;33m]\u001b[0m\u001b[1;33m,\u001b[0m \u001b[0mnumber_list\u001b[0m\u001b[1;33m[\u001b[0m\u001b[0mi\u001b[0m\u001b[1;33m]\u001b[0m \u001b[1;33m=\u001b[0m \u001b[0mnumber_list\u001b[0m\u001b[1;33m[\u001b[0m\u001b[0mi\u001b[0m\u001b[1;33m]\u001b[0m\u001b[1;33m,\u001b[0m \u001b[0mnumber_list\u001b[0m\u001b[1;33m[\u001b[0m\u001b[1;36m1\u001b[0m\u001b[1;33m]\u001b[0m\u001b[1;33m\u001b[0m\u001b[0m\n",
      "\u001b[1;32m<ipython-input-20-9456e8ccd6df>\u001b[0m in \u001b[0;36mBuild_Max_Heap\u001b[1;34m(number_list, heap_size)\u001b[0m\n\u001b[0;32m     15\u001b[0m \u001b[1;32mdef\u001b[0m \u001b[0mBuild_Max_Heap\u001b[0m\u001b[1;33m(\u001b[0m\u001b[0mnumber_list\u001b[0m\u001b[1;33m,\u001b[0m \u001b[0mheap_size\u001b[0m\u001b[1;33m)\u001b[0m\u001b[1;33m:\u001b[0m\u001b[1;33m\u001b[0m\u001b[0m\n\u001b[0;32m     16\u001b[0m     \u001b[1;32mfor\u001b[0m \u001b[0mi\u001b[0m \u001b[1;32min\u001b[0m \u001b[0mrange\u001b[0m\u001b[1;33m(\u001b[0m\u001b[1;33m(\u001b[0m\u001b[0mlen\u001b[0m\u001b[1;33m(\u001b[0m\u001b[0mnumber_list\u001b[0m\u001b[1;33m)\u001b[0m\u001b[1;33m-\u001b[0m\u001b[1;36m1\u001b[0m\u001b[1;33m)\u001b[0m \u001b[1;33m//\u001b[0m \u001b[1;36m2\u001b[0m\u001b[1;33m,\u001b[0m \u001b[1;36m0\u001b[0m\u001b[1;33m,\u001b[0m \u001b[1;33m-\u001b[0m\u001b[1;36m1\u001b[0m\u001b[1;33m)\u001b[0m\u001b[1;33m:\u001b[0m\u001b[1;33m\u001b[0m\u001b[0m\n\u001b[1;32m---> 17\u001b[1;33m         \u001b[0mMax_Heapify\u001b[0m\u001b[1;33m(\u001b[0m\u001b[0mnumber_list\u001b[0m\u001b[1;33m,\u001b[0m \u001b[0mheap_size\u001b[0m\u001b[1;33m,\u001b[0m \u001b[0mlargest\u001b[0m\u001b[1;33m)\u001b[0m\u001b[1;33m\u001b[0m\u001b[0m\n\u001b[0m\u001b[0;32m     18\u001b[0m \u001b[1;33m\u001b[0m\u001b[0m\n\u001b[0;32m     19\u001b[0m \u001b[1;32mdef\u001b[0m \u001b[0mHeapsort\u001b[0m\u001b[1;33m(\u001b[0m\u001b[0mnumber_list\u001b[0m\u001b[1;33m)\u001b[0m\u001b[1;33m:\u001b[0m\u001b[1;33m\u001b[0m\u001b[0m\n",
      "\u001b[1;31mNameError\u001b[0m: name 'largest' is not defined"
     ]
    }
   ],
   "source": [
    "Heapsort([2,6,2,7,3,8,0,2,56,33])"
   ]
  },
  {
   "cell_type": "code",
   "execution_count": null,
   "metadata": {},
   "outputs": [],
   "source": []
  }
 ],
 "metadata": {
  "kernelspec": {
   "display_name": "Python 3",
   "language": "python",
   "name": "python3"
  },
  "language_info": {
   "codemirror_mode": {
    "name": "ipython",
    "version": 3
   },
   "file_extension": ".py",
   "mimetype": "text/x-python",
   "name": "python",
   "nbconvert_exporter": "python",
   "pygments_lexer": "ipython3",
   "version": "3.7.0"
  }
 },
 "nbformat": 4,
 "nbformat_minor": 2
}
