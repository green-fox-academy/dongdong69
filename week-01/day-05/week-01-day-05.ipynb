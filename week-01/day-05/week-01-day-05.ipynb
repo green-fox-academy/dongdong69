{
 "cells": [
  {
   "cell_type": "markdown",
   "metadata": {},
   "source": [
    "# <font color=blue> 1.Sorting Alg<font>"
   ]
  },
  {
   "cell_type": "markdown",
   "metadata": {},
   "source": [
    "## Bubble sort"
   ]
  },
  {
   "cell_type": "code",
   "execution_count": 1,
   "metadata": {},
   "outputs": [
    {
     "data": {
      "text/plain": [
       "[0, 2, 2, 2, 3, 6, 7, 8, 33, 56]"
      ]
     },
     "execution_count": 1,
     "metadata": {},
     "output_type": "execute_result"
    }
   ],
   "source": [
    "def bubble_sort(number_list):\n",
    "    for i in range(len(number_list)):\n",
    "        largest = 0\n",
    "        for j in range(len(number_list) - i):\n",
    "            if number_list[j] > number_list[largest]:\n",
    "                largest = j\n",
    "        number_list[largest], number_list[len(number_list) - i - 1] =  number_list[len(number_list) - i - 1], number_list[largest]\n",
    "        \n",
    "    return number_list\n",
    "\n",
    "bubble_sort([2,6,2,7,3,8,0,2,56,33])"
   ]
  },
  {
   "cell_type": "markdown",
   "metadata": {},
   "source": [
    "## Insertion sort"
   ]
  },
  {
   "cell_type": "code",
   "execution_count": 1,
   "metadata": {},
   "outputs": [
    {
     "name": "stderr",
     "output_type": "stream",
     "text": [
      "C:\\software\\Anaconda3\\lib\\site-packages\\ipykernel\\parentpoller.py:116: UserWarning: Parent poll failed.  If the frontend dies,\n",
      "                the kernel may be left running.  Please let us know\n",
      "                about your system (bitness, Python, etc.) at\n",
      "                ipython-dev@scipy.org\n",
      "  ipython-dev@scipy.org\"\"\")\n"
     ]
    },
    {
     "data": {
      "text/plain": [
       "[0, 2, 2, 2, 3, 6, 7, 8, 33, 56]"
      ]
     },
     "execution_count": 1,
     "metadata": {},
     "output_type": "execute_result"
    }
   ],
   "source": [
    "def insertion_sort(number_list):\n",
    "    for i in range(len(number_list)):\n",
    "        j = i\n",
    "        while not j == 0 and number_list[j] < number_list[j - 1]:\n",
    "            number_list[j], number_list[j - 1] = number_list[j - 1], number_list[j]\n",
    "            j -= 1\n",
    "    return number_list\n",
    "\n",
    "insertion_sort([2,6,2,7,3,8,0,2,56,33])"
   ]
  },
  {
   "cell_type": "markdown",
   "metadata": {},
   "source": [
    "## Quick sort"
   ]
  },
  {
   "cell_type": "code",
   "execution_count": 3,
   "metadata": {},
   "outputs": [
    {
     "name": "stdout",
     "output_type": "stream",
     "text": [
      "[0, 2, 2, 2, 3, 6, 7, 8, 33, 56]\n"
     ]
    }
   ],
   "source": [
    "def quick_sort(number_list, left, right):\n",
    "    if  left < right:\n",
    "\n",
    "        key = number_list[right]\n",
    "        i = left\n",
    "        \n",
    "        for j in range(left, right + 1):\n",
    "            if number_list[j] < key:\n",
    "                number_list[i], number_list[j] = number_list[j], number_list[i]\n",
    "                i += 1\n",
    "        number_list[i], number_list[right] = number_list[right], number_list[i]\n",
    "        \n",
    "        left = i\n",
    "        quick_sort(number_list, 0, left - 1)\n",
    "        quick_sort(number_list, left + 1, right)\n",
    "\n",
    "        \n",
    "number_list = [2,6,2,7,3,8,0,2,56,33]\n",
    "quick_sort(number_list, 0, 9)\n",
    "print(number_list)"
   ]
  },
  {
   "cell_type": "code",
   "execution_count": null,
   "metadata": {},
   "outputs": [],
   "source": []
  }
 ],
 "metadata": {
  "kernelspec": {
   "display_name": "Python 3",
   "language": "python",
   "name": "python3"
  },
  "language_info": {
   "codemirror_mode": {
    "name": "ipython",
    "version": 3
   },
   "file_extension": ".py",
   "mimetype": "text/x-python",
   "name": "python",
   "nbconvert_exporter": "python",
   "pygments_lexer": "ipython3",
   "version": "3.7.0"
  }
 },
 "nbformat": 4,
 "nbformat_minor": 2
}
