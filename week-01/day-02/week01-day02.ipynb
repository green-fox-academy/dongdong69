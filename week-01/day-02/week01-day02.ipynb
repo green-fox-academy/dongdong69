{
 "cells": [
  {
   "cell_type": "markdown",
   "metadata": {},
   "source": [
    "# expressions-and-control-flow"
   ]
  },
  {
   "cell_type": "markdown",
   "metadata": {},
   "source": [
    "## hello_me"
   ]
  },
  {
   "cell_type": "code",
   "execution_count": 1,
   "metadata": {},
   "outputs": [
    {
     "name": "stdout",
     "output_type": "stream",
     "text": [
      "Hellow, Changdong!\n"
     ]
    }
   ],
   "source": [
    "print(\"Hellow, Changdong!\")"
   ]
  },
  {
   "cell_type": "markdown",
   "metadata": {},
   "source": [
    "## humpty_dumpty"
   ]
  },
  {
   "cell_type": "code",
   "execution_count": 3,
   "metadata": {},
   "outputs": [
    {
     "name": "stdout",
     "output_type": "stream",
     "text": [
      "All the king's horses and all the king's men\n",
      "Humpty Dumpty sat on a wall,\n",
      "Humpty Dumpty had a great fall.\n",
      "Couldn't put Humpty together again.\n"
     ]
    }
   ],
   "source": [
    "# Modify this program to print Humpty Dumpty riddle correctly\n",
    "print(\"All the king's horses and all the king's men\")\n",
    "print(\"Humpty Dumpty sat on a wall,\")\n",
    "print(\"Humpty Dumpty had a great fall.\")\n",
    "print(\"Couldn't put Humpty together again.\")"
   ]
  },
  {
   "cell_type": "markdown",
   "metadata": {},
   "source": [
    "## hello_others"
   ]
  },
  {
   "cell_type": "code",
   "execution_count": 4,
   "metadata": {},
   "outputs": [
    {
     "name": "stdout",
     "output_type": "stream",
     "text": [
      "Hello, Ke Su!\n",
      "Hello, Senti!\n",
      "Hello, Ted!\n"
     ]
    }
   ],
   "source": [
    "print(\"Hello, Ke Su!\")\n",
    "print(\"Hello, Senti!\")\n",
    "print(\"Hello, Ted!\")"
   ]
  },
  {
   "cell_type": "markdown",
   "metadata": {},
   "source": [
    "## introduce_yourself"
   ]
  },
  {
   "cell_type": "code",
   "execution_count": 8,
   "metadata": {},
   "outputs": [
    {
     "name": "stdout",
     "output_type": "stream",
     "text": [
      "Changdong\n",
      "25\n",
      "1.78\n"
     ]
    }
   ],
   "source": [
    "# Write a program that prints a few details to the terminal window about you\n",
    "# It should print each detail to a new line.\n",
    "#  - Your name\n",
    "#  - Your age\n",
    "#  - Your height in meters (as a decimal fraction)\n",
    "#\n",
    "#  Example output:\n",
    "#  John Doe\n",
    "#  31\n",
    "#  1.87\n",
    "print(\"Changdong\")\n",
    "print(25)\n",
    "print(1.78)"
   ]
  },
  {
   "cell_type": "markdown",
   "metadata": {},
   "source": [
    "## two_numbers"
   ]
  },
  {
   "cell_type": "code",
   "execution_count": 9,
   "metadata": {},
   "outputs": [
    {
     "name": "stdout",
     "output_type": "stream",
     "text": [
      "35\n",
      "9\n",
      "286\n",
      "1.6923076923076923\n",
      "1\n",
      "9\n"
     ]
    }
   ],
   "source": [
    "# Create a program that prints a few operations on two numbers: 22 and 13\n",
    "\n",
    "# Print the result of 13 added to 22\n",
    "\n",
    "# Print the result of 13 substracted from 22\n",
    "\n",
    "# Print the result of 22 multiplied by 13\n",
    "\n",
    "# Print the result of 22 divided by 13 (as a decimal fraction)\n",
    "\n",
    "# Print the integer part of 22 divided by 13\n",
    "\n",
    "# Print the remainder of 22 divided by 13\n",
    "print(13 + 22)\n",
    "print(22 - 13)\n",
    "print(22 * 13)\n",
    "print(22 / 13)\n",
    "print(22 // 13)\n",
    "print(22 % 13)"
   ]
  },
  {
   "cell_type": "markdown",
   "metadata": {},
   "source": [
    "## coding_hours.py"
   ]
  },
  {
   "cell_type": "code",
   "execution_count": 16,
   "metadata": {},
   "outputs": [
    {
     "name": "stdout",
     "output_type": "stream",
     "text": [
      "Coding time in a semester is 510\n",
      "The percentage of the coding hours is 57.69%\n"
     ]
    }
   ],
   "source": [
    "# An average Green Fox attendee codes 6 hours daily\n",
    "# The semester is 17 weeks long\n",
    "#\n",
    "# Print how many hours is spent with coding in a semester by an attendee,\n",
    "# if the attendee only codes on workdays.\n",
    "#\n",
    "# Print the percentage of the coding hours in the semester if the average\n",
    "# work hours weekly is 52\n",
    "\n",
    "codingTimeSemester = 6 * 5 * 17\n",
    "\n",
    "print(\"Coding time in a semester is \" + str(codingTimeSemester))\n",
    "\n",
    "percentage = codingTimeSemester / (52 * 17) * 100\n",
    "\n",
    "print(\"The percentage of the coding hours is %.2f\" %percentage + \"%\")"
   ]
  },
  {
   "cell_type": "markdown",
   "metadata": {},
   "source": [
    "## favorite_number"
   ]
  },
  {
   "cell_type": "code",
   "execution_count": 17,
   "metadata": {},
   "outputs": [
    {
     "name": "stdout",
     "output_type": "stream",
     "text": [
      "My favorite number is: 8\n"
     ]
    }
   ],
   "source": [
    "favorite_number = 8\n",
    "# Store your favorite number in a variable (as a number)\n",
    "# And print it like this: \"My favorite number is: 8\"\n",
    "\n",
    "print(\"My favorite number is: %d\" %favorite_number)"
   ]
  },
  {
   "cell_type": "markdown",
   "metadata": {},
   "source": [
    "## swap"
   ]
  },
  {
   "cell_type": "code",
   "execution_count": 24,
   "metadata": {},
   "outputs": [
    {
     "name": "stdout",
     "output_type": "stream",
     "text": [
      "526\n",
      "123\n"
     ]
    }
   ],
   "source": [
    "# Swap the values of the variables\n",
    "a = 123\n",
    "b = 526\n",
    "\n",
    "a, b = b, a\n",
    "\n",
    "print(a)\n",
    "print(b)"
   ]
  },
  {
   "cell_type": "markdown",
   "metadata": {},
   "source": [
    "## bmi"
   ]
  },
  {
   "cell_type": "code",
   "execution_count": 25,
   "metadata": {},
   "outputs": [
    {
     "name": "stdout",
     "output_type": "stream",
     "text": [
      "25.628077262971846\n"
     ]
    }
   ],
   "source": [
    "massInKg = 81.2\n",
    "heightInM = 1.78\n",
    "\n",
    "#Print the Body mass index (BMI) based on these values\n",
    "\n",
    "BMI = massInKg / (heightInM ** 2)\n",
    "print(BMI)"
   ]
  },
  {
   "cell_type": "markdown",
   "metadata": {},
   "source": [
    "## define_basic_info"
   ]
  },
  {
   "cell_type": "code",
   "execution_count": 26,
   "metadata": {},
   "outputs": [
    {
     "name": "stdout",
     "output_type": "stream",
     "text": [
      "Changdong\n",
      "25\n",
      "1.78\n",
      "False\n"
     ]
    }
   ],
   "source": [
    "# Define several things as a variable then print their values\n",
    "# Your name as a string\n",
    "# Your age as an integer\n",
    "# Your height in meters as a float\n",
    "# Whether you are married or not as a boolean\n",
    "\n",
    "name = \"Changdong\"\n",
    "age = 25\n",
    "height = 1.78\n",
    "married = False\n",
    "\n",
    "print(name)\n",
    "print(age)\n",
    "print(height)\n",
    "print(married)"
   ]
  },
  {
   "cell_type": "markdown",
   "metadata": {},
   "source": [
    "## variable_mutation"
   ]
  },
  {
   "cell_type": "code",
   "execution_count": 34,
   "metadata": {},
   "outputs": [
    {
     "name": "stdout",
     "output_type": "stream",
     "text": [
      "13\n",
      "93\n",
      "88\n",
      "25.0\n",
      "512\n",
      "False\n",
      "True\n",
      "False\n",
      "True\n",
      "True\n"
     ]
    }
   ],
   "source": [
    "a = 3\n",
    "# make the \"a\" variable's value bigger by 10\n",
    "a += 10\n",
    "\n",
    "print(a)\n",
    "\n",
    "b = 100\n",
    "# make b smaller by 7\n",
    "b -= 7\n",
    "\n",
    "print(b)\n",
    "\n",
    "c = 44\n",
    "# please double c's value\n",
    "\n",
    "c<<=1\n",
    "\n",
    "print(c)\n",
    "\n",
    "d = 125\n",
    "# please divide by 5 d's value\n",
    "d /= 5\n",
    "\n",
    "print(d)\n",
    "\n",
    "e = 8\n",
    "# please cube of e's value\n",
    "e **= 3\n",
    "\n",
    "print(e)\n",
    "\n",
    "f1 = 123\n",
    "f2 = 345\n",
    "# tell if f1 is bigger than f2 (pras a boolean)\n",
    "\n",
    "print(f1 > f2)\n",
    "\n",
    "g1 = 350\n",
    "g2 = 200\n",
    "# tell if the double of g2 is bigger than g1 (pras a boolean)\n",
    "\n",
    "print(g2<<1 > g1)\n",
    "\n",
    "h = 1357988018575474\n",
    "# tell if 11 is a divisor of h (pras a boolean)\n",
    "\n",
    "print(h // 11 == 0)\n",
    "\n",
    "i1 = 10\n",
    "i2 = 3\n",
    "# tell if i1 is higher than i2 squared and smaller than i2 cubed (pras a boolean)\n",
    "print(i1 > i2 ** 2 and i1 < i2 ** 3)\n",
    "\n",
    "\n",
    "j = 1521\n",
    "# tell if j is divisible by 3 or 5 (pras a boolean)\n",
    "print(j % 3 == 0 or j % 5 == 0)"
   ]
  },
  {
   "cell_type": "markdown",
   "metadata": {},
   "source": [
    "## cuboid"
   ]
  },
  {
   "cell_type": "code",
   "execution_count": 37,
   "metadata": {},
   "outputs": [
    {
     "name": "stdout",
     "output_type": "stream",
     "text": [
      "The first side:10\n",
      "The second side:10\n",
      "The third side:10\n",
      "600.0\n",
      "1000.0\n"
     ]
    }
   ],
   "source": [
    "# Write a program that stores 3 sides of a cuboid as variables (float)\n",
    "# The program should write the surface area and volume of the cuboid like:\n",
    "# \n",
    "# Surface Area: 600\n",
    "# Volume: 1000\n",
    "\n",
    "side1 = float(input(\"The first side:\"))\n",
    "side2 = float(input(\"The second side:\"))\n",
    "side3 = float(input(\"The third side:\"))\n",
    "\n",
    "surfaceArea =2 * (side1*side2 + side2*side3 + side1*side3)\n",
    "volume = side1 * side2 * side3\n",
    "\n",
    "print(surfaceArea)\n",
    "print(volume)"
   ]
  },
  {
   "cell_type": "markdown",
   "metadata": {},
   "source": [
    "## seconds_in_a_day"
   ]
  },
  {
   "cell_type": "code",
   "execution_count": 38,
   "metadata": {},
   "outputs": [
    {
     "name": "stdout",
     "output_type": "stream",
     "text": [
      "1557135896.6024034\n"
     ]
    }
   ],
   "source": [
    "import time\n",
    "\n",
    "ticks = time.time()\n",
    "\n",
    "print(ticks)"
   ]
  },
  {
   "cell_type": "code",
   "execution_count": null,
   "metadata": {},
   "outputs": [],
   "source": []
  }
 ],
 "metadata": {
  "kernelspec": {
   "display_name": "Python 3",
   "language": "python",
   "name": "python3"
  },
  "language_info": {
   "codemirror_mode": {
    "name": "ipython",
    "version": 3
   },
   "file_extension": ".py",
   "mimetype": "text/x-python",
   "name": "python",
   "nbconvert_exporter": "python",
   "pygments_lexer": "ipython3",
   "version": "3.7.3"
  }
 },
 "nbformat": 4,
 "nbformat_minor": 2
}
