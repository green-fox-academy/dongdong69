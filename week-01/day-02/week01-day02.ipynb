{
 "cells": [
  {
   "cell_type": "markdown",
   "metadata": {},
   "source": [
    "# <font color=blue> 1. expressions-and-control-flow </font>"
   ]
  },
  {
   "cell_type": "markdown",
   "metadata": {},
   "source": [
    "## hello_me"
   ]
  },
  {
   "cell_type": "code",
   "execution_count": 1,
   "metadata": {},
   "outputs": [
    {
     "name": "stdout",
     "output_type": "stream",
     "text": [
      "Hellow, Changdong!\n"
     ]
    }
   ],
   "source": [
    "print(\"Hellow, Changdong!\")"
   ]
  },
  {
   "cell_type": "markdown",
   "metadata": {},
   "source": [
    "## humpty_dumpty"
   ]
  },
  {
   "cell_type": "code",
   "execution_count": 3,
   "metadata": {},
   "outputs": [
    {
     "name": "stdout",
     "output_type": "stream",
     "text": [
      "All the king's horses and all the king's men\n",
      "Humpty Dumpty sat on a wall,\n",
      "Humpty Dumpty had a great fall.\n",
      "Couldn't put Humpty together again.\n"
     ]
    }
   ],
   "source": [
    "# Modify this program to print Humpty Dumpty riddle correctly\n",
    "print(\"All the king's horses and all the king's men\")\n",
    "print(\"Humpty Dumpty sat on a wall,\")\n",
    "print(\"Humpty Dumpty had a great fall.\")\n",
    "print(\"Couldn't put Humpty together again.\")"
   ]
  },
  {
   "cell_type": "markdown",
   "metadata": {},
   "source": [
    "## hello_others"
   ]
  },
  {
   "cell_type": "code",
   "execution_count": 4,
   "metadata": {},
   "outputs": [
    {
     "name": "stdout",
     "output_type": "stream",
     "text": [
      "Hello, Ke Su!\n",
      "Hello, Senti!\n",
      "Hello, Ted!\n"
     ]
    }
   ],
   "source": [
    "print(\"Hello, Ke Su!\")\n",
    "print(\"Hello, Senti!\")\n",
    "print(\"Hello, Ted!\")"
   ]
  },
  {
   "cell_type": "markdown",
   "metadata": {},
   "source": [
    "## introduce_yourself"
   ]
  },
  {
   "cell_type": "code",
   "execution_count": 8,
   "metadata": {},
   "outputs": [
    {
     "name": "stdout",
     "output_type": "stream",
     "text": [
      "Changdong\n",
      "25\n",
      "1.78\n"
     ]
    }
   ],
   "source": [
    "# Write a program that prints a few details to the terminal window about you\n",
    "# It should print each detail to a new line.\n",
    "#  - Your name\n",
    "#  - Your age\n",
    "#  - Your height in meters (as a decimal fraction)\n",
    "#\n",
    "#  Example output:\n",
    "#  John Doe\n",
    "#  31\n",
    "#  1.87\n",
    "print(\"Changdong\")\n",
    "print(25)\n",
    "print(1.78)"
   ]
  },
  {
   "cell_type": "markdown",
   "metadata": {},
   "source": [
    "## two_numbers"
   ]
  },
  {
   "cell_type": "code",
   "execution_count": 9,
   "metadata": {},
   "outputs": [
    {
     "name": "stdout",
     "output_type": "stream",
     "text": [
      "35\n",
      "9\n",
      "286\n",
      "1.6923076923076923\n",
      "1\n",
      "9\n"
     ]
    }
   ],
   "source": [
    "# Create a program that prints a few operations on two numbers: 22 and 13\n",
    "\n",
    "# Print the result of 13 added to 22\n",
    "\n",
    "# Print the result of 13 substracted from 22\n",
    "\n",
    "# Print the result of 22 multiplied by 13\n",
    "\n",
    "# Print the result of 22 divided by 13 (as a decimal fraction)\n",
    "\n",
    "# Print the integer part of 22 divided by 13\n",
    "\n",
    "# Print the remainder of 22 divided by 13\n",
    "print(13 + 22)\n",
    "print(22 - 13)\n",
    "print(22 * 13)\n",
    "print(22 / 13)\n",
    "print(22 // 13)\n",
    "print(22 % 13)"
   ]
  },
  {
   "cell_type": "markdown",
   "metadata": {},
   "source": [
    "## coding_hours.py"
   ]
  },
  {
   "cell_type": "code",
   "execution_count": 16,
   "metadata": {},
   "outputs": [
    {
     "name": "stdout",
     "output_type": "stream",
     "text": [
      "Coding time in a semester is 510\n",
      "The percentage of the coding hours is 57.69%\n"
     ]
    }
   ],
   "source": [
    "# An average Green Fox attendee codes 6 hours daily\n",
    "# The semester is 17 weeks long\n",
    "#\n",
    "# Print how many hours is spent with coding in a semester by an attendee,\n",
    "# if the attendee only codes on workdays.\n",
    "#\n",
    "# Print the percentage of the coding hours in the semester if the average\n",
    "# work hours weekly is 52\n",
    "\n",
    "codingTimeSemester = 6 * 5 * 17\n",
    "\n",
    "print(\"Coding time in a semester is \" + str(codingTimeSemester))\n",
    "\n",
    "percentage = codingTimeSemester / (52 * 17) * 100\n",
    "\n",
    "print(\"The percentage of the coding hours is %.2f\" %percentage + \"%\")"
   ]
  },
  {
   "cell_type": "markdown",
   "metadata": {},
   "source": [
    "## favorite_number"
   ]
  },
  {
   "cell_type": "code",
   "execution_count": 17,
   "metadata": {},
   "outputs": [
    {
     "name": "stdout",
     "output_type": "stream",
     "text": [
      "My favorite number is: 8\n"
     ]
    }
   ],
   "source": [
    "favorite_number = 8\n",
    "# Store your favorite number in a variable (as a number)\n",
    "# And print it like this: \"My favorite number is: 8\"\n",
    "\n",
    "print(\"My favorite number is: %d\" %favorite_number)"
   ]
  },
  {
   "cell_type": "markdown",
   "metadata": {},
   "source": [
    "## swap"
   ]
  },
  {
   "cell_type": "code",
   "execution_count": 24,
   "metadata": {},
   "outputs": [
    {
     "name": "stdout",
     "output_type": "stream",
     "text": [
      "526\n",
      "123\n"
     ]
    }
   ],
   "source": [
    "# Swap the values of the variables\n",
    "a = 123\n",
    "b = 526\n",
    "\n",
    "a, b = b, a\n",
    "\n",
    "print(a)\n",
    "print(b)"
   ]
  },
  {
   "cell_type": "markdown",
   "metadata": {},
   "source": [
    "## bmi"
   ]
  },
  {
   "cell_type": "code",
   "execution_count": 25,
   "metadata": {},
   "outputs": [
    {
     "name": "stdout",
     "output_type": "stream",
     "text": [
      "25.628077262971846\n"
     ]
    }
   ],
   "source": [
    "massInKg = 81.2\n",
    "heightInM = 1.78\n",
    "\n",
    "#Print the Body mass index (BMI) based on these values\n",
    "\n",
    "BMI = massInKg / (heightInM ** 2)\n",
    "print(BMI)"
   ]
  },
  {
   "cell_type": "markdown",
   "metadata": {},
   "source": [
    "## define_basic_info"
   ]
  },
  {
   "cell_type": "code",
   "execution_count": 26,
   "metadata": {},
   "outputs": [
    {
     "name": "stdout",
     "output_type": "stream",
     "text": [
      "Changdong\n",
      "25\n",
      "1.78\n",
      "False\n"
     ]
    }
   ],
   "source": [
    "# Define several things as a variable then print their values\n",
    "# Your name as a string\n",
    "# Your age as an integer\n",
    "# Your height in meters as a float\n",
    "# Whether you are married or not as a boolean\n",
    "\n",
    "name = \"Changdong\"\n",
    "age = 25\n",
    "height = 1.78\n",
    "married = False\n",
    "\n",
    "print(name)\n",
    "print(age)\n",
    "print(height)\n",
    "print(married)"
   ]
  },
  {
   "cell_type": "markdown",
   "metadata": {},
   "source": [
    "## variable_mutation"
   ]
  },
  {
   "cell_type": "code",
   "execution_count": 34,
   "metadata": {},
   "outputs": [
    {
     "name": "stdout",
     "output_type": "stream",
     "text": [
      "13\n",
      "93\n",
      "88\n",
      "25.0\n",
      "512\n",
      "False\n",
      "True\n",
      "False\n",
      "True\n",
      "True\n"
     ]
    }
   ],
   "source": [
    "a = 3\n",
    "# make the \"a\" variable's value bigger by 10\n",
    "a += 10\n",
    "\n",
    "print(a)\n",
    "\n",
    "b = 100\n",
    "# make b smaller by 7\n",
    "b -= 7\n",
    "\n",
    "print(b)\n",
    "\n",
    "c = 44\n",
    "# please double c's value\n",
    "\n",
    "c<<=1\n",
    "\n",
    "print(c)\n",
    "\n",
    "d = 125\n",
    "# please divide by 5 d's value\n",
    "d /= 5\n",
    "\n",
    "print(d)\n",
    "\n",
    "e = 8\n",
    "# please cube of e's value\n",
    "e **= 3\n",
    "\n",
    "print(e)\n",
    "\n",
    "f1 = 123\n",
    "f2 = 345\n",
    "# tell if f1 is bigger than f2 (pras a boolean)\n",
    "\n",
    "print(f1 > f2)\n",
    "\n",
    "g1 = 350\n",
    "g2 = 200\n",
    "# tell if the double of g2 is bigger than g1 (pras a boolean)\n",
    "\n",
    "print(g2<<1 > g1)\n",
    "\n",
    "h = 1357988018575474\n",
    "# tell if 11 is a divisor of h (pras a boolean)\n",
    "\n",
    "print(h // 11 == 0)\n",
    "\n",
    "i1 = 10\n",
    "i2 = 3\n",
    "# tell if i1 is higher than i2 squared and smaller than i2 cubed (pras a boolean)\n",
    "print(i1 > i2 ** 2 and i1 < i2 ** 3)\n",
    "\n",
    "\n",
    "j = 1521\n",
    "# tell if j is divisible by 3 or 5 (pras a boolean)\n",
    "print(j % 3 == 0 or j % 5 == 0)"
   ]
  },
  {
   "cell_type": "markdown",
   "metadata": {},
   "source": [
    "## cuboid"
   ]
  },
  {
   "cell_type": "code",
   "execution_count": 37,
   "metadata": {},
   "outputs": [
    {
     "name": "stdout",
     "output_type": "stream",
     "text": [
      "The first side:10\n",
      "The second side:10\n",
      "The third side:10\n",
      "600.0\n",
      "1000.0\n"
     ]
    }
   ],
   "source": [
    "# Write a program that stores 3 sides of a cuboid as variables (float)\n",
    "# The program should write the surface area and volume of the cuboid like:\n",
    "# \n",
    "# Surface Area: 600\n",
    "# Volume: 1000\n",
    "\n",
    "side1 = float(input(\"The first side:\"))\n",
    "side2 = float(input(\"The second side:\"))\n",
    "side3 = float(input(\"The third side:\"))\n",
    "\n",
    "surfaceArea =2 * (side1*side2 + side2*side3 + side1*side3)\n",
    "volume = side1 * side2 * side3\n",
    "\n",
    "print(surfaceArea)\n",
    "print(volume)"
   ]
  },
  {
   "cell_type": "markdown",
   "metadata": {},
   "source": [
    "## seconds_in_a_day"
   ]
  },
  {
   "cell_type": "code",
   "execution_count": 1,
   "metadata": {},
   "outputs": [
    {
     "name": "stdout",
     "output_type": "stream",
     "text": [
      "33918\n"
     ]
    }
   ],
   "source": [
    "current_hours = 14;\n",
    "current_minutes = 34;\n",
    "current_seconds = 42;\n",
    "\n",
    "# Write a program that prints the remaining seconds (as an integer) from a\n",
    "# day if the current time is represented by the variables\n",
    "\n",
    "remining_hours = 24 - current_hours - 1\n",
    "remining_minutes = 60 - current_minutes - 1\n",
    "remining_seconds = 60 - current_seconds + 60 * 60 * remining_hours + 60 * remining_minutes\n",
    "print(remining_seconds)"
   ]
  },
  {
   "cell_type": "markdown",
   "metadata": {},
   "source": [
    "## hello_user"
   ]
  },
  {
   "cell_type": "code",
   "execution_count": 2,
   "metadata": {},
   "outputs": [
    {
     "name": "stdout",
     "output_type": "stream",
     "text": [
      "User name: Changdong\n",
      "Hello, Changdong\n"
     ]
    }
   ],
   "source": [
    "# Modify this program to greet the user instead of the World!\n",
    "# The program should ask for the name of the user\n",
    "user_name = input(\"User name: \")\n",
    "\n",
    "print(\"Hello, \" + user_name)"
   ]
  },
  {
   "cell_type": "markdown",
   "metadata": {},
   "source": [
    "## mile_to_km_converter"
   ]
  },
  {
   "cell_type": "code",
   "execution_count": 6,
   "metadata": {},
   "outputs": [
    {
     "name": "stdout",
     "output_type": "stream",
     "text": [
      "Miles:100\n",
      "160.0km\n"
     ]
    }
   ],
   "source": [
    "# Write a program that asks for an integer that is a distance in miles,\n",
    "# then it converts that value to kilometers and prints it\n",
    "\n",
    "miles = input(\"Miles:\")\n",
    "kilometers = 1.6 * float(miles)\n",
    "\n",
    "print(str(kilometers) + \"km\")"
   ]
  },
  {
   "cell_type": "markdown",
   "metadata": {},
   "source": [
    "## animals_and_legs"
   ]
  },
  {
   "cell_type": "code",
   "execution_count": 12,
   "metadata": {},
   "outputs": [
    {
     "name": "stdout",
     "output_type": "stream",
     "text": [
      "How many chickens you have?\n",
      "4\n",
      "How many pigs you have?\n",
      "10\n",
      "They have 48 legs.\n"
     ]
    }
   ],
   "source": [
    "# Write a program that asks for two integers\n",
    "# The first represents the number of chickens the farmer has\n",
    "# The second represents the number of pigs owned by the farmer\n",
    "# It should print how many legs all the animals have\n",
    "\n",
    "chickens = input(\"How many chickens you have?\\n\")\n",
    "pigs = input(\"How many pigs you have?\\n\")\n",
    "\n",
    "total_legs = 2*int(chickens) + 4*int(pigs)\n",
    "print(\"They have \" + str(total_legs) + \" legs.\")"
   ]
  },
  {
   "cell_type": "markdown",
   "metadata": {},
   "source": [
    "## average_of_input"
   ]
  },
  {
   "cell_type": "code",
   "execution_count": 15,
   "metadata": {},
   "outputs": [
    {
     "name": "stdout",
     "output_type": "stream",
     "text": [
      "input number:4\n",
      "input number:4\n",
      "input number:4\n",
      "input number:4\n",
      "input number:4\n",
      "20\n",
      "4.0\n"
     ]
    }
   ],
   "source": [
    "# Write a program that asks for 5 integers in a row,\n",
    "# then it should print the sum and the average of these numbers like:\n",
    "#\n",
    "# Sum: 22, Average: 4.4\n",
    "\n",
    "numbers_list = []\n",
    "sum = 0\n",
    "for i in range(5):\n",
    "    number = int(input(\"input number:\"))\n",
    "    sum += number\n",
    "    \n",
    "print(sum)\n",
    "print(sum/5)"
   ]
  },
  {
   "cell_type": "markdown",
   "metadata": {},
   "source": [
    "## odd_even"
   ]
  },
  {
   "cell_type": "code",
   "execution_count": 18,
   "metadata": {},
   "outputs": [
    {
     "name": "stdout",
     "output_type": "stream",
     "text": [
      "Please input a number:4\n",
      "Even\n"
     ]
    }
   ],
   "source": [
    "# Write a program that reads a number from the standard input,\n",
    "# Then prints \"Odd\" if the number is odd, or \"Even\" if it is even.\n",
    "\n",
    "number = int(input(\"Please input a number:\"))\n",
    "if number%2 == 0:\n",
    "    print(\"Even\")\n",
    "else:\n",
    "    print(\"Odd\")"
   ]
  },
  {
   "cell_type": "markdown",
   "metadata": {},
   "source": [
    "## one_two_a_lot"
   ]
  },
  {
   "cell_type": "code",
   "execution_count": 20,
   "metadata": {},
   "outputs": [
    {
     "name": "stdout",
     "output_type": "stream",
     "text": [
      "Please input a number:2\n",
      "Two\n"
     ]
    }
   ],
   "source": [
    "# Write a program that reads a number form the standard input,\n",
    "# If the number is zero or smaller it should print: Not enough\n",
    "# If the number is one it should print: One\n",
    "# If the number is two it should print: Two\n",
    "# If the number is more than two it should print: A lot\n",
    "\n",
    "number = int(input(\"Please input a number:\"))\n",
    "if number <= 0:\n",
    "    print(\"Not enough\")\n",
    "elif number == 1:\n",
    "    print(\"One\")\n",
    "elif number == 2:\n",
    "    print(\"Two\")\n",
    "else:\n",
    "    print(\"A lot\")"
   ]
  },
  {
   "cell_type": "markdown",
   "metadata": {},
   "source": [
    "## print_bigger"
   ]
  },
  {
   "cell_type": "code",
   "execution_count": 28,
   "metadata": {},
   "outputs": [
    {
     "name": "stdout",
     "output_type": "stream",
     "text": [
      "Please input the first number:4\n",
      "Please input the second number:3\n",
      "The bigger one is: 4\n"
     ]
    }
   ],
   "source": [
    "# Write a program that asks for two numbers and prints the bigger one\n",
    "\n",
    "number1 = float(input(\"Please input the first number:\"))\n",
    "number2 = float(input(\"Please input the second number:\"))\n",
    "\n",
    "#bigger = number1 > number2 ? number1 : number2\n",
    "#print(\"The bigger number is %d\" %bigger)\n",
    "\n",
    "bigger = [number1, number2][number2 > number1]\n",
    "print(\"The bigger one is: %d\" %bigger)"
   ]
  },
  {
   "cell_type": "markdown",
   "metadata": {},
   "source": [
    "## party_indicator"
   ]
  },
  {
   "cell_type": "code",
   "execution_count": 29,
   "metadata": {},
   "outputs": [
    {
     "name": "stdout",
     "output_type": "stream",
     "text": [
      "Please input the number of girls:4\n",
      "Please input the number of boys:4\n",
      "Average party\n"
     ]
    }
   ],
   "source": [
    "# Write a program that asks for two numbers\n",
    "# The first number represents the number of girls that comes to a party, the\n",
    "# second the boys\n",
    "# It should print: The party is exellent!\n",
    "# If the the number of girls and boys are equal and there are more people coming than 20\n",
    "#\n",
    "# It should print: Quite cool party!\n",
    "# It there are more than 20 people coming but the girl - boy ratio is not 1-1\n",
    "#\n",
    "# It should print: Average party...\n",
    "# If there are less people coming than 20\n",
    "#\n",
    "# It should print: Sausage party\n",
    "# If no girls are coming, regardless the count of the people\n",
    "\n",
    "girls = int(input(\"Please input the number of girls:\"))\n",
    "boys = int(input(\"Please input the number of boys:\"))\n",
    "people = girls + boys\n",
    "\n",
    "if girls == 0:\n",
    "    print(\"Sausage party\")\n",
    "elif people < 20:\n",
    "    print(\"Average party\")\n",
    "elif girls == boys:\n",
    "    print(\"The party is exellent!\")\n",
    "else:\n",
    "    print(\"Quite cool party!\")"
   ]
  },
  {
   "cell_type": "markdown",
   "metadata": {},
   "source": [
    "## conditional_variable_mutation"
   ]
  },
  {
   "cell_type": "code",
   "execution_count": 30,
   "metadata": {},
   "outputs": [
    {
     "name": "stdout",
     "output_type": "stream",
     "text": [
      "1\n",
      "Sweet!\n",
      "121\n",
      "check\n"
     ]
    }
   ],
   "source": [
    "a = 24\n",
    "out = 0\n",
    "# if a is even increment out by one\n",
    "\n",
    "if a % 2 == 0:\n",
    "    out += 1\n",
    "\n",
    "\n",
    "print(out)\n",
    "\n",
    "\n",
    "\n",
    "\n",
    "b = 13\n",
    "out2 = \"\"\n",
    "# if b is between 10 and 20 set out2 to \"Sweet!\"\n",
    "# if less than 10 set out2 to \"Less!\",\n",
    "# if more than 20 set out2 to \"More!\"\n",
    "\n",
    "if b > 20:\n",
    "    out2 = \"More\"\n",
    "elif b > 10:\n",
    "    out2 = \"Sweet!\"\n",
    "else:\n",
    "    out2 = \"Less!\"\n",
    "\n",
    "\n",
    "print(out2)\n",
    "\n",
    "\n",
    "\n",
    "c = 123\n",
    "credits = 100\n",
    "is_bonus = False\n",
    "# if credits are at least 50,\n",
    "# and is_bonus is false decrement c by 2\n",
    "# if credits are smaller than 50,\n",
    "# and is_bonus is false decrement c by 1\n",
    "# if is_bonus is true c should remain the same\n",
    "\n",
    "if not is_bonus:\n",
    "    if credits < 50:\n",
    "        c -= 1\n",
    "    else:\n",
    "        c -= 2\n",
    "\n",
    "print(c)\n",
    "\n",
    "\n",
    "\n",
    "\n",
    "d = 8\n",
    "time = 120\n",
    "out3 = \"\"\n",
    "# if d is dividable by 4\n",
    "# and time is not more than 200\n",
    "# set out3 to \"check\"\n",
    "# if time is more than 200\n",
    "# set out3 to \"Time out\"\n",
    "# otherwise set out3 to \"Run Forest Run!\"\n",
    "\n",
    "if time > 200:\n",
    "    out3 = \"Time out\"\n",
    "elif d % 4 == 0:\n",
    "    out3 = \"check\"\n",
    "else:\n",
    "    out3 = \"Run Forest Run!\"\n",
    "\n",
    "\n",
    "print(out3)"
   ]
  },
  {
   "cell_type": "markdown",
   "metadata": {},
   "source": [
    "## draw_diamond"
   ]
  },
  {
   "cell_type": "code",
   "execution_count": 11,
   "metadata": {},
   "outputs": [
    {
     "name": "stdout",
     "output_type": "stream",
     "text": [
      "Please input an odd number:7\n",
      "   *   \n",
      "  ***  \n",
      " ***** \n",
      "*******\n",
      " ***** \n",
      "  ***  \n",
      "   *   \n"
     ]
    }
   ],
   "source": [
    "# Write a program that reads a number from the standard input, then draws a\n",
    "# diamond like this:\n",
    "#\n",
    "#\n",
    "#    *\n",
    "#   ***\n",
    "#  *****\n",
    "# *******\n",
    "#  *****\n",
    "#   ***\n",
    "#    *\n",
    "#\n",
    "# The diamond should have as many lines as the number was\n",
    "n = int(input(\"Please input an odd number:\"))\n",
    "mid = n // 2 + 1\n",
    "\n",
    "for i in range(n):\n",
    "    number_stars = n - abs(2*i - 2*mid + 2)\n",
    "    blanks = (n - number_stars)//2\n",
    "    print(\" \" * blanks + \"*\" * number_stars + \" \" * blanks)"
   ]
  },
  {
   "cell_type": "markdown",
   "metadata": {},
   "source": [
    "## draw_square"
   ]
  },
  {
   "cell_type": "code",
   "execution_count": 1,
   "metadata": {},
   "outputs": [
    {
     "name": "stdout",
     "output_type": "stream",
     "text": [
      "Please input a number:4\n",
      "%%%%\n",
      "%  %\n",
      "%  %\n",
      "%%%%\n"
     ]
    }
   ],
   "source": [
    "# Write a program that reads a number from the standard input, then draws a\n",
    "# square like this:\n",
    "#\n",
    "#\n",
    "# %%%%%%\n",
    "# %    %\n",
    "# %    %\n",
    "# %    %\n",
    "# %    %\n",
    "# %%%%%%\n",
    "#\n",
    "# The square should have as many lines as the number was\n",
    "\n",
    "n = int(input(\"Please input a number:\"))\n",
    "\n",
    "for i in range(n):\n",
    "    if i == 0 or i == n -1: \n",
    "        print(\"%\" * n)\n",
    "    else:\n",
    "        print(\"%\" + \" \"*(n-2) + \"%\")\n"
   ]
  },
  {
   "cell_type": "markdown",
   "metadata": {},
   "source": [
    "## parametric_average"
   ]
  },
  {
   "cell_type": "code",
   "execution_count": 36,
   "metadata": {},
   "outputs": [
    {
     "name": "stdout",
     "output_type": "stream",
     "text": [
      "How many int you have?3\n",
      "input number:1\n",
      "input number:2\n",
      "input number:3\n",
      "6\n",
      "1.2\n"
     ]
    }
   ],
   "source": [
    "# Write a program that asks for a number.\n",
    "# It would ask this many times to enter an integer,\n",
    "# if all the integers are entered, it should print the sum and average of these\n",
    "# integers like:\n",
    "#\n",
    "# Sum: 22, Average: 4.4\n",
    "\n",
    "numbers_list = []\n",
    "sum = 0\n",
    "times = int(input(\"How many int you have?\"))\n",
    "for i in range(times):\n",
    "    number = int(input(\"input number:\"))\n",
    "    sum += number\n",
    "    \n",
    "print(sum)\n",
    "print(sum/5)"
   ]
  },
  {
   "cell_type": "markdown",
   "metadata": {},
   "source": [
    "## substr"
   ]
  },
  {
   "cell_type": "code",
   "execution_count": 35,
   "metadata": {},
   "outputs": [
    {
     "name": "stdout",
     "output_type": "stream",
     "text": [
      "['this', 'is', 'what', \"I'm\", 'searching', 'in']\n",
      "4\n",
      "17\n",
      "['this', 'is', 'what', \"I'm\", 'searching', 'in']\n",
      "6\n",
      "-1\n"
     ]
    }
   ],
   "source": [
    "#  Create a function that takes two strings as a parameter\n",
    "#  Returns the starting index where the second one is starting in the first one\n",
    "#  Returns `-1` if the second string is not in the first one\n",
    "\n",
    "def substr(str, keyword):\n",
    "    str_list = str.split()\n",
    "    print(str_list)\n",
    "    index = 0\n",
    "    \n",
    "    for word in str_list:\n",
    "        if word == keyword:\n",
    "            break\n",
    "        index += 1\n",
    "        \n",
    "    print(index)\n",
    "        \n",
    "    if index == len(str_list):\n",
    "        return -1\n",
    "        \n",
    "    sum = 0\n",
    "        \n",
    "    for i in range(index):\n",
    "        sum += len(str_list[i])\n",
    "        \n",
    "    return sum + index\n",
    "\n",
    "#  Example\n",
    "# should print: `17`\n",
    "print(substr(\"this is what I'm searching in\", \"searching\"))\n",
    "\n",
    "# should print: `-1`\n",
    "print(substr(\"this is what I'm searching in\", \"not\"))\n"
   ]
  },
  {
   "cell_type": "markdown",
   "metadata": {},
   "source": [
    "# <font color=blue> 2.List <font>"
   ]
  },
  {
   "cell_type": "code",
   "execution_count": 8,
   "metadata": {},
   "outputs": [
    {
     "name": "stdout",
     "output_type": "stream",
     "text": [
      "False\n",
      "1352363137096\n",
      "1352363262344\n",
      "True\n",
      "140736399893136\n",
      "140736399893136\n"
     ]
    }
   ],
   "source": [
    "a = [1]\n",
    "b = [1]\n",
    "\n",
    "c = 1\n",
    "d = 1\n",
    "print(a is b)\n",
    "print(id(a))\n",
    "print(id(b))\n",
    "\n",
    "print(c is d)\n",
    "print(id(c))\n",
    "print(id(d))"
   ]
  },
  {
   "cell_type": "markdown",
   "metadata": {},
   "source": [
    "## print_all"
   ]
  },
  {
   "cell_type": "code",
   "execution_count": 12,
   "metadata": {},
   "outputs": [
    {
     "name": "stdout",
     "output_type": "stream",
     "text": [
      "4\n",
      "5\n",
      "6\n",
      "7\n"
     ]
    }
   ],
   "source": [
    "# - Create a variable named `numbers`\n",
    "#   with the following content: `[4, 5, 6, 7]`\n",
    "# - Print all the elements of `numbers`\n",
    "\n",
    "numbers = [4,5,6,7]\n",
    "for i in numbers:\n",
    "    print(i)"
   ]
  },
  {
   "cell_type": "markdown",
   "metadata": {},
   "source": [
    "## third"
   ]
  },
  {
   "cell_type": "code",
   "execution_count": 13,
   "metadata": {},
   "outputs": [
    {
     "name": "stdout",
     "output_type": "stream",
     "text": [
      "6\n"
     ]
    }
   ],
   "source": [
    "# - Create a variable named `q`\n",
    "#   with the following content: `[4, 5, 6, 7]`\n",
    "# - Print the third element of `q`\n",
    "\n",
    "q = [4, 5, 6, 7]\n",
    "\n",
    "print(q[2])"
   ]
  },
  {
   "cell_type": "markdown",
   "metadata": {},
   "source": [
    "## compare_length"
   ]
  },
  {
   "cell_type": "code",
   "execution_count": 16,
   "metadata": {},
   "outputs": [
    {
     "name": "stdout",
     "output_type": "stream",
     "text": [
      "p1 is longer\n"
     ]
    }
   ],
   "source": [
    "# - Create a variable named `p1`\n",
    "#   with the following content: `[1, 2, 3]`\n",
    "# - Create a variable named `p2`\n",
    "#   with the following content: `[4, 5]`\n",
    "# - Print \"p2 is longer\" if `p2` has more elements than `p1`\n",
    "\n",
    "p1, p2 = [1, 2, 3], [4, 5]\n",
    "\n",
    "print([\"p2 is longer\", \"p1 is longer\"][len(p1) > len(p2)])"
   ]
  },
  {
   "cell_type": "markdown",
   "metadata": {},
   "source": [
    "## sum_elements"
   ]
  },
  {
   "cell_type": "code",
   "execution_count": 19,
   "metadata": {},
   "outputs": [
    {
     "name": "stdout",
     "output_type": "stream",
     "text": [
      "89\n"
     ]
    }
   ],
   "source": [
    "# - Create a variable named `r`\n",
    "#   with the following content: `[54, 23, 66, 12]`\n",
    "# - Print the sum of the second and the third element\n",
    "\n",
    "r = [54, 23, 66, 12]\n",
    "print (sum(r[1:3]))"
   ]
  },
  {
   "cell_type": "markdown",
   "metadata": {},
   "source": [
    "## change_element"
   ]
  },
  {
   "cell_type": "code",
   "execution_count": 21,
   "metadata": {},
   "outputs": [
    {
     "name": "stdout",
     "output_type": "stream",
     "text": [
      "4\n"
     ]
    }
   ],
   "source": [
    "# - Create an array variable named `s`\n",
    "#   with the following content: `[1, 2, 3, 8, 5, 6]`\n",
    "# - Change the 8 to 4\n",
    "# - Print the fourth element\n",
    "\n",
    "s = [1, 2, 3, 8, 5, 6]\n",
    "s[s.index(8)] = 4\n",
    "print(s[3])"
   ]
  },
  {
   "cell_type": "markdown",
   "metadata": {},
   "source": [
    "## increment_element"
   ]
  },
  {
   "cell_type": "code",
   "execution_count": 23,
   "metadata": {},
   "outputs": [
    {
     "name": "stdout",
     "output_type": "stream",
     "text": [
      "4\n"
     ]
    }
   ],
   "source": [
    "# - Create a variable named `t`\n",
    "#   with the following content: `[1, 2, 3, 4, 5]`\n",
    "# - Increment the third element\n",
    "# - Print the third element\n",
    "\n",
    "t = [1, 2, 3, 4, 5]\n",
    "t[2]+=1\n",
    "print(t[2])"
   ]
  },
  {
   "cell_type": "markdown",
   "metadata": {},
   "source": [
    "## diagonal_matrix"
   ]
  },
  {
   "cell_type": "code",
   "execution_count": 25,
   "metadata": {},
   "outputs": [
    {
     "name": "stdout",
     "output_type": "stream",
     "text": [
      "1000\n",
      "0100\n",
      "0010\n",
      "0001\n"
     ]
    }
   ],
   "source": [
    "# - Create (dynamically) a two dimensional list\n",
    "#   with the following matrix. Use a loop!\n",
    "#\n",
    "#   1 0 0 0\n",
    "#   0 1 0 0\n",
    "#   0 0 1 0\n",
    "#   0 0 0 1\n",
    "#\n",
    "# - Print this two dimensional list to the output\n",
    "\n",
    "matrix = [[1,0,0,0], [0,1,0,0], [0,0,1,0], [0,0,0,1]]\n",
    "\n",
    "for i in matrix:\n",
    "    for j in i:\n",
    "        print(j, end=\"\")\n",
    "    print(\"\")"
   ]
  },
  {
   "cell_type": "markdown",
   "metadata": {},
   "source": [
    "## double_items"
   ]
  },
  {
   "cell_type": "code",
   "execution_count": 26,
   "metadata": {},
   "outputs": [
    {
     "name": "stdout",
     "output_type": "stream",
     "text": [
      "[6, 8, 10, 12, 14]\n"
     ]
    }
   ],
   "source": [
    "# - Create an array variable named `numList`\n",
    "#   with the following content: `[3, 4, 5, 6, 7]`\n",
    "# - Double all the values in the array\n",
    "\n",
    "numList = [3, 4, 5, 6, 7]\n",
    "for i in range(len(numList)):\n",
    "    numList[i] *= 2\n",
    "    \n",
    "print(numList)"
   ]
  },
  {
   "cell_type": "markdown",
   "metadata": {},
   "source": [
    "## colors"
   ]
  },
  {
   "cell_type": "code",
   "execution_count": 28,
   "metadata": {},
   "outputs": [
    {
     "name": "stdout",
     "output_type": "stream",
     "text": [
      "[['lime', 'forest green', 'olive', 'pale green', 'spring green'], ['orange red', 'red', 'tomato'], ['orchid', 'violet', 'pink', 'hot pink']]\n"
     ]
    }
   ],
   "source": [
    "# - Create a two dimensional list\n",
    "#   which can contain the different shades of specified colors\n",
    "# - In `colors[0]` store the shades of green:\n",
    "#   `\"lime\", \"forest green\", \"olive\", \"pale green\", \"spring green\"`\n",
    "# - In `colors[1]` store the shades of red:\n",
    "#   `\"orange red\", \"red\", \"tomato\"`\n",
    "# - In `colors[2]` store the shades of pink:\n",
    "#   `\"orchid\", \"violet\", \"pink\", \"hot pink\"`\n",
    "\n",
    "colors = [[],[],[]]\n",
    "\n",
    "colors[0] = [\"lime\", \"forest green\", \"olive\", \"pale green\", \"spring green\"]\n",
    "colors[1] = [\"orange red\", \"red\", \"tomato\"]\n",
    "colors[2] = [\"orchid\", \"violet\", \"pink\", \"hot pink\"]\n",
    "print(colors)"
   ]
  },
  {
   "cell_type": "markdown",
   "metadata": {},
   "source": [
    "## append_a"
   ]
  },
  {
   "cell_type": "code",
   "execution_count": 30,
   "metadata": {},
   "outputs": [
    {
     "name": "stdout",
     "output_type": "stream",
     "text": [
      "['koala', 'panda', 'zebra']\n"
     ]
    }
   ],
   "source": [
    "# - Create a variable named `animals`\n",
    "#   with the following content: `[\"koal\", \"pand\", \"zebr\"]`\n",
    "# - Add all elements an `\"a\"` at the end\n",
    "\n",
    "animals = [\"koal\", \"pand\", \"zebr\"]\n",
    "index = 0\n",
    "\n",
    "for animal in animals:\n",
    "    animals[index] = animal + \"a\"\n",
    "    index += 1\n",
    "    \n",
    "print(animals)"
   ]
  },
  {
   "cell_type": "markdown",
   "metadata": {},
   "source": [
    "## swap_elements"
   ]
  },
  {
   "cell_type": "code",
   "execution_count": 31,
   "metadata": {},
   "outputs": [
    {
     "name": "stdout",
     "output_type": "stream",
     "text": [
      "['third', 'second', 'first']\n"
     ]
    }
   ],
   "source": [
    "# - Create a variable named `abc`\n",
    "#   with the following content: `[\"first\", \"second\", \"third\"]`\n",
    "# - Swap the first and the third element of `abc`\n",
    "\n",
    "abc = [\"first\", \"second\", \"third\"]\n",
    "abc[0], abc[2] = abc[2], abc[0]\n",
    "print(abc)"
   ]
  },
  {
   "cell_type": "markdown",
   "metadata": {},
   "source": [
    "## sum_all"
   ]
  },
  {
   "cell_type": "code",
   "execution_count": 32,
   "metadata": {},
   "outputs": [
    {
     "name": "stdout",
     "output_type": "stream",
     "text": [
      "25\n"
     ]
    }
   ],
   "source": [
    "# - Create a variable named `ai`\n",
    "#   with the following content: `[3, 4, 5, 6, 7]`\n",
    "# - Print the sum of the elements in `ai`\n",
    "\n",
    "ai = [3, 4, 5, 6, 7]\n",
    "print(sum(ai))"
   ]
  },
  {
   "cell_type": "markdown",
   "metadata": {},
   "source": [
    "## reverse"
   ]
  },
  {
   "cell_type": "code",
   "execution_count": 33,
   "metadata": {},
   "outputs": [
    {
     "name": "stdout",
     "output_type": "stream",
     "text": [
      "[7, 6, 5, 4, 3]\n"
     ]
    }
   ],
   "source": [
    "# - Create a variable named `aj`\n",
    "#   with the following content: `[3, 4, 5, 6, 7]`\n",
    "# - Reverse the order of the elements in `aj`\n",
    "# - Print the elements of the reversed `aj`\n",
    "\n",
    "aj = [3, 4, 5, 6, 7]\n",
    "print(aj[::-1])"
   ]
  }
 ],
 "metadata": {
  "kernelspec": {
   "display_name": "Python 3",
   "language": "python",
   "name": "python3"
  },
  "language_info": {
   "codemirror_mode": {
    "name": "ipython",
    "version": 3
   },
   "file_extension": ".py",
   "mimetype": "text/x-python",
   "name": "python",
   "nbconvert_exporter": "python",
   "pygments_lexer": "ipython3",
   "version": "3.7.3"
  }
 },
 "nbformat": 4,
 "nbformat_minor": 2
}
