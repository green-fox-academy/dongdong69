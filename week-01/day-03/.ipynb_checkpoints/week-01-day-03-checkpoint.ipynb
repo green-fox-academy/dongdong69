{
 "cells": [
  {
   "cell_type": "markdown",
   "metadata": {},
   "source": [
    "# <font color = blue> 1.Funuctions <font>"
   ]
  },
  {
   "cell_type": "markdown",
   "metadata": {},
   "source": [
    "## doubling"
   ]
  },
  {
   "cell_type": "code",
   "execution_count": 1,
   "metadata": {},
   "outputs": [
    {
     "name": "stdout",
     "output_type": "stream",
     "text": [
      "246\n"
     ]
    }
   ],
   "source": [
    "# - Create a variable named `base_num` and assign the value `123` to it\n",
    "# - Create a function called `doubling` that doubles it's input parameter and returns with an integer\n",
    "# - Print the result of `doubling(base_num)`\n",
    "\n",
    "base_num = 123\n",
    "def doubling(number):\n",
    "    return 2*base_num\n",
    "\n",
    "print(doubling(base_num))"
   ]
  },
  {
   "cell_type": "markdown",
   "metadata": {},
   "source": [
    "## greet"
   ]
  },
  {
   "cell_type": "code",
   "execution_count": 2,
   "metadata": {},
   "outputs": [
    {
     "name": "stdout",
     "output_type": "stream",
     "text": [
      "Greeting, dear Greenfox\n"
     ]
    }
   ],
   "source": [
    "# - Create variable named `al` and assign the value `Greenfox` to it\n",
    "# - Create a function called `greet` that greets it's input parameter\n",
    "#     - Greeting is printing e.g. `Greetings, dear Greenfox`\n",
    "# - Greet `al`\n",
    "\n",
    "al = \"Greenfox\"\n",
    "\n",
    "def greet(name):\n",
    "    print(\"Greeting, dear \" + name)\n",
    "    \n",
    "greet(al)"
   ]
  },
  {
   "cell_type": "markdown",
   "metadata": {},
   "source": [
    "# append_a_func"
   ]
  },
  {
   "cell_type": "code",
   "execution_count": 4,
   "metadata": {},
   "outputs": [
    {
     "name": "stdout",
     "output_type": "stream",
     "text": [
      "Chinchilla\n"
     ]
    }
   ],
   "source": [
    "# - Create a variable named `typo` and assign the value `Chinchill` to it\n",
    "# - Write a function called `append_a_func` that gets a string as an input,\n",
    "#   appends an 'a' character to its end and returns with a string\n",
    "# - Print the result of `append_a_func(typo)\n",
    "\n",
    "typo = \"Chinchill\"\n",
    "\n",
    "def appen_a_func(t):\n",
    "    return t + \"a\"\n",
    "\n",
    "print(appen_a_func(typo))"
   ]
  },
  {
   "cell_type": "markdown",
   "metadata": {},
   "source": [
    "## Sum"
   ]
  },
  {
   "cell_type": "code",
   "execution_count": 9,
   "metadata": {},
   "outputs": [
    {
     "name": "stdout",
     "output_type": "stream",
     "text": [
      "Please input a number:2\n",
      "3\n"
     ]
    }
   ],
   "source": [
    "# Write a function called `sum` that returns the sum of numbers from zero to the given parameter\n",
    "your_number = int(input(\"Please input a number:\"))\n",
    "\n",
    "def sum(number):\n",
    "    sum_number = 0\n",
    "    for n in range(number + 1):\n",
    "        sum_number += n\n",
    "    return sum_number\n",
    "\n",
    "print(sum(your_number))"
   ]
  },
  {
   "cell_type": "markdown",
   "metadata": {},
   "source": [
    "## factorio"
   ]
  },
  {
   "cell_type": "code",
   "execution_count": 11,
   "metadata": {},
   "outputs": [
    {
     "name": "stdout",
     "output_type": "stream",
     "text": [
      "Please input a number:3\n",
      "6\n"
     ]
    }
   ],
   "source": [
    "# - Create a function called `factorio`\n",
    "#   that returns it's input's factorial\n",
    "\n",
    "your_number = int(input(\"Please input a number:\"))\n",
    "\n",
    "def factorio(number):\n",
    "    factorial = 1\n",
    "    for n in range(1, number + 1):\n",
    "        factorial *= n\n",
    "    return factorial\n",
    "\n",
    "print(factorio(your_number))"
   ]
  },
  {
   "cell_type": "markdown",
   "metadata": {},
   "source": [
    "## print_params"
   ]
  },
  {
   "cell_type": "code",
   "execution_count": 12,
   "metadata": {},
   "outputs": [
    {
     "name": "stdout",
     "output_type": "stream",
     "text": [
      "asd\n",
      "3\n",
      "4\n"
     ]
    }
   ],
   "source": [
    "# - Create a function called `print_params`\n",
    "#   which prints the input parameters\n",
    "#   (can have multiple number of arguments)\n",
    "\n",
    "def print_params(*rest):\n",
    "    for item in rest:\n",
    "        print(item)\n",
    "        \n",
    "print_params(\"asd\",3,4)"
   ]
  },
  {
   "cell_type": "markdown",
   "metadata": {},
   "source": [
    "## subint"
   ]
  },
  {
   "cell_type": "code",
   "execution_count": 15,
   "metadata": {},
   "outputs": [
    {
     "name": "stdout",
     "output_type": "stream",
     "text": [
      "[0, 1, 4]\n",
      "[]\n"
     ]
    }
   ],
   "source": [
    "#  Create a function that takes a number and a list of numbers as a parameter\n",
    "#  Returns the indeces of the numbers in the list where the first number is part of\n",
    "#  Or returns an empty list if the number is not part of any of the numbers in the list\n",
    "\n",
    "# Example\n",
    "\n",
    "def subint(number, number_list):\n",
    "    str_number = str(number)\n",
    "    indeces = []\n",
    "    for index in range(len(number_list)):\n",
    "        if str_number in str(number_list[index]):\n",
    "            indeces.append(index)\n",
    "    return indeces\n",
    "\n",
    "print(subint(1, [1, 11, 34, 52, 61]))\n",
    "# should print: `[0, 1, 4]`\n",
    "print(subint(9, [1, 11, 34, 52, 61]))\n",
    "# should print: '[]'"
   ]
  },
  {
   "cell_type": "markdown",
   "metadata": {},
   "source": [
    "## unique"
   ]
  },
  {
   "cell_type": "code",
   "execution_count": 19,
   "metadata": {},
   "outputs": [
    {
     "name": "stdout",
     "output_type": "stream",
     "text": [
      "[1, 34, 11, 52, 61]\n"
     ]
    }
   ],
   "source": [
    "#  Create a function that takes a list of numbers as a parameter\n",
    "#  Returns a list of numbers where every number in the list occurs only once\n",
    "\n",
    "def unique(arr):\n",
    "    arr = set(arr)\n",
    "    arr = list(arr)\n",
    "    return arr\n",
    "\n",
    "#  Example\n",
    "print(unique([1, 11, 34, 11, 52, 61, 1, 34]))\n",
    "#  should print: `[1, 11, 34, 52, 61]`\n",
    "\n"
   ]
  },
  {
   "cell_type": "markdown",
   "metadata": {},
   "source": [
    "## anagrm"
   ]
  },
  {
   "cell_type": "code",
   "execution_count": 26,
   "metadata": {},
   "outputs": [
    {
     "name": "stdout",
     "output_type": "stream",
     "text": [
      "True\n",
      "False\n"
     ]
    }
   ],
   "source": [
    "def anagrm(str1,str2):\n",
    "    dic_str1 = string_to_dic(str1)\n",
    "    dic_str2 = string_to_dic(str2)\n",
    "    \n",
    "    for k in dic_str1:\n",
    "        if k not in dic_str2 or not dic_str1[k] == dic_str2[k]:\n",
    "            return False\n",
    "        return True\n",
    "            \n",
    "def string_to_dic(str):\n",
    "    dic_str = {}\n",
    "    for c in str:\n",
    "        if c not in dic_str:\n",
    "            dic_str[c] = 1\n",
    "        else:\n",
    "            dic_str[c] += 1\n",
    "            \n",
    "    return dic_str\n",
    "\n",
    "print(anagrm(\"dog\",\"god\"))\n",
    "print(anagrm(\"aaaa\",\"bbbb\"))"
   ]
  },
  {
   "cell_type": "markdown",
   "metadata": {},
   "source": [
    "## Palindrome_builde"
   ]
  },
  {
   "cell_type": "code",
   "execution_count": 27,
   "metadata": {},
   "outputs": [
    {
     "name": "stdout",
     "output_type": "stream",
     "text": [
      "greenfoxxofneerg\n"
     ]
    }
   ],
   "source": [
    "def palindrome(str):\n",
    "    return str + str[::-1]\n",
    "\n",
    "print(palindrome(\"greenfox\"))"
   ]
  },
  {
   "cell_type": "markdown",
   "metadata": {},
   "source": [
    "## Palindrome_searcher"
   ]
  },
  {
   "cell_type": "code",
   "execution_count": 32,
   "metadata": {},
   "outputs": [
    {
     "name": "stdout",
     "output_type": "stream",
     "text": [
      "['g g', 'og go', 'dad', ' dad ', 'd d', 'eve', 'doo', ' dood']\n"
     ]
    }
   ],
   "source": [
    "def search_palindrome(str):\n",
    "    palindrome_list = []\n",
    "    for n in range(len(str)):\n",
    "        if n == 0 or n == len(str) - 1:\n",
    "            continue\n",
    "        else:\n",
    "            for i in range(min(n, len(str) - n - 1)):\n",
    "                if str[n + i + 1] == str[n - i - 1]:\n",
    "                    palindrome_list.append(str[n - i - 1 : n + i + 2])\n",
    "                    \n",
    "                else:\n",
    "                    break\n",
    "                    \n",
    "    if len(str) >= 4:\n",
    "        for n in range(1, len(str) - 3):\n",
    "            for i in range(min(n, len(str) - n - 2)):\n",
    "                if str[n - i] == str[n + i + 1]:\n",
    "                    palindrome_list.append(str[n - i - 1 : n + i + 2])\n",
    "                    \n",
    "                else:\n",
    "                    break\n",
    "                    \n",
    "    return palindrome_list\n",
    "    \n",
    "print(search_palindrome(\"dog goat dad duck doodle never\"))"
   ]
  },
  {
   "cell_type": "markdown",
   "metadata": {},
   "source": [
    "## bubble"
   ]
  },
  {
   "cell_type": "code",
   "execution_count": 35,
   "metadata": {},
   "outputs": [
    {
     "name": "stdout",
     "output_type": "stream",
     "text": [
      "[5, 9, 12, 24, 43]\n",
      "[43, 24, 12, 9, 5]\n"
     ]
    }
   ],
   "source": [
    "#  Create a function that takes a list of numbers as parameter\n",
    "#  Returns a list where the elements are sorted in ascending numerical order\n",
    "#  Make a second boolean parameter, if it's `True` sort that list descending\n",
    "\n",
    "\n",
    "def bubble(arr):\n",
    "    arr.sort()\n",
    "    return arr\n",
    "\n",
    "\n",
    "def advanced_bubble(arr, is_descending):\n",
    "    arr.sort(reverse = is_descending)\n",
    "    return arr\n",
    "\n",
    "\n",
    "#  Example:\n",
    "print(bubble([43, 12, 24, 9, 5]))\n",
    "#  should print [5, 9, 12, 24, 34]\n",
    "print(advanced_bubble([43, 12, 24, 9, 5], True))\n",
    "#  should print [34, 24, 9, 5]"
   ]
  },
  {
   "cell_type": "markdown",
   "metadata": {},
   "source": [
    "# <font color = blue> 2.Set introduction <font>"
   ]
  },
  {
   "cell_type": "code",
   "execution_count": 46,
   "metadata": {},
   "outputs": [
    {
     "name": "stdout",
     "output_type": "stream",
     "text": [
      "e\n",
      "g\n",
      "d\n",
      "f\n",
      "c\n",
      "<class 'set'>\n"
     ]
    },
    {
     "ename": "KeyError",
     "evalue": "42",
     "output_type": "error",
     "traceback": [
      "\u001b[1;31m---------------------------------------------------------------------------\u001b[0m",
      "\u001b[1;31mKeyError\u001b[0m                                  Traceback (most recent call last)",
      "\u001b[1;32m<ipython-input-46-bf68dd95a81f>\u001b[0m in \u001b[0;36m<module>\u001b[1;34m\u001b[0m\n\u001b[0;32m     25\u001b[0m     \u001b[0mfirst_set\u001b[0m\u001b[1;33m.\u001b[0m\u001b[0mremove\u001b[0m\u001b[1;33m(\u001b[0m\u001b[1;36m482\u001b[0m\u001b[1;33m)\u001b[0m\u001b[1;33m\u001b[0m\u001b[1;33m\u001b[0m\u001b[0m\n\u001b[0;32m     26\u001b[0m \u001b[1;33m\u001b[0m\u001b[0m\n\u001b[1;32m---> 27\u001b[1;33m \u001b[0mfirst_set\u001b[0m\u001b[1;33m.\u001b[0m\u001b[0mremove\u001b[0m\u001b[1;33m(\u001b[0m\u001b[1;36m42\u001b[0m\u001b[1;33m)\u001b[0m\u001b[1;33m\u001b[0m\u001b[1;33m\u001b[0m\u001b[0m\n\u001b[0m",
      "\u001b[1;31mKeyError\u001b[0m: 42"
     ]
    }
   ],
   "source": [
    "#creat a set\n",
    "\n",
    "first_set = set()\n",
    "\n",
    "#add mit members at the same time\n",
    "first_set.update(['g','f'])\n",
    "\n",
    "#add 5 members to the set\n",
    "first_set.add('a')\n",
    "first_set.add('b')\n",
    "first_set.add('c')\n",
    "first_set.add('d')\n",
    "first_set.add('e')\n",
    "\n",
    "#remove two elements from set\n",
    "first_set.remove('a')\n",
    "first_set.remove('b')\n",
    "\n",
    "#print its members\n",
    "for member in first_set:\n",
    "    print(member)\n",
    "print(type(first_set))\n",
    "\n",
    "if 482 in first_set:\n",
    "    first_set.remove(482)\n",
    "    \n",
    "first_set.remove(42)"
   ]
  },
  {
   "cell_type": "markdown",
   "metadata": {},
   "source": [
    "## What's in my bag"
   ]
  },
  {
   "cell_type": "code",
   "execution_count": 50,
   "metadata": {},
   "outputs": [
    {
     "name": "stdout",
     "output_type": "stream",
     "text": [
      "{'Sunglasses', 'Notebook'}\n",
      "{'Pen', 'Notebook'}\n",
      "{'Sunglasses'}\n"
     ]
    }
   ],
   "source": [
    "Oliver_bag = set([\"Laptop\", \"Notebook\", \"Pen\", \"Sunglasses\", \"Hand sanitizer\"])\n",
    "Ethan_bag = set([\"Sunglasses\", \"Notebook\", \"Phone\"])\n",
    "Mia_bag = set([\"Laptop\", \"Sunglasses\", \"Hand sanitizer\"])\n",
    "\n",
    "#What are the common items in Oliver's and Ethan's bag?\n",
    "print(Oliver_bag & Ethan_bag)\n",
    "#What are the items that in Oliver's bag but not in Mia's bag?\n",
    "print(Oliver_bag - Mia_bag)\n",
    "#What are the common items in Oliver's, Ethan's and Mia's bag?\n",
    "print(Oliver_bag & Ethan_bag & Mia_bag)"
   ]
  },
  {
   "cell_type": "markdown",
   "metadata": {},
   "source": [
    "## Unique with set"
   ]
  },
  {
   "cell_type": "code",
   "execution_count": 51,
   "metadata": {},
   "outputs": [
    {
     "name": "stdout",
     "output_type": "stream",
     "text": [
      "{'Enzo', 'Ethan', 'Lucas', 'Ava', 'Mia', 'Oliver', 'Amelia'}\n"
     ]
    }
   ],
   "source": [
    "#Create a list with the following names\n",
    "\n",
    "name_list = [\"Ava\", \"Oliver\", \"Ethan\" ,\"Amelia\", \"Oliver\", \"Mia\", \"Lucas\", \"Ava\", \"Ethan\", \"Enzo\"]\n",
    "\n",
    "name_set = set(name_list)\n",
    "print(name_set)"
   ]
  },
  {
   "cell_type": "markdown",
   "metadata": {},
   "source": [
    "# <font color = blue> 3.Tuple <font>\n",
    "Create a class named Product that stores:\n",
    "    \n",
    "    \n",
    "1. The name of a product\n",
    "2. The price of a product\n",
    "3. The discount of a product (given in percentage)\n",
    "\n",
    "\n",
    "Create a method named GetDiscount that returns the following tuple:\n",
    "\n",
    "\n",
    "1. The name of the product\n",
    "2. The oldPrice of the product\n",
    "3. The newPrice of the product which is based on the discount\n",
    "\n",
    "\n",
    "Test your solution in the Main method"
   ]
  },
  {
   "cell_type": "code",
   "execution_count": 53,
   "metadata": {},
   "outputs": [
    {
     "name": "stdout",
     "output_type": "stream",
     "text": [
      "('sunglasses', '100$', '50%')\n"
     ]
    }
   ],
   "source": [
    "class Product:\n",
    "    name = \"\"\n",
    "    price = \"\"\n",
    "    discount = \"\"\n",
    "    \n",
    "    def __init__(self, n, p, d):\n",
    "        self.name = n\n",
    "        self.price = p\n",
    "        self.discount = d\n",
    "        \n",
    "    def GetDisscount(self):\n",
    "        return (self.name, self.price, self.discount)\n",
    "    \n",
    "p = Product(\"sunglasses\", \"100$\", \"50%\")\n",
    "\n",
    "print(p.GetDisscount())\n"
   ]
  },
  {
   "cell_type": "markdown",
   "metadata": {},
   "source": [
    "## Buger Tuples\n",
    "\n",
    "Create a class named Order that stores\n",
    "\n",
    "\n",
    "1. The name of the burger\n",
    "2. How many times it has been ordered\n",
    "3. The price of the burger\n",
    "\n",
    "\n",
    "Create a method named GenerateOrders\n",
    "\n",
    "\n",
    "1. This method will return a List of Order\n",
    "2. Generate 100 orders\n",
    "3. Add the orders to the List\n",
    "\n",
    "\n",
    "Create a method named FindPopular that takes a List as a parameter\n",
    "\n",
    "\n",
    "The method should return with the following tuple:\n",
    "\n",
    "\n",
    "1. The name of the most ordered burger\n",
    "2. How many times it has been ordered\n",
    "3. The amount of income\n",
    "\n",
    "\n",
    "Test your solution in the Main method"
   ]
  },
  {
   "cell_type": "code",
   "execution_count": null,
   "metadata": {},
   "outputs": [],
   "source": [
    "class Order:\n",
    "    name_burger = \"\"\n",
    "    burger_times = 0\n",
    "    burger_price = \"\""
   ]
  }
 ],
 "metadata": {
  "kernelspec": {
   "display_name": "Python 3",
   "language": "python",
   "name": "python3"
  },
  "language_info": {
   "codemirror_mode": {
    "name": "ipython",
    "version": 3
   },
   "file_extension": ".py",
   "mimetype": "text/x-python",
   "name": "python",
   "nbconvert_exporter": "python",
   "pygments_lexer": "ipython3",
   "version": "3.7.3"
  }
 },
 "nbformat": 4,
 "nbformat_minor": 2
}
