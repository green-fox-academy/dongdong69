{
 "cells": [
  {
   "cell_type": "markdown",
   "metadata": {},
   "source": [
    "# <font color = blue> 1.Funuctions <font>"
   ]
  },
  {
   "cell_type": "markdown",
   "metadata": {},
   "source": [
    "## doubling"
   ]
  },
  {
   "cell_type": "code",
   "execution_count": 1,
   "metadata": {},
   "outputs": [
    {
     "name": "stdout",
     "output_type": "stream",
     "text": [
      "246\n"
     ]
    }
   ],
   "source": [
    "# - Create a variable named `base_num` and assign the value `123` to it\n",
    "# - Create a function called `doubling` that doubles it's input parameter and returns with an integer\n",
    "# - Print the result of `doubling(base_num)`\n",
    "\n",
    "base_num = 123\n",
    "def doubling(number):\n",
    "    return 2*base_num\n",
    "\n",
    "print(doubling(base_num))"
   ]
  },
  {
   "cell_type": "markdown",
   "metadata": {},
   "source": [
    "## greet"
   ]
  },
  {
   "cell_type": "code",
   "execution_count": 2,
   "metadata": {},
   "outputs": [
    {
     "name": "stdout",
     "output_type": "stream",
     "text": [
      "Greeting, dear Greenfox\n"
     ]
    }
   ],
   "source": [
    "# - Create variable named `al` and assign the value `Greenfox` to it\n",
    "# - Create a function called `greet` that greets it's input parameter\n",
    "#     - Greeting is printing e.g. `Greetings, dear Greenfox`\n",
    "# - Greet `al`\n",
    "\n",
    "al = \"Greenfox\"\n",
    "\n",
    "def greet(name):\n",
    "    print(\"Greeting, dear \" + name)\n",
    "    \n",
    "greet(al)"
   ]
  },
  {
   "cell_type": "markdown",
   "metadata": {},
   "source": [
    "# append_a_func"
   ]
  },
  {
   "cell_type": "code",
   "execution_count": 4,
   "metadata": {},
   "outputs": [
    {
     "name": "stdout",
     "output_type": "stream",
     "text": [
      "Chinchilla\n"
     ]
    }
   ],
   "source": [
    "# - Create a variable named `typo` and assign the value `Chinchill` to it\n",
    "# - Write a function called `append_a_func` that gets a string as an input,\n",
    "#   appends an 'a' character to its end and returns with a string\n",
    "# - Print the result of `append_a_func(typo)\n",
    "\n",
    "typo = \"Chinchill\"\n",
    "\n",
    "def appen_a_func(t):\n",
    "    return t + \"a\"\n",
    "\n",
    "print(appen_a_func(typo))"
   ]
  },
  {
   "cell_type": "markdown",
   "metadata": {},
   "source": [
    "## Sum"
   ]
  },
  {
   "cell_type": "code",
   "execution_count": 9,
   "metadata": {},
   "outputs": [
    {
     "name": "stdout",
     "output_type": "stream",
     "text": [
      "Please input a number:2\n",
      "3\n"
     ]
    }
   ],
   "source": [
    "# Write a function called `sum` that returns the sum of numbers from zero to the given parameter\n",
    "your_number = int(input(\"Please input a number:\"))\n",
    "\n",
    "def sum(number):\n",
    "    sum_number = 0\n",
    "    for n in range(number + 1):\n",
    "        sum_number += n\n",
    "    return sum_number\n",
    "\n",
    "print(sum(your_number))"
   ]
  },
  {
   "cell_type": "markdown",
   "metadata": {},
   "source": [
    "## factorio"
   ]
  },
  {
   "cell_type": "code",
   "execution_count": 11,
   "metadata": {},
   "outputs": [
    {
     "name": "stdout",
     "output_type": "stream",
     "text": [
      "Please input a number:3\n",
      "6\n"
     ]
    }
   ],
   "source": [
    "# - Create a function called `factorio`\n",
    "#   that returns it's input's factorial\n",
    "\n",
    "your_number = int(input(\"Please input a number:\"))\n",
    "\n",
    "def factorio(number):\n",
    "    factorial = 1\n",
    "    for n in range(1, number + 1):\n",
    "        factorial *= n\n",
    "    return factorial\n",
    "\n",
    "print(factorio(your_number))"
   ]
  },
  {
   "cell_type": "markdown",
   "metadata": {},
   "source": [
    "## print_params"
   ]
  },
  {
   "cell_type": "code",
   "execution_count": 12,
   "metadata": {},
   "outputs": [
    {
     "name": "stdout",
     "output_type": "stream",
     "text": [
      "asd\n",
      "3\n",
      "4\n"
     ]
    }
   ],
   "source": [
    "# - Create a function called `print_params`\n",
    "#   which prints the input parameters\n",
    "#   (can have multiple number of arguments)\n",
    "\n",
    "def print_params(*rest):\n",
    "    for item in rest:\n",
    "        print(item)\n",
    "        \n",
    "print_params(\"asd\",3,4)"
   ]
  },
  {
   "cell_type": "markdown",
   "metadata": {},
   "source": [
    "## subint"
   ]
  },
  {
   "cell_type": "code",
   "execution_count": 15,
   "metadata": {},
   "outputs": [
    {
     "name": "stdout",
     "output_type": "stream",
     "text": [
      "[0, 1, 4]\n",
      "[]\n"
     ]
    }
   ],
   "source": [
    "#  Create a function that takes a number and a list of numbers as a parameter\n",
    "#  Returns the indeces of the numbers in the list where the first number is part of\n",
    "#  Or returns an empty list if the number is not part of any of the numbers in the list\n",
    "\n",
    "# Example\n",
    "\n",
    "def subint(number, number_list):\n",
    "    str_number = str(number)\n",
    "    indeces = []\n",
    "    for index in range(len(number_list)):\n",
    "        if str_number in str(number_list[index]):\n",
    "            indeces.append(index)\n",
    "    return indeces\n",
    "\n",
    "print(subint(1, [1, 11, 34, 52, 61]))\n",
    "# should print: `[0, 1, 4]`\n",
    "print(subint(9, [1, 11, 34, 52, 61]))\n",
    "# should print: '[]'"
   ]
  },
  {
   "cell_type": "markdown",
   "metadata": {},
   "source": [
    "## unique"
   ]
  },
  {
   "cell_type": "code",
   "execution_count": 19,
   "metadata": {},
   "outputs": [
    {
     "name": "stdout",
     "output_type": "stream",
     "text": [
      "[1, 34, 11, 52, 61]\n"
     ]
    }
   ],
   "source": [
    "#  Create a function that takes a list of numbers as a parameter\n",
    "#  Returns a list of numbers where every number in the list occurs only once\n",
    "\n",
    "def unique(arr):\n",
    "    arr = set(arr)\n",
    "    arr = list(arr)\n",
    "    return arr\n",
    "\n",
    "#  Example\n",
    "print(unique([1, 11, 34, 11, 52, 61, 1, 34]))\n",
    "#  should print: `[1, 11, 34, 52, 61]`\n",
    "\n"
   ]
  },
  {
   "cell_type": "markdown",
   "metadata": {},
   "source": [
    "## anagrm"
   ]
  },
  {
   "cell_type": "code",
   "execution_count": 26,
   "metadata": {},
   "outputs": [
    {
     "name": "stdout",
     "output_type": "stream",
     "text": [
      "True\n",
      "False\n"
     ]
    }
   ],
   "source": [
    "def anagrm(str1,str2):\n",
    "    dic_str1 = string_to_dic(str1)\n",
    "    dic_str2 = string_to_dic(str2)\n",
    "    \n",
    "    for k in dic_str1:\n",
    "        if k not in dic_str2 or not dic_str1[k] == dic_str2[k]:\n",
    "            return False\n",
    "        return True\n",
    "            \n",
    "def string_to_dic(str):\n",
    "    dic_str = {}\n",
    "    for c in str:\n",
    "        if c not in dic_str:\n",
    "            dic_str[c] = 1\n",
    "        else:\n",
    "            dic_str[c] += 1\n",
    "            \n",
    "    return dic_str\n",
    "\n",
    "print(anagrm(\"dog\",\"god\"))\n",
    "print(anagrm(\"aaaa\",\"bbbb\"))"
   ]
  },
  {
   "cell_type": "markdown",
   "metadata": {},
   "source": [
    "## Palindrome_builde"
   ]
  },
  {
   "cell_type": "code",
   "execution_count": 27,
   "metadata": {},
   "outputs": [
    {
     "name": "stdout",
     "output_type": "stream",
     "text": [
      "greenfoxxofneerg\n"
     ]
    }
   ],
   "source": [
    "def palindrome(str):\n",
    "    return str + str[::-1]\n",
    "\n",
    "print(palindrome(\"greenfox\"))"
   ]
  },
  {
   "cell_type": "code",
   "execution_count": null,
   "metadata": {},
   "outputs": [],
   "source": []
  }
 ],
 "metadata": {
  "kernelspec": {
   "display_name": "Python 3",
   "language": "python",
   "name": "python3"
  },
  "language_info": {
   "codemirror_mode": {
    "name": "ipython",
    "version": 3
   },
   "file_extension": ".py",
   "mimetype": "text/x-python",
   "name": "python",
   "nbconvert_exporter": "python",
   "pygments_lexer": "ipython3",
   "version": "3.7.3"
  }
 },
 "nbformat": 4,
 "nbformat_minor": 2
}
