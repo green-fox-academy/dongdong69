{
 "cells": [
  {
   "cell_type": "markdown",
   "metadata": {},
   "source": [
    "# <font color=blue> Regular expressions"
   ]
  },
  {
   "cell_type": "markdown",
   "metadata": {},
   "source": [
    "## Reserved admin"
   ]
  },
  {
   "cell_type": "code",
   "execution_count": 1,
   "metadata": {},
   "outputs": [],
   "source": [
    "import re"
   ]
  },
  {
   "cell_type": "code",
   "execution_count": 2,
   "metadata": {},
   "outputs": [
    {
     "name": "stdout",
     "output_type": "stream",
     "text": [
      "Please input a string: Admin\n",
      "Yes!\n"
     ]
    }
   ],
   "source": [
    "input_sen = input(\"Please input a string: \")\n",
    "\n",
    "if(re.match(\"(Admin|admin)\", input_sen)):\n",
    "    print(\"Yes!\")\n",
    "else:\n",
    "    print(\"No!\")"
   ]
  },
  {
   "cell_type": "markdown",
   "metadata": {},
   "source": [
    "## Numbers below 100"
   ]
  },
  {
   "cell_type": "code",
   "execution_count": 2,
   "metadata": {},
   "outputs": [
    {
     "name": "stdout",
     "output_type": "stream",
     "text": [
      "Please input a number: 12312\n",
      "No!\n"
     ]
    }
   ],
   "source": [
    "input_number = input(\"Please input a number: \")\n",
    "\n",
    "if(re.match(\"(^[0-9]$|^[0-9]{2}$|100)\", input_number)):\n",
    "    print(\"Yes!\")\n",
    "else:\n",
    "    print(\"No!\")"
   ]
  },
  {
   "cell_type": "markdown",
   "metadata": {},
   "source": [
    "## Hungarian mobile numbers"
   ]
  },
  {
   "cell_type": "code",
   "execution_count": 9,
   "metadata": {},
   "outputs": [
    {
     "name": "stdout",
     "output_type": "stream",
     "text": [
      "Please input a mobile number: +49 20 483 1273\n",
      "No!\n"
     ]
    }
   ],
   "source": [
    "input_number = input(\"Please input a mobile number: \")\n",
    "\n",
    "if(re.match(\"^(\\+36|00\\s36)\\s\\d{2}\\s\\d{3}\\s\\d{4}$\", input_number)):\n",
    "    print(\"Yes!\")\n",
    "else:\n",
    "    print(\"No!\")"
   ]
  },
  {
   "cell_type": "markdown",
   "metadata": {},
   "source": [
    "## GFA email address"
   ]
  },
  {
   "cell_type": "code",
   "execution_count": 3,
   "metadata": {},
   "outputs": [
    {
     "name": "stdout",
     "output_type": "stream",
     "text": [
      "Please input a mobile number: john@wick.com\n",
      "No!\n"
     ]
    }
   ],
   "source": [
    "input_number = input(\"Please input a email address: \")\n",
    "\n",
    "if(re.match(\"^([A-Za-z]+)\\@(greenfoxacademy\\.com|greenfox\\.academy)$\", input_number)):\n",
    "    print(\"Yes!\")\n",
    "else:\n",
    "    print(\"No!\")"
   ]
  },
  {
   "cell_type": "markdown",
   "metadata": {},
   "source": [
    "## Mobile numbers\n",
    "\n",
    "Create a regular expression that matches any other country's mobile numbers than Hungary."
   ]
  },
  {
   "cell_type": "code",
   "execution_count": 5,
   "metadata": {},
   "outputs": [
    {
     "name": "stdout",
     "output_type": "stream",
     "text": [
      "Please input a mobile number: +61 4 1463 5565\n",
      "Yes!\n"
     ]
    }
   ],
   "source": [
    "##Australia mobile numbers\n",
    "\n",
    "input_number = input(\"Please input a mobile number: \")\n",
    "\n",
    "if(re.match(\"^(\\+61|0)\\s4\\s\\d{4}\\s\\d{4}$\", input_number)):\n",
    "    print(\"Yes!\")\n",
    "else:\n",
    "    print(\"No!\")"
   ]
  },
  {
   "cell_type": "markdown",
   "metadata": {},
   "source": [
    "## Image source"
   ]
  },
  {
   "cell_type": "code",
   "execution_count": 15,
   "metadata": {},
   "outputs": [
    {
     "name": "stdout",
     "output_type": "stream",
     "text": [
      "Please input a str: <script src=\"jquery.js\"></script>\n",
      "No!\n"
     ]
    }
   ],
   "source": [
    "input_number = input(\"Please input a str: \")\n",
    "\n",
    "if(re.match(\"^\\<img\\s(?:alt\\=\\\"[^\\\"]+\\\"\\s)?src\\=\\\"([^\\\"]+)\\\"\\>$\", input_number)):\n",
    "    print(\"Yes!\")\n",
    "else:\n",
    "    print(\"No!\")"
   ]
  },
  {
   "cell_type": "markdown",
   "metadata": {},
   "source": [
    "## For Testing"
   ]
  },
  {
   "cell_type": "code",
   "execution_count": 8,
   "metadata": {},
   "outputs": [
    {
     "name": "stdout",
     "output_type": "stream",
     "text": [
      "<re.Match object; span=(4, 9), match='hello'>\n"
     ]
    }
   ],
   "source": [
    "p = re.search(\"hello\", \"kjhghellowddd\")\n",
    "print(p)"
   ]
  },
  {
   "cell_type": "code",
   "execution_count": 21,
   "metadata": {},
   "outputs": [
    {
     "data": {
      "text/plain": [
       "(4, 9)"
      ]
     },
     "execution_count": 21,
     "metadata": {},
     "output_type": "execute_result"
    }
   ],
   "source": [
    "p.span()"
   ]
  },
  {
   "cell_type": "code",
   "execution_count": 25,
   "metadata": {},
   "outputs": [
    {
     "name": "stdout",
     "output_type": "stream",
     "text": [
      "<re.Match object; span=(0, 7), match=' ection'>\n"
     ]
    }
   ],
   "source": [
    "print(re.match(r'\\\\wsection', ' ection'))"
   ]
  },
  {
   "cell_type": "code",
   "execution_count": 24,
   "metadata": {},
   "outputs": [
    {
     "name": "stdout",
     "output_type": "stream",
     "text": [
      "<re.Match object; span=(0, 2), match='ab'>\n"
     ]
    }
   ],
   "source": [
    "print(re.search('(ab)', 'abcdhhhdhh abcooo'))"
   ]
  },
  {
   "cell_type": "code",
   "execution_count": 30,
   "metadata": {},
   "outputs": [
    {
     "name": "stdout",
     "output_type": "stream",
     "text": [
      "Please input a str: <img alt=\"Cat picture\" src=\"./images/cat-01.png\">\n"
     ]
    }
   ],
   "source": [
    "input_number = input(\"Please input a str: \")\n",
    "\n",
    "m = re.match(\"^\\<img\\s(?:alt\\=\\\"[^\\\"]+\\\"\\s)?src\\=\\\"([^\\\"]+)\\\"\\>$\", input_number)"
   ]
  },
  {
   "cell_type": "code",
   "execution_count": 31,
   "metadata": {},
   "outputs": [
    {
     "data": {
      "text/plain": [
       "('./images/cat-01.png',)"
      ]
     },
     "execution_count": 31,
     "metadata": {},
     "output_type": "execute_result"
    }
   ],
   "source": [
    "m.groups()"
   ]
  }
 ],
 "metadata": {
  "kernelspec": {
   "display_name": "Python 3",
   "language": "python",
   "name": "python3"
  },
  "language_info": {
   "codemirror_mode": {
    "name": "ipython",
    "version": 3
   },
   "file_extension": ".py",
   "mimetype": "text/x-python",
   "name": "python",
   "nbconvert_exporter": "python",
   "pygments_lexer": "ipython3",
   "version": "3.7.0"
  }
 },
 "nbformat": 4,
 "nbformat_minor": 2
}
