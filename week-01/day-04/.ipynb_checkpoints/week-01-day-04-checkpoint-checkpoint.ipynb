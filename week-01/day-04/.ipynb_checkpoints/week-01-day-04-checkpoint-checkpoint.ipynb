{
 "cells": [
  {
   "cell_type": "markdown",
   "metadata": {},
   "source": [
    "# <font color=blue> Regular expressions"
   ]
  },
  {
   "cell_type": "markdown",
   "metadata": {},
   "source": [
    "## Reserved admin"
   ]
  },
  {
   "cell_type": "code",
   "execution_count": 1,
   "metadata": {},
   "outputs": [
    {
     "name": "stdout",
     "output_type": "stream",
     "text": [
      "Please input a string: admin\n",
      "Yes!\n"
     ]
    }
   ],
   "source": [
    "import re\n",
    "\n",
    "input_sen = input(\"Please input a string: \")\n",
    "\n",
    "if(re.match(\"(Admin|admin)\", input_sen)):\n",
    "    print(\"Yes!\")\n",
    "else:\n",
    "    print(\"No!\")"
   ]
  },
  {
   "cell_type": "markdown",
   "metadata": {},
   "source": [
    "## Numbers below 100"
   ]
  },
  {
   "cell_type": "code",
   "execution_count": 2,
   "metadata": {},
   "outputs": [
    {
     "name": "stdout",
     "output_type": "stream",
     "text": [
      "Please input a number: 12312\n",
      "No!\n"
     ]
    }
   ],
   "source": [
    "input_number = input(\"Please input a number: \")\n",
    "\n",
    "if(re.match(\"(^[0-9]$|^[0-9]{2}$|100)\", input_number)):\n",
    "    print(\"Yes!\")\n",
    "else:\n",
    "    print(\"No!\")"
   ]
  },
  {
   "cell_type": "markdown",
   "metadata": {},
   "source": [
    "## Hungarian mobile numbers"
   ]
  },
  {
   "cell_type": "code",
   "execution_count": 9,
   "metadata": {},
   "outputs": [
    {
     "name": "stdout",
     "output_type": "stream",
     "text": [
      "Please input a mobile number: +49 20 483 1273\n",
      "No!\n"
     ]
    }
   ],
   "source": [
    "input_number = input(\"Please input a mobile number: \")\n",
    "\n",
    "if(re.match(\"^(\\+36|00\\s36)\\s\\d{2}\\s\\d{3}\\s\\d{4}$\", input_number)):\n",
    "    print(\"Yes!\")\n",
    "else:\n",
    "    print(\"No!\")"
   ]
  },
  {
   "cell_type": "markdown",
   "metadata": {},
   "source": [
    "## GFA email address"
   ]
  },
  {
   "cell_type": "code",
   "execution_count": 3,
   "metadata": {},
   "outputs": [
    {
     "name": "stdout",
     "output_type": "stream",
     "text": [
      "Please input a mobile number: john@wick.com\n",
      "No!\n"
     ]
    }
   ],
   "source": [
    "input_number = input(\"Please input a email address: \")\n",
    "\n",
    "if(re.match(\"^([A-Za-z]+)\\@(greenfoxacademy\\.com|greenfox\\.academy)$\", input_number)):\n",
    "    print(\"Yes!\")\n",
    "else:\n",
    "    print(\"No!\")"
   ]
  },
  {
   "cell_type": "markdown",
   "metadata": {},
   "source": [
    "## Mobile numbers\n",
    "\n",
    "Create a regular expression that matches any other country's mobile numbers than Hungary."
   ]
  },
  {
   "cell_type": "code",
   "execution_count": 5,
   "metadata": {},
   "outputs": [
    {
     "name": "stdout",
     "output_type": "stream",
     "text": [
      "Please input a mobile number: +61 4 1463 5565\n",
      "Yes!\n"
     ]
    }
   ],
   "source": [
    "##Australia mobile numbers\n",
    "\n",
    "input_number = input(\"Please input a mobile number: \")\n",
    "\n",
    "if(re.match(\"^(\\+61|0)\\s4\\s\\d{4}\\s\\d{4}$\", input_number)):\n",
    "    print(\"Yes!\")\n",
    "else:\n",
    "    print(\"No!\")"
   ]
  },
  {
   "cell_type": "markdown",
   "metadata": {},
   "source": [
    "## Image source"
   ]
  },
  {
   "cell_type": "code",
   "execution_count": 15,
   "metadata": {},
   "outputs": [
    {
     "name": "stdout",
     "output_type": "stream",
     "text": [
      "Please input a str: <script src=\"jquery.js\"></script>\n",
      "No!\n"
     ]
    }
   ],
   "source": [
    "input_number = input(\"Please input a str: \")\n",
    "\n",
    "if(re.match(\"^\\<img\\s(?:alt\\=\\\"[^\\\"]+\\\"\\s)?src\\=\\\"([^\\\"]+)\\\"\\>$\", input_number)):\n",
    "    print(\"Yes!\")\n",
    "else:\n",
    "    print(\"No!\")"
   ]
  },
  {
   "cell_type": "markdown",
   "metadata": {},
   "source": [
    "## for testing"
   ]
  },
  {
   "cell_type": "code",
   "execution_count": null,
   "metadata": {},
   "outputs": [],
   "source": []
  }
 ],
 "metadata": {
  "kernelspec": {
   "display_name": "Python 3",
   "language": "python",
   "name": "python3"
  },
  "language_info": {
   "codemirror_mode": {
    "name": "ipython",
    "version": 3
   },
   "file_extension": ".py",
   "mimetype": "text/x-python",
   "name": "python",
   "nbconvert_exporter": "python",
   "pygments_lexer": "ipython3",
   "version": "3.7.0"
  }
 },
 "nbformat": 4,
 "nbformat_minor": 2
}
