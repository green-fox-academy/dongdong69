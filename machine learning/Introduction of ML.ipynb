{
 "cells": [
  {
   "cell_type": "markdown",
   "metadata": {},
   "source": [
    "## What is ML?\n",
    "---\n",
    "A computer program learn from experience(dataset). And, the proformace is improved with experience."
   ]
  },
  {
   "cell_type": "markdown",
   "metadata": {},
   "source": [
    "## What is the different between ML and DL?\n",
    "---\n",
    "Deep learning is a method of muchine learning. It is based on neural networks. But compare with the traditional ones, it has much more layers."
   ]
  },
  {
   "cell_type": "markdown",
   "metadata": {},
   "source": [
    "## How do we commonly categorize ML methods?\n",
    "---\n",
    "- Supervised, unsupervised and reinforcement learning.\n",
    "- traditional and deep learning."
   ]
  },
  {
   "cell_type": "markdown",
   "metadata": {},
   "source": [
    "# Reinforcement learning"
   ]
  },
  {
   "cell_type": "code",
   "execution_count": 5,
   "metadata": {},
   "outputs": [
    {
     "data": {
      "image/png": "[encoded data removed]",
      "text/plain": [
       "<Figure size 432x288 with 1 Axes>"
      ]
     },
     "metadata": {},
     "output_type": "display_data"
    },
    {
     "name": "stdout",
     "output_type": "stream",
     "text": [
      "[3.999999999999999, 4.8999999999999995, 5.8, 6.7, 7.6000000000000005]\n"
     ]
    }
   ],
   "source": [
    "from statistics import mean\n",
    "import numpy as np\n",
    "import matplotlib.pyplot as plt\n",
    "\n",
    "exes = np.array([2,4,6,8,10], dtype=np.float64)\n",
    "eyes = np.array([3,6,7,5,8], dtype=np.float64)\n",
    "\n",
    "plt.scatter(exes,eyes)\n",
    "\n",
    "\n",
    "def slope_w_inter(x,y):\n",
    "    m = (((mean(x)*mean(y)) - mean(x*y)) /\n",
    "         ((mean(x)*mean(x)) - mean(x*x)))\n",
    "    b = mean(y) - m*mean(x)\n",
    "    return m, b\n",
    "\n",
    "m, b = slope_w_inter(exes,eyes)\n",
    "\n",
    "line = [(m*x)+b for x in exes]\n",
    "\n",
    "\n",
    "#Predicting\n",
    "\n",
    "new_x = 9\n",
    "new_y = (m*new_x)+b\n",
    "\n",
    "plt.plot(exes, line)\n",
    "plt.show()\n",
    "\n",
    "print(line)"
   ]
  }
 ],
 "metadata": {
  "kernelspec": {
   "display_name": "Python 3",
   "language": "python",
   "name": "python3"
  },
  "language_info": {
   "codemirror_mode": {
    "name": "ipython",
    "version": 3
   },
   "file_extension": ".py",
   "mimetype": "text/x-python",
   "name": "python",
   "nbconvert_exporter": "python",
   "pygments_lexer": "ipython3",
   "version": "3.6.1"
  }
 },
 "nbformat": 4,
 "nbformat_minor": 2
}
