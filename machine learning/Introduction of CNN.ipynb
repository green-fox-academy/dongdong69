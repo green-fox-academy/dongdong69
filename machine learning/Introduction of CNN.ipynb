{
 "cells": [
  {
   "cell_type": "markdown",
   "metadata": {},
   "source": [
    "# CNN(Convolutional neural network)\n",
    "---\n",
    "**主要是由3种模块构成：**\n",
    "- 卷积层\n",
    "- 采样层\n",
    "- 全连接层\n",
    "![avatar](cnn.jpg)\n",
    "\n",
    "**大致可以理解为：**\n",
    "- 卷积层提取特征\n",
    "- 采样层选择特征\n",
    "- 全连接层根据得到的特征进行分类\n"
   ]
  },
  {
   "cell_type": "markdown",
   "metadata": {},
   "source": [
    "## 卷积(convolution)\n",
    "---\n",
    "---\n",
    "\n",
    "**卷积** : 翻转，加权求和。\n",
    "<br />\n",
    "系统某一时刻的输出是由多个输入共同作用（叠加）的结果。\n",
    "$$ (f * g)(n) = \\sum_{\\tau=-\\infty}^{\\infty} f(\\tau)g(n - \\tau) $$\n",
    "输入一幅图像f(x,y)，经过特定设计的卷积核g(x,y)进行卷积处理以后，输出图像将会得到模糊，边缘强化等各种效果"
   ]
  },
  {
   "cell_type": "code",
   "execution_count": null,
   "metadata": {},
   "outputs": [],
   "source": []
  }
 ],
 "metadata": {
  "kernelspec": {
   "display_name": "Python 3",
   "language": "python",
   "name": "python3"
  },
  "language_info": {
   "codemirror_mode": {
    "name": "ipython",
    "version": 3
   },
   "file_extension": ".py",
   "mimetype": "text/x-python",
   "name": "python",
   "nbconvert_exporter": "python",
   "pygments_lexer": "ipython3",
   "version": "3.7.0"
  }
 },
 "nbformat": 4,
 "nbformat_minor": 2
}
