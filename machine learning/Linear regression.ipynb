{
 "cells": [
  {
   "cell_type": "markdown",
   "metadata": {},
   "source": [
    "# Multiple linear regression\n",
    "---\n",
    "在多元线性回归中，我们寻找一个可以匹配输入数据到结果的方法。每一个输入数据都是一个具有$m$个特征的*特征向量* $\\vec{x} = \\left(x_1, x_2, \\cdots, x_m\\right)$。我们用矩阵$X$来表示所有的输入数据，矩阵中的每一行为一个数据记录，一共有$n$条记录。向量$\\vec{y}$为我们的预测值，他们的表示如下。\n",
    "$$\n",
    "    X = \\left[\n",
    "    \\begin{matrix}\n",
    "    1 & x_{1,1} & x_{1,2} & \\cdots & x_{1,m}\\\\\n",
    "    1 & x_{2,1} & x_{2,2} & \\cdots & x_{2,m}\\\\\n",
    "    1 & \\vdots & \\vdots & \\ddots & \\vdots\\\\\n",
    "    1 & x_{n,1} & x_{n,2} & \\cdots & x_{n,m}\\\\\n",
    "    \\end{matrix}\n",
    "    \\right]\n",
    "$$\n",
    "\n",
    "$$\n",
    "    \\vec{y} = \\left[\n",
    "    \\begin{matrix}\n",
    "    y_1\\\\\n",
    "    y_2\\\\\n",
    "    \\vdots\\\\\n",
    "    y_n\\\\\n",
    "    \\end{matrix}\n",
    "    \\right]\n",
    "$$\n",
    "第i条数据记录表示为：\n",
    "$$\n",
    "    x_i = \n",
    "    \\left[\n",
    "    \\begin{matrix}\n",
    "    1 & x_{i,1} & x_{i,2} & \\cdots & x_{i,m}\\\\\n",
    "    \\end{matrix}\n",
    "    \\right]\n",
    "$$\n",
    "\n",
    "我们寻找一个向量$\\hat{\\beta}$使得$X\\hat{\\beta}$尽可能的靠近${y}$。${y}$为我们的真实值。\n",
    "$$\n",
    "    \\hat{\\beta} = \\left[\n",
    "    \\begin{matrix}\n",
    "    \\beta_0\\\\\n",
    "    \\beta_1\\\\\n",
    "    \\vdots\\\\\n",
    "    \\beta_m\\\\\n",
    "    \\end{matrix}\n",
    "    \\right]\n",
    "$$\n",
    "$$\\hat{y} = x \\cdot \\hat{\\beta} = \\beta_0 + \\beta_1x_1 + \\beta_1x_1 + \\cdots + \\beta_mx_m$$\n",
    "在最小二乘线性回归模型中，其损失函数为：\n",
    "$$cost = \\sum_{i=1}^{n}({y_i} - \\hat{y_i})^2 =\\sum_{i=1}^{n}({y_i} - x_i\\hat{\\beta})^2 $$\n",
    "当损失函数最小时，我们就找到了$\\vec{\\beta}$。\n",
    "已知$({y_i} - x_i\\hat{\\beta})^2$为凸函数，多个凸函数之和，任然为凸函数。\n",
    "那么我们只需令损失函数求对$\\hat{\\beta}$， 倒数为零时，我们有最小值。\n",
    "$$cost = ||y - X\\hat{\\beta}|| = (y - X\\hat{\\beta})^T(y - X\\hat{\\beta})$$\n",
    "$$\\frac {\\sigma cost}{\\sigma \\hat{\\beta}} = 2()$$\n"
   ]
  },
  {
   "cell_type": "code",
   "execution_count": null,
   "metadata": {},
   "outputs": [],
   "source": []
  }
 ],
 "metadata": {
  "kernelspec": {
   "display_name": "Python 3",
   "language": "python",
   "name": "python3"
  },
  "language_info": {
   "codemirror_mode": {
    "name": "ipython",
    "version": 3
   },
   "file_extension": ".py",
   "mimetype": "text/x-python",
   "name": "python",
   "nbconvert_exporter": "python",
   "pygments_lexer": "ipython3",
   "version": "3.7.0"
  }
 },
 "nbformat": 4,
 "nbformat_minor": 2
}
