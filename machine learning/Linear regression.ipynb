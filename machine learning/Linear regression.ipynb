{
 "cells": [
  {
   "cell_type": "markdown",
   "metadata": {},
   "source": [
    "# Multiple linear regression\n",
    "---\n",
    "在多元线性回归中，我们寻找一个可以匹配输入数据到结果的方法。每一个输入数据都是一个具有$m$个特征的*特征向量* $\\vec{x} = \\left(x_1, x_2, \\cdots, x_m\\right)$。我们用矩阵$X$来表示所有的输入数据，矩阵中的每一行为一个数据记录，一共有$n$条记录。向量$\\vec{y}$为我们的预测值，他们的表示如下。\n",
    "$$\n",
    "    X = \\left[\n",
    "    \\begin{matrix}\n",
    "    1 & x_{1,1} & x_{1,2} & \\cdots & x_{1,m}\\\\\n",
    "    1 & x_{2,1} & x_{2,2} & \\cdots & x_{2,m}\\\\\n",
    "    1 & \\vdots & \\vdots & \\ddots & \\vdots\\\\\n",
    "    1 & x_{n,1} & x_{n,2} & \\cdots & x_{n,m}\\\\\n",
    "    \\end{matrix}\n",
    "    \\right]\n",
    "$$\n",
    "<br />\n",
    "<br />\n",
    "$$\n",
    "    \\vec{y} = \\left[\n",
    "    \\begin{matrix}\n",
    "    y_1\\\\\n",
    "    y_2\\\\\n",
    "    \\vdots\\\\\n",
    "    y_n\\\\\n",
    "    \\end{matrix}\n",
    "    \\right]\n",
    "$$\n",
    "第i条数据记录表示为：\n",
    "<br />\n",
    "$$\n",
    "    x_i = \n",
    "    \\left[\n",
    "    \\begin{matrix}\n",
    "    1 & x_{i,1} & x_{i,2} & \\cdots & x_{i,m}\\\\\n",
    "    \\end{matrix}\n",
    "    \\right]\n",
    "$$\n",
    "\n",
    "我们寻找一个向量$\\hat{\\beta}$使得$X\\hat{\\beta}$尽可能的靠近${y}$。${y}$为我们的真实值。\n",
    "<br />\n",
    "$$\n",
    "    \\hat{\\beta} = \\left[\n",
    "    \\begin{matrix}\n",
    "    \\beta_0\\\\\n",
    "    \\beta_1\\\\\n",
    "    \\vdots\\\\\n",
    "    \\beta_m\\\\\n",
    "    \\end{matrix}\n",
    "    \\right]\n",
    "$$\n",
    "<br />\n",
    "<br />\n",
    "$$\\hat{y} = x \\cdot \\hat{\\beta} = \\beta_0 + \\beta_1x_1 + \\beta_1x_1 + \\cdots + \\beta_mx_m$$\n",
    "在最小二乘线性回归模型中，其损失函数为：\n",
    "$$cost = \\sum_{i=1}^{n}({y_i} - \\hat{y_i})^2 =\\sum_{i=1}^{n}({y_i} - x_i\\hat{\\beta})^2 $$\n",
    "<br />\n",
    "<br />\n",
    "当损失函数最小时，我们就找到了$\\vec{\\beta}$。\n",
    "已知$({y_i} - x_i\\hat{\\beta})^2$为凸函数，多个凸函数之和，任然为凸函数。\n",
    "那么我们只需令损失函数求对$\\hat{\\beta}$， 倒数为零时，我们有最小值。\n",
    "$$cost = ||y - X\\hat{\\beta}|| = (y - X\\hat{\\beta})^T(y - X\\hat{\\beta})$$\n",
    "<br />\n",
    "<br />\n",
    "求导：\n",
    "<br />\n",
    "$$\n",
    "\\begin{align}\n",
    "\\frac {\\sigma cost}{\\sigma \\hat{\\beta}} &= y^Ty - y^TX\\hat{\\beta} - \\hat{\\beta}^TX^Ty + X^TX\\hat{\\beta}^T\\hat{\\beta} &= 0\\\\\n",
    "\\frac {\\sigma cost}{\\sigma \\hat{\\beta}} &= -2X^Ty + 2X^TX\\hat{\\beta} &= 0\\\\\n",
    "X^Ty &= X^TX\\hat{\\beta}\n",
    "\\end{align}\n",
    "$$\n"
   ]
  },
  {
   "cell_type": "markdown",
   "metadata": {},
   "source": [
    "## 例子：房价分析\n",
    "---\n",
    "我将用于此示例的数据集是Windsor房价数据集，其中包含有关安大略省温莎市区房屋销售的信息。 输入变量涵盖了可能对房价产生影响的一系列因素，例如批量大小，卧室数量以及各种设施的存在。\n",
    "<br />\n",
    "我从[这个网站](https://vincentarelbundock.github.io/Rdatasets/datasets.html)下载了数据集，该网站提供了大量涵盖大量主题的数据集。"
   ]
  },
  {
   "cell_type": "code",
   "execution_count": 13,
   "metadata": {
    "collapsed": true
   },
   "outputs": [],
   "source": [
    "#读取数据\n",
    "import pandas as pd\n",
    "import numpy as np\n",
    "#dataframes\n",
    "housing_df = pd.read_csv('Housing.csv', delimiter = ',')"
   ]
  },
  {
   "cell_type": "markdown",
   "metadata": {},
   "source": [
    "从数据集中获取数据矩阵$X$以及房价的结果$y$"
   ]
  },
  {
   "cell_type": "code",
   "execution_count": 27,
   "metadata": {
    "collapsed": true
   },
   "outputs": [],
   "source": [
    "#dataframe 转 np矩阵\n",
    "data = np.array(housing_df)\n",
    "#获取所有房价信息，作为y值\n",
    "y = data[:,-1]\n",
    "#获取特征值矩阵\n",
    "X = data[:,:-1]\n",
    "#将最后10条数据取出来作为测试集\n",
    "n_train = len(y) - 10\n",
    "#y的训练集和预测集\n",
    "y_train = y[:-10] # >>> shape(536,)\n",
    "y_test = y[-10:]# >>> shape(10,)\n",
    "#构造数据的矩阵\n",
    "X_train = X[:-10, :] # >>> shape(536, 11)\n",
    "X_test = X[-10:, :] # >>> shape(10, 11)\n",
    "#添加一列1\n",
    "X_train = np.c_[np.ones((X_train.shape[0], 1)), X_train]\n",
    "X_test = np.c_[np.ones((10, 1)), X_test]"
   ]
  },
  {
   "cell_type": "markdown",
   "metadata": {},
   "source": [
    "利用我们在上文中得到的公式\n",
    "$$ X^Ty = X^TX\\hat{\\beta} $$\n",
    "计算$\\hat{\\beta}$\n",
    "<br />\n",
    "在这里我们使用\n",
    "```python\n",
    "np.linalg.solve()\n",
    "```\n",
    "来求解系统，得到$\\hat{\\beta}$\n",
    "\n",
    "---\n",
    "### numpy求解线性方程组的应用\n",
    "比方所对于方程组$ Ax = b$，我们有，\n",
    "\n",
    "```python\n",
    "x = np.linalg.solve(A,b)\n",
    "```"
   ]
  },
  {
   "cell_type": "code",
   "execution_count": 35,
   "metadata": {
    "collapsed": true
   },
   "outputs": [],
   "source": [
    "#利用线性方程组求解beta\n",
    "beta = np.linalg.solve(np.dot(X_train.T, X_train), np.dot(X_train.T, y_train))"
   ]
  },
  {
   "cell_type": "code",
   "execution_count": 36,
   "metadata": {},
   "outputs": [
    {
     "name": "stdout",
     "output_type": "stream",
     "text": [
      "prediction = 97360.65509691092 actual = 82500\n",
      "prediction = 71774.16590136984 actual = 83000\n",
      "prediction = 92359.0891976023 actual = 84000\n",
      "prediction = 77748.274237906 actual = 85000\n",
      "prediction = 91015.59030664091 actual = 85000\n",
      "prediction = 97545.11790473228 actual = 91500\n",
      "prediction = 97360.65509691092 actual = 94000\n",
      "prediction = 106006.80075598106 actual = 103000\n",
      "prediction = 92451.69312694679 actual = 105000\n",
      "prediction = 73458.29493810149 actual = 105000\n"
     ]
    }
   ],
   "source": [
    "y_hat = np.dot(X_test, beta)\n",
    "for idx, val in enumerate(y_hat):\n",
    "    print('prediction = '+str(val)+' actual = '+str(y_test[idx]))"
   ]
  },
  {
   "cell_type": "markdown",
   "metadata": {},
   "source": [
    "## 矩阵求导法则\n",
    "---\n",
    "- 前导不变，后导转置，$x$是变量矩阵，$a$和$b$为常量矩阵。那么我们有：\n",
    "$$\n",
    "    x = \\left[\n",
    "    \\begin{matrix}\n",
    "    x_1\\\\\n",
    "    x_2\\\\\n",
    "    \\vdots\\\\\n",
    "    x_m\\\\\n",
    "    \\end{matrix}\n",
    "    \\right]\n",
    "$$\n",
    "<br />\n",
    "<br />\n",
    "$$\n",
    "    a = \\left[\n",
    "    \\begin{matrix}\n",
    "    a_0\\\\\n",
    "    a_1\\\\\n",
    "    \\vdots\\\\\n",
    "    a_m\\\\\n",
    "    \\end{matrix}\n",
    "    \\right]\n",
    "$$\n",
    "<br />\n",
    "<br />\n",
    "$$\n",
    "    b = \n",
    "    \\left[\n",
    "    \\begin{matrix}\n",
    "    b_1 & b_2 & \\cdots & b_m\\\\\n",
    "    \\end{matrix}\n",
    "    \\right]\n",
    "$$\n",
    "<br />\n",
    "<br />\n",
    "后导：\n",
    "<br />\n",
    "$$\\frac {\\sigma (bTx)}{\\sigma x} = b^T$$\n",
    "前导：\n",
    "<br />\n",
    "$$\\frac {\\sigma (x^Ta)}{\\sigma x} = a$$"
   ]
  }
 ],
 "metadata": {
  "kernelspec": {
   "display_name": "Python 3",
   "language": "python",
   "name": "python3"
  },
  "language_info": {
   "codemirror_mode": {
    "name": "ipython",
    "version": 3
   },
   "file_extension": ".py",
   "mimetype": "text/x-python",
   "name": "python",
   "nbconvert_exporter": "python",
   "pygments_lexer": "ipython3",
   "version": "3.6.1"
  }
 },
 "nbformat": 4,
 "nbformat_minor": 2
}
