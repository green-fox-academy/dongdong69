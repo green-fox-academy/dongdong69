{
 "cells": [
  {
   "cell_type": "markdown",
   "metadata": {},
   "source": [
    "# Numpy tutorial in Chinese"
   ]
  },
  {
   "cell_type": "code",
   "execution_count": 2,
   "metadata": {},
   "outputs": [],
   "source": [
    "import numpy as np"
   ]
  },
  {
   "cell_type": "markdown",
   "metadata": {},
   "source": [
    "## 理解 Numpy\n",
    "---\n",
    "### 什么是 Numpy？\n",
    "NumPy是一个功能强大的Python库，主要用于对多维数组执行计算。 NumPy 来源于两个单词 **Numerical** 和 **Python**。NumPy提供了大量的库函数和操作，可以帮助程序员轻松地进行数值计算。这类数值计算广泛用于以下任务：\n",
    "</br>\n",
    "- **机器学习模型**：在编写机器学习算法时，需要对矩阵进行各种数值计算。例如矩阵乘法、换位、加法等。NumPy提供了一个非常好的库，用于简单(在编写代码方面)和快速(在速度方面)计算。NumPy数组用于存储训练数据和机器学习模型的参数。\n",
    "- **图像处理和计算机图形学**：计算机中的图像表示为多维数字数组。NumPy成为同样情况下最自然的选择。实际上，NumPy提供了一些优秀的库函数来快速处理图像。例如，镜像图像、按特定角度旋转图像等。\n",
    "- **数学任务**： NumPy对于执行各种数学任务非常有用，如数值积分、微分、内插、外推等。因此，当涉及到数学任务时，它形成了一种基于Python的MATLAB的快速替代。"
   ]
  },
  {
   "cell_type": "markdown",
   "metadata": {},
   "source": [
    "### NumPy 中的数组\n",
    "NumPy提供的最重要的数据结构是一个称为NumPy数组的强大对象。NumPy数组是通常的Python数组的扩展。NumPy数组配备了大量的函数和运算符，可以帮助我们快速编写上面讨论过的各种类型计算的高性能代码。\n",
    "</br>\n",
    "- .shape ： 输出数组的维度， 返回值类型为*tuple*\n",
    "```python\n",
    "np_array.shape\n",
    "```\n",
    "- [index：index]索引 : 输出切片后的数组， 返回值类型为*np array*或者*具体的值*\n",
    "```python\n",
    "#返回index=0时，array的值\n",
    "my_array[0]\n",
    "#返回index0到1的切片，返回值为array（左闭右开）\n",
    "my_array[0:1]\n",
    "#返回完整的array，常用于array的copy\n",
    "my_array[:]\n",
    "#二维数组的第二列\n",
    "my_2d_array[:, 1]\n",
    "```\n",
    "- np.zeros() 和 np.ones() : 创建一个numpy array，并用*o*或者*1*填充\n",
    "```python\n",
    "#创建一个长度为5的，用0填充的一维数组\n",
    "my_new_array = np.zeros((5))\n",
    "#创建一个2x3，用1填充的二维数组\n",
    "my_2d_array = np.zeros((2, 3))\n",
    "#创建一个用随机数填充的二维数组\n",
    "my_2d_array = np.random.random((2, 3))\n",
    "```"
   ]
  },
  {
   "cell_type": "markdown",
   "metadata": {},
   "source": [
    "### NumPy中的数组操作\n",
    "---\n",
    "使用NumPy，你可以轻松地在数组上执行数学运算。例如，你可以添加NumPy数组，你可以减去它们，你可以将它们相乘，甚至可以将它们分开。 以下是一些例子：\n",
    "```python\n",
    "a = np.array([[1.0, 2.0], [3.0, 4.0]]) \n",
    "b = np.array([[5.0, 6.0], [7.0, 8.0]]) \n",
    "sum = a + b \n",
    "difference = a - b\n",
    "#乘法运算符执行逐元素乘法而不是矩阵乘法\n",
    "product = a * b \n",
    "#矩阵乘法\n",
    "matrix_product = a.dot(b)\n",
    "quotient = a / b \n",
    "```"
   ]
  },
  {
   "cell_type": "markdown",
   "metadata": {},
   "source": [
    "### 为什么要使用NumPy\n",
    "---\n",
    "NumPy是Python中的一个运算速度非常快的一个数学库，它非常重视数组。它允许你在Python中进行向量和矩阵计算，***并且由于许多底层函数实际上是用C编写的***，因此你可以体验在原生Python中永远无法体验到的速度。"
   ]
  },
  {
   "cell_type": "markdown",
   "metadata": {},
   "source": [
    "### 创建数组\n",
    "---\n",
    "- **多维数组**： 为了创建一个2D（二维）数组，我们传递一个列表的列表（或者是一个序列的序列）给array()函数。如果我们想要一个3D（三维）数组，我们就要传递一个列表的列表的列表"
   ]
  },
  {
   "cell_type": "code",
   "execution_count": 3,
   "metadata": {},
   "outputs": [
    {
     "name": "stdout",
     "output_type": "stream",
     "text": [
      "[0 1 2 3 4]\n",
      "[0 1 2 3 4]\n",
      "[0 1 2 3 4]\n",
      "[0.         1.57079633 3.14159265 4.71238898 6.28318531]\n",
      "3\n"
     ]
    }
   ],
   "source": [
    "# 创建一维数组\n",
    "a = np.array([0, 1, 2, 3, 4])\n",
    "#你可以传递任何序列（类数组），而不仅仅是常见的列表（list）数据类型。\n",
    "b = np.array((0, 1, 2, 3, 4))\n",
    "c = np.arange(5)\n",
    "d = np.linspace(0, 2*np.pi, 5)\n",
    "\n",
    "print(a) # >>>[0 1 2 3 4]\n",
    "print(b) # >>>[0 1 2 3 4]\n",
    "print(c) # >>>[0 1 2 3 4]\n",
    "#当我们打印具有不同长度数字的数组时，它会自动将它们填充出来\n",
    "print(d) # >>>[ 0.          1.57079633  3.14159265  4.71238898  6.28318531]\n",
    "print(a[3]) # >>>3"
   ]
  },
  {
   "cell_type": "code",
   "execution_count": 4,
   "metadata": {},
   "outputs": [
    {
     "name": "stdout",
     "output_type": "stream",
     "text": [
      "25\n"
     ]
    }
   ],
   "source": [
    "# 二维数组\n",
    "a = np.array([[11, 12, 13, 14, 15],\n",
    "              [16, 17, 18, 19, 20],\n",
    "              [21, 22, 23, 24, 25],\n",
    "              [26, 27, 28 ,29, 30],\n",
    "              [31, 32, 33, 34, 35]])\n",
    "#三行五列\n",
    "print(a[2,4]) # >>>25"
   ]
  },
  {
   "cell_type": "markdown",
   "metadata": {},
   "source": [
    "### Jupyter notebook表示向量与矩阵"
   ]
  },
  {
   "cell_type": "code",
   "execution_count": null,
   "metadata": {},
   "outputs": [],
   "source": []
  }
 ],
 "metadata": {
  "kernelspec": {
   "display_name": "Python 3",
   "language": "python",
   "name": "python3"
  },
  "language_info": {
   "codemirror_mode": {
    "name": "ipython",
    "version": 3
   },
   "file_extension": ".py",
   "mimetype": "text/x-python",
   "name": "python",
   "nbconvert_exporter": "python",
   "pygments_lexer": "ipython3",
   "version": "3.7.0"
  }
 },
 "nbformat": 4,
 "nbformat_minor": 2
}
