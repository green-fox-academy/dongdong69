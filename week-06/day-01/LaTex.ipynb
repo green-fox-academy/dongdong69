{
 "cells": [
  {
   "cell_type": "markdown",
   "metadata": {},
   "source": [
    "# LaTex\n",
    "---\n",
    "- Basic formula\n",
    "```math\n",
    "$ ... $\n",
    "$ E=mc^2 $\n",
    "#Put in the center\n",
    "$$E=mc^2$$\n",
    "```\n",
    "$ E=mc^2 $\n",
    "$$E=mc^2$$\n",
    "- matrix\n",
    "```math\n",
    "$\\mathbf{M}$\n",
    "```\n",
    "$\\mathbf{M}$\n",
    "- vactor\n",
    "```math\n",
    "$\\va{M}$\n",
    "```\n",
    "$\\mathbf{M}$"
   ]
  },
  {
   "cell_type": "code",
   "execution_count": null,
   "metadata": {},
   "outputs": [],
   "source": []
  }
 ],
 "metadata": {
  "kernelspec": {
   "display_name": "Python 3",
   "language": "python",
   "name": "python3"
  },
  "language_info": {
   "codemirror_mode": {
    "name": "ipython",
    "version": 3
   },
   "file_extension": ".py",
   "mimetype": "text/x-python",
   "name": "python",
   "nbconvert_exporter": "python",
   "pygments_lexer": "ipython3",
   "version": "3.7.0"
  }
 },
 "nbformat": 4,
 "nbformat_minor": 2
}
